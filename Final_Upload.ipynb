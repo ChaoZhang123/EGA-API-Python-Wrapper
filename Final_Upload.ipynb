{
 "cells": [
  {
   "cell_type": "code",
   "execution_count": 1,
   "metadata": {
    "collapsed": true
   },
   "outputs": [],
   "source": [
    "from EGA import Session\n",
    "import json\n",
    "# Create a new Session\n",
    "newSession = Session()"
   ]
  },
  {
   "cell_type": "code",
   "execution_count": 2,
   "metadata": {
    "collapsed": false
   },
   "outputs": [
    {
     "data": {
      "text/plain": [
       "u'55f6dde90cf285a8dbc791cc'"
      ]
     },
     "execution_count": 2,
     "metadata": {},
     "output_type": "execute_result"
    }
   ],
   "source": [
    "# Create a new submit process\n",
    "newSession.submit.new('0914_2','A new submission case for final upload hopefully','0914_2')\n",
    "newSession.submit.submissionId"
   ]
  },
  {
   "cell_type": "code",
   "execution_count": 3,
   "metadata": {
    "collapsed": true
   },
   "outputs": [],
   "source": [
    "# Upload the xml files\n",
    "study_upload = newSession.submit.studies('xml/final/study.xml')\n",
    "sample_upload = newSession.submit.samples('xml/final/sample.xml')\n",
    "experiment_upload = newSession.submit.experiments('xml/final/Experiment_illumina_single.xml')\n",
    "run_upload = newSession.submit.runs('xml/final/run.xml')\n",
    "policy_upload = newSession.submit.policies('xml/final/Policy.xml')"
   ]
  },
  {
   "cell_type": "code",
   "execution_count": 4,
   "metadata": {
    "collapsed": false
   },
   "outputs": [
    {
     "data": {
      "text/plain": [
       "{u'header': {u'apiVersion': u'v1',\n",
       "  u'code': u'200',\n",
       "  u'developerMessage': u'',\n",
       "  u'docLink': u'https://ega.crg.eu',\n",
       "  u'errorCode': u'1',\n",
       "  u'errorStack': u'',\n",
       "  u'service': u'submitter',\n",
       "  u'userMessage': u'OK'},\n",
       " u'response': {u'numTotalResults': 1,\n",
       "  u'result': [{u'alias': u'412dba16-4b97-4e5c-8ccb-c76e12e10a0d',\n",
       "    u'analysisIds': None,\n",
       "    u'centerName': u'TEST_SUBMISSIONS',\n",
       "    u'creationTime': 1442242025934L,\n",
       "    u'dacIds': None,\n",
       "    u'datasetIds': None,\n",
       "    u'description': u'A new submission case for final upload hopefully',\n",
       "    u'ebiId': None,\n",
       "    u'ebiSubmissionDetailsIds': [u'55f6ddfb0cf285a8dbc791e1'],\n",
       "    u'editionTime': 1442242033568L,\n",
       "    u'egaAccessionId': None,\n",
       "    u'experimentIds': [u'55f6ddef0cf285a8dbc791d4',\n",
       "     u'55f6ddef0cf285a8dbc791d5',\n",
       "     u'55f6ddef0cf285a8dbc791d6'],\n",
       "    u'id': u'55f6dde90cf285a8dbc791cc',\n",
       "    u'json': None,\n",
       "    u'policyIds': [u'55f6ddf10cf285a8dbc791dc'],\n",
       "    u'runIds': [u'55f6ddf00cf285a8dbc791d8',\n",
       "     u'55f6ddf10cf285a8dbc791d9',\n",
       "     u'55f6ddf10cf285a8dbc791da'],\n",
       "    u'sampleIds': [u'55f6ddec0cf285a8dbc791d0',\n",
       "     u'55f6ddec0cf285a8dbc791d1',\n",
       "     u'55f6ddec0cf285a8dbc791d2'],\n",
       "    u'status': u'VALIDATED',\n",
       "    u'studyIds': [u'55f6ddeb0cf285a8dbc791ce'],\n",
       "    u'submissionProjectId': None,\n",
       "    u'submissionSubset': None,\n",
       "    u'submitterId': u'ega-box-85',\n",
       "    u'title': u'0914_2',\n",
       "    u'userId': u'5539055ee4b0780d14fa01f8',\n",
       "    u'validationError': [],\n",
       "    u'validationInfo': [u' Its ega submisison as PROTECT action is used',\n",
       "     u' PROTECT action for the following XML: study4863918094468124052.xml sample8255667377369086523.xml experiment8913455226571646128.xml run1602358699392123129.xml   policy311627754495823647.xml    '],\n",
       "    u'validationResult': True,\n",
       "    u'version': 1,\n",
       "    u'xml': None}],\n",
       "  u'resultType': u'eu.crg.ega.microservice.dto.submitter.SubmissionData'}}"
      ]
     },
     "execution_count": 4,
     "metadata": {},
     "output_type": "execute_result"
    }
   ],
   "source": [
    "# Validate\n",
    "# It is also possible to validate one by one\n",
    "validation = newSession.submit.validate()\n",
    "json.loads(validation.text)"
   ]
  },
  {
   "cell_type": "code",
   "execution_count": 5,
   "metadata": {
    "collapsed": false
   },
   "outputs": [
    {
     "data": {
      "text/plain": [
       "{u'header': {u'apiVersion': u'v1',\n",
       "  u'code': u'200',\n",
       "  u'developerMessage': u'',\n",
       "  u'docLink': u'https://ega.crg.eu',\n",
       "  u'errorCode': u'1',\n",
       "  u'errorStack': u'',\n",
       "  u'service': u'submitter',\n",
       "  u'userMessage': u'OK'},\n",
       " u'response': {u'numTotalResults': 1,\n",
       "  u'result': [{u'alias': u'd9ad3183-6120-496b-bb2b-6ccad0083976',\n",
       "    u'analysisIds': None,\n",
       "    u'centerName': u'TEST_SUBMISSIONS',\n",
       "    u'creationTime': 1442242025934L,\n",
       "    u'dacIds': None,\n",
       "    u'datasetIds': None,\n",
       "    u'description': u'A new submission case for final upload hopefully',\n",
       "    u'ebiId': None,\n",
       "    u'ebiSubmissionDetailsIds': [u'55f6ddfb0cf285a8dbc791e1',\n",
       "     u'55f6de3b0cf285a8dbc791e3'],\n",
       "    u'editionTime': 1442242033568L,\n",
       "    u'egaAccessionId': u'EGA00001202084',\n",
       "    u'experimentIds': [u'55f6ddef0cf285a8dbc791d4',\n",
       "     u'55f6ddef0cf285a8dbc791d5',\n",
       "     u'55f6ddef0cf285a8dbc791d6'],\n",
       "    u'id': u'55f6dde90cf285a8dbc791cc',\n",
       "    u'json': None,\n",
       "    u'policyIds': [u'55f6ddf10cf285a8dbc791dc'],\n",
       "    u'runIds': [u'55f6ddf00cf285a8dbc791d8',\n",
       "     u'55f6ddf10cf285a8dbc791d9',\n",
       "     u'55f6ddf10cf285a8dbc791da'],\n",
       "    u'sampleIds': [u'55f6ddec0cf285a8dbc791d0',\n",
       "     u'55f6ddec0cf285a8dbc791d1',\n",
       "     u'55f6ddec0cf285a8dbc791d2'],\n",
       "    u'status': u'PARTIALLY_SUBMITTED',\n",
       "    u'studyIds': [u'55f6ddeb0cf285a8dbc791ce'],\n",
       "    u'submissionProjectId': None,\n",
       "    u'submissionSubset': None,\n",
       "    u'submitterId': u'ega-box-85',\n",
       "    u'title': u'0914_2',\n",
       "    u'userId': u'5539055ee4b0780d14fa01f8',\n",
       "    u'validationError': [],\n",
       "    u'validationInfo': [u' Its ega submisison as PROTECT action is used',\n",
       "     u' PROTECT action for the following XML: study6980884568800112872.xml sample2761368830406494573.xml experiment2903417997774204300.xml run2807235931412531299.xml   policy1126816800422269275.xml    '],\n",
       "    u'validationResult': True,\n",
       "    u'version': 1,\n",
       "    u'xml': None}],\n",
       "  u'resultType': u'eu.crg.ega.microservice.dto.submitter.SubmissionData'}}"
      ]
     },
     "execution_count": 5,
     "metadata": {},
     "output_type": "execute_result"
    }
   ],
   "source": [
    "# Submit\n",
    "# It is also possible to submit one by one\n",
    "submission = newSession.submit.submit()\n",
    "json.loads(submission.text)"
   ]
  }
 ],
 "metadata": {
  "kernelspec": {
   "display_name": "Python 2",
   "language": "python",
   "name": "python2"
  },
  "language_info": {
   "codemirror_mode": {
    "name": "ipython",
    "version": 2
   },
   "file_extension": ".py",
   "mimetype": "text/x-python",
   "name": "python",
   "nbconvert_exporter": "python",
   "pygments_lexer": "ipython2",
   "version": "2.7.10"
  }
 },
 "nbformat": 4,
 "nbformat_minor": 0
}
