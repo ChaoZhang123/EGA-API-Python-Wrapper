{
 "cells": [
  {
   "cell_type": "markdown",
   "metadata": {},
   "source": [
    "# Data link check\n",
    "\n",
    "### Source\n",
    "https://docs.google.com/document/d/1fAthHTGs2Sipt5OZHuRrdWF6jEXO4Qvmx7L1Djcv-nE/edit \n",
    "\n",
    "### Date\n",
    "May.10"
   ]
  },
  {
   "cell_type": "code",
   "execution_count": 1,
   "metadata": {
    "collapsed": true
   },
   "outputs": [],
   "source": [
    "import requests\n",
    "import json\n",
    "import ssl"
   ]
  },
  {
   "cell_type": "code",
   "execution_count": 2,
   "metadata": {
    "collapsed": true
   },
   "outputs": [],
   "source": [
    "root_url = 'https://ega.crg.eu/metadata/v1/'"
   ]
  },
  {
   "cell_type": "code",
   "execution_count": 3,
   "metadata": {
    "collapsed": true
   },
   "outputs": [],
   "source": [
    "s = requests.session()"
   ]
  },
  {
   "cell_type": "markdown",
   "metadata": {},
   "source": [
    "### DAC"
   ]
  },
  {
   "cell_type": "code",
   "execution_count": 3,
   "metadata": {
    "collapsed": false
   },
   "outputs": [
    {
     "data": {
      "text/plain": [
       "'https://ega.crg.eu/metadata/v1/dacs'"
      ]
     },
     "execution_count": 3,
     "metadata": {},
     "output_type": "execute_result"
    }
   ],
   "source": [
    "root_url+'dacs'"
   ]
  },
  {
   "cell_type": "code",
   "execution_count": 19,
   "metadata": {
    "collapsed": false
   },
   "outputs": [],
   "source": [
    "dac_all = s.get(root_url+'dacs')"
   ]
  },
  {
   "cell_type": "code",
   "execution_count": 22,
   "metadata": {
    "collapsed": false
   },
   "outputs": [],
   "source": [
    "dac_all_json = json.loads(dac_all.text)"
   ]
  },
  {
   "cell_type": "code",
   "execution_count": 55,
   "metadata": {
    "collapsed": true
   },
   "outputs": [
    {
     "data": {
      "text/plain": [
       "['EGAC00001000031',\n",
       " 'EGAC00001000263',\n",
       " 'EGAC00001000426',\n",
       " 'EGAC00001000078',\n",
       " 'EGAC00001000153',\n",
       " 'EGAC00001000045',\n",
       " 'EGAC00001000413',\n",
       " 'EGAC00001000100',\n",
       " 'EGAC00001000337',\n",
       " 'EGAC00001000176']"
      ]
     },
     "execution_count": 55,
     "metadata": {},
     "output_type": "execute_result"
    }
   ],
   "source": [
    "# List EGAC ids\n",
    "[item['egaAccessionId'] for item in dac_all_json['response']['result']]"
   ]
  },
  {
   "cell_type": "markdown",
   "metadata": {},
   "source": [
    "### Does the list show the dacs available? 'EGAC00001000264' is not on the list, is it deleted?"
   ]
  },
  {
   "cell_type": "code",
   "execution_count": 47,
   "metadata": {
    "collapsed": true
   },
   "outputs": [],
   "source": [
    "dac_single = s.get(root_url+'dacs/EGAC00001000263')"
   ]
  },
  {
   "cell_type": "code",
   "execution_count": 48,
   "metadata": {
    "collapsed": true
   },
   "outputs": [
    {
     "data": {
      "text/plain": [
       "{'header': {'apiVersion': 'v1',\n",
       "  'code': '200',\n",
       "  'developerMessage': '',\n",
       "  'docLink': 'https://ega.crg.eu',\n",
       "  'errorCode': '1',\n",
       "  'errorStack': '',\n",
       "  'service': 'catalogservice',\n",
       "  'userMessage': 'OK'},\n",
       " 'response': {'numTotalResults': 1,\n",
       "  'result': [{'alias': 'ena-DAC-LGLS-03-11-2014-06:00:03:431-602',\n",
       "    'centerName': 'LGLS',\n",
       "    'contacts': None,\n",
       "    'creationTime': 1414991120000,\n",
       "    'ebiId': 'EGAC00001000263',\n",
       "    'ebiSubmissionDetailsIds': None,\n",
       "    'editionTime': 1414991120000,\n",
       "    'egaAccessionId': 'EGAC00001000263',\n",
       "    'eraSubmissionId': 'ERA374356',\n",
       "    'firstPublic': 1462896306844,\n",
       "    'id': 'EGAC00001000263',\n",
       "    'json': '\"\"',\n",
       "    'status': 'SUBMITTED',\n",
       "    'submissionCommandIds': None,\n",
       "    'submissionErrorMessages': None,\n",
       "    'submissionId': 'ERA374356',\n",
       "    'submissionInfoMessages': None,\n",
       "    'submitterId': 'ega-box-326',\n",
       "    'title': 'LG Life Sciences Data Access Committee',\n",
       "    'userId': None,\n",
       "    'validationErrorMessages': None,\n",
       "    'validationResult': False,\n",
       "    'version': 1,\n",
       "    'xml': \"<DAC_SET>  <DAC alias='ena-DAC-LGLS-03-11-2014-06:00:03:431-602' center_name='LGLS' accession='EGAC00001000263' broker_name='EGA'>    <IDENTIFIERS>      <PRIMARY_ID>EGAC00001000263</PRIMARY_ID>      <SUBMITTER_ID namespace='LGLS'>ena-DAC-LGLS-03-11-2014-06:00:03:431-602</SUBMITTER_ID>    </IDENTIFIERS>    <TITLE>LG Life Sciences Data Access Committee</TITLE>    <CONTACTS>      <CONTACT name='Eunji Shin' email='shineunji@lgls.com' telephone_number='82-42-870-6597' organisation='LG Life Sciences'/>    </CONTACTS>  </DAC></DAC_SET>\",\n",
       "    'xmlRootElement': None}],\n",
       "  'resultType': 'eu.crg.ega.microservice.dto.submitter.DacData'}}"
      ]
     },
     "execution_count": 48,
     "metadata": {},
     "output_type": "execute_result"
    }
   ],
   "source": [
    "# F\n",
    "json.loads(dac_single.text)"
   ]
  },
  {
   "cell_type": "markdown",
   "metadata": {},
   "source": [
    "### Analyses"
   ]
  },
  {
   "cell_type": "code",
   "execution_count": 49,
   "metadata": {
    "collapsed": true
   },
   "outputs": [],
   "source": [
    "analyses_all = s.get(root_url+'analyses')\n",
    "analyses_all_json = json.loads(analyses_all.text)"
   ]
  },
  {
   "cell_type": "code",
   "execution_count": 54,
   "metadata": {
    "collapsed": true
   },
   "outputs": [
    {
     "data": {
      "text/plain": [
       "[{'alias': 'CompleteGenomics.GS000020189.ASM.GS02098.DNA.D06.MAP.GS61884.FS3.L07.reads.GS61884.FS3.L07.008.tsv.bz2.gpg',\n",
       "  'analysisCenter': None,\n",
       "  'analysisDate': None,\n",
       "  'analysisFileType': 'other',\n",
       "  'analysisType': 'SEQUENCE_VARIATION',\n",
       "  'analysisTypeId': None,\n",
       "  'attributes': None,\n",
       "  'centerName': 'RUNMC',\n",
       "  'chromosomeReferences': None,\n",
       "  'chromosomeValues': None,\n",
       "  'creationTime': 1447427971000,\n",
       "  'description': '50 trios were whole genome sequenced with Complete Genomics to a depth of 80x. Each trio the child was affected with severe ID, and the parents were unaffected. All trios were negative for array, targeted gene and whole exome screening.',\n",
       "  'ebiId': 'ERZ131905',\n",
       "  'ebiSubmissionDetailsIds': None,\n",
       "  'editionTime': 1447427971000,\n",
       "  'egaAccessionId': 'EGAZ00001100051',\n",
       "  'eraSubmissionId': 'ERA534960',\n",
       "  'experimentType': ['Whole genome sequencing'],\n",
       "  'experimentTypeId': None,\n",
       "  'files': [{'checksum': None,\n",
       "    'checksumMethod': None,\n",
       "    'fileId': None,\n",
       "    'fileName': 'CompleteGenomics/GS000020189-ASM/GS02098-DNA_D06/MAP/GS61884-FS3-L07/reads_GS61884-FS3-L07_008.tsv.bz2.gpg',\n",
       "    'source': None,\n",
       "    'unencryptedChecksum': None}],\n",
       "  'firstPublic': 1462896990207,\n",
       "  'genome': 'GRCh37',\n",
       "  'genomeId': None,\n",
       "  'id': 'ERZ131905',\n",
       "  'json': '\"\"',\n",
       "  'platform': None,\n",
       "  'sampleReferences': None,\n",
       "  'status': 'SUBMITTED',\n",
       "  'studyId': 'ERP005592',\n",
       "  'submissionCommandIds': None,\n",
       "  'submissionErrorMessages': None,\n",
       "  'submissionId': 'ERA534960',\n",
       "  'submissionInfoMessages': None,\n",
       "  'submitterId': 'ega-box-126',\n",
       "  'title': 'Whole genome sequencing of 50 trios, where the child is affected with ID, and the parents are unaffected',\n",
       "  'userId': None,\n",
       "  'validationErrorMessages': None,\n",
       "  'validationResult': False,\n",
       "  'version': 1,\n",
       "  'xml': \"<ANALYSIS_SET>  <ANALYSIS alias='CompleteGenomics.GS000020189.ASM.GS02098.DNA.D06.MAP.GS61884.FS3.L07.reads.GS61884.FS3.L07.008.tsv.bz2.gpg' center_name='RUNMC' broker_name='EGA' accession='ERZ131905'>    <IDENTIFIERS>      <PRIMARY_ID>ERZ131905</PRIMARY_ID>      <SUBMITTER_ID namespace='RUNMC'>CompleteGenomics.GS000020189.ASM.GS02098.DNA.D06.MAP.GS61884.FS3.L07.reads.GS61884.FS3.L07.008.tsv.bz2.gpg</SUBMITTER_ID>    </IDENTIFIERS>    <TITLE>Whole genome sequencing of 50 trios, where the child is affected with ID, and the parents are unaffected</TITLE>    <DESCRIPTION>50 trios were whole genome sequenced with Complete Genomics to a depth of 80x. Each trio the child was affected with severe ID, and the parents were unaffected. All trios were negative for array, targeted gene and whole exome screening.</DESCRIPTION>    <STUDY_REF accession='ERP005592' refcenter='RUNMC' refname='ena-STUDY-RUNMC-15-04-2014-16:49:54:970-106'>      <IDENTIFIERS>        <PRIMARY_ID>ERP005592</PRIMARY_ID>        <SUBMITTER_ID namespace='RUNMC'>ena-STUDY-RUNMC-15-04-2014-16:49:54:970-106</SUBMITTER_ID>      </IDENTIFIERS>    </STUDY_REF>    <SAMPLE_REF accession='ERS463443' refcenter='RUNMC' label='BvB1_F' refname='trio14_F'>      <IDENTIFIERS>        <PRIMARY_ID>ERS463443</PRIMARY_ID>        <SUBMITTER_ID namespace='RUNMC'>trio14_F</SUBMITTER_ID>      </IDENTIFIERS>    </SAMPLE_REF>    <ANALYSIS_TYPE>      <SEQUENCE_VARIATION>        <ASSEMBLY>          <STANDARD refname='GRCh37' accession='GCA_000001405.1'/>        </ASSEMBLY>        <SEQUENCE accession='NC_000001.9' label='chr1'/>        <SEQUENCE accession='NC_000002.10' label='chr2'/>        <SEQUENCE accession='NC_000003.10' label='chr3'/>        <SEQUENCE accession='NC_000004.10' label='chr4'/>        <SEQUENCE accession='NC_000005.8' label='chr5'/>        <SEQUENCE accession='NC_000006.10' label='chr6'/>        <SEQUENCE accession='NC_000007.12' label='chr7'/>        <SEQUENCE accession='NC_000008.9' label='chr8'/>        <SEQUENCE accession='NC_000009.10' label='chr9'/>        <SEQUENCE accession='NC_000010.9' label='chr10'/>        <SEQUENCE accession='NC_000011.8' label='chr11'/>        <SEQUENCE accession='NC_000012.10' label='chr12'/>        <SEQUENCE accession='NC_000013.9' label='chr13'/>        <SEQUENCE accession='NC_000014.7' label='chr14'/>        <SEQUENCE accession='NC_000015.8' label='chr15'/>        <SEQUENCE accession='NC_000016.8' label='chr16'/>        <SEQUENCE accession='NC_000017.9' label='chr17'/>        <SEQUENCE accession='NC_000018.8' label='chr18'/>        <SEQUENCE accession='NC_000019.8' label='chr19'/>        <SEQUENCE accession='NC_000020.9' label='chr20'/>        <SEQUENCE accession='NC_000021.7' label='chr21'/>        <SEQUENCE accession='NC_000022.9' label='chr22'/>        <SEQUENCE accession='NC_000023.9' label='chrX'/>        <SEQUENCE accession='NC_000024.8' label='chrY'/>        <SEQUENCE accession='NC_001807.4' label='chrM'/>        <EXPERIMENT_TYPE>Whole genome sequencing</EXPERIMENT_TYPE>      </SEQUENCE_VARIATION>    </ANALYSIS_TYPE>    <FILES>      <FILE filename='CompleteGenomics/GS000020189-ASM/GS02098-DNA_D06/MAP/GS61884-FS3-L07/reads_GS61884-FS3-L07_008.tsv.bz2.gpg' filetype='other' checksum_method='MD5' checksum='5f4ef194fbbe9d568671c1d4fe45625c' unencrypted_checksum='2935806147ecc169c18e5c2e1216af50'/>    </FILES>    <ANALYSIS_ATTRIBUTES>      <ANALYSIS_ATTRIBUTE>        <TAG>library_strategy</TAG>        <VALUE>WGS</VALUE>      </ANALYSIS_ATTRIBUTE>      <ANALYSIS_ATTRIBUTE>        <TAG>library_layout</TAG>        <VALUE>PAIRED</VALUE>      </ANALYSIS_ATTRIBUTE>    </ANALYSIS_ATTRIBUTES>  </ANALYSIS></ANALYSIS_SET>\",\n",
       "  'xmlRootElement': None},\n",
       " {'alias': 'uk10k_tamp5103528.rel-2013-04-20.vcf.gz-vcf_analysis-sc-20130524',\n",
       "  'analysisCenter': None,\n",
       "  'analysisDate': None,\n",
       "  'analysisFileType': 'vcf',\n",
       "  'analysisType': 'SEQUENCE_VARIATION',\n",
       "  'analysisTypeId': None,\n",
       "  'attributes': None,\n",
       "  'centerName': 'SC',\n",
       "  'chromosomeReferences': None,\n",
       "  'chromosomeValues': None,\n",
       "  'creationTime': 1369387705000,\n",
       "  'description': 'UK10K_NEURO_ASD_TAMPERE.REL-2013-04-20.variant_calling',\n",
       "  'ebiId': 'ERZ013530',\n",
       "  'ebiSubmissionDetailsIds': None,\n",
       "  'editionTime': 1369387705000,\n",
       "  'egaAccessionId': 'EGAZ00001013168',\n",
       "  'eraSubmissionId': 'ERA220624',\n",
       "  'experimentType': [None],\n",
       "  'experimentTypeId': None,\n",
       "  'files': [{'checksum': None,\n",
       "    'checksumMethod': None,\n",
       "    'fileId': None,\n",
       "    'fileName': 'UK10K_TAMP5103528.REL-2013-04-20.vcf.gz',\n",
       "    'source': None,\n",
       "    'unencryptedChecksum': None}],\n",
       "  'firstPublic': 1462896990207,\n",
       "  'genome': 'GRCh37',\n",
       "  'genomeId': None,\n",
       "  'id': 'ERZ013530',\n",
       "  'json': '\"\"',\n",
       "  'platform': None,\n",
       "  'sampleReferences': None,\n",
       "  'status': 'SUBMITTED',\n",
       "  'studyId': 'ERP000851',\n",
       "  'submissionCommandIds': None,\n",
       "  'submissionErrorMessages': None,\n",
       "  'submissionId': 'ERA220624',\n",
       "  'submissionInfoMessages': None,\n",
       "  'submitterId': 'ega-box-03',\n",
       "  'title': 'UK10K_NEURO_ASD_TAMPERE REL-2013-04-20 Variant Calls',\n",
       "  'userId': None,\n",
       "  'validationErrorMessages': None,\n",
       "  'validationResult': False,\n",
       "  'version': 1,\n",
       "  'xml': \"<ANALYSIS_SET>  <ANALYSIS alias='uk10k_tamp5103528.rel-2013-04-20.vcf.gz-vcf_analysis-sc-20130524' center_name='SC' broker_name='EGA' analysis_center='SC' accession='ERZ013530'>    <IDENTIFIERS>      <PRIMARY_ID>ERZ013530</PRIMARY_ID>      <SUBMITTER_ID namespace='SC'>uk10k_tamp5103528.rel-2013-04-20.vcf.gz-vcf_analysis-sc-20130524</SUBMITTER_ID>    </IDENTIFIERS>    <TITLE>UK10K_NEURO_ASD_TAMPERE REL-2013-04-20 Variant Calls</TITLE>    <DESCRIPTION>UK10K_NEURO_ASD_TAMPERE.REL-2013-04-20.variant_calling</DESCRIPTION>    <STUDY_REF refname='UK10K_exome_sequence__Tampere_samples-sc-2011-08-18T14:31:13Z-1789' refcenter='SC' accession='ERP000851'>      <IDENTIFIERS>        <PRIMARY_ID>ERP000851</PRIMARY_ID>        <SUBMITTER_ID namespace='SC'>UK10K_exome_sequence__Tampere_samples-sc-2011-08-18T14:31:13Z-1789</SUBMITTER_ID>      </IDENTIFIERS>    </STUDY_REF>    <SAMPLE_REF accession='ERS033022' refcenter='SC' label='UK10K_TAMP5103528' refname='UK10K_TAMP5103528-sc-2011-05-04T10:55:31Z-1127404'>      <IDENTIFIERS>        <PRIMARY_ID>ERS033022</PRIMARY_ID>        <SUBMITTER_ID namespace='SC'>UK10K_TAMP5103528-sc-2011-05-04T10:55:31Z-1127404</SUBMITTER_ID>      </IDENTIFIERS>    </SAMPLE_REF>    <ANALYSIS_TYPE>      <SEQUENCE_VARIATION>        <ASSEMBLY>          <STANDARD refname='GRCh37'/>        </ASSEMBLY>      </SEQUENCE_VARIATION>    </ANALYSIS_TYPE>    <FILES>      <FILE filename='UK10K_TAMP5103528.REL-2013-04-20.vcf.gz' filetype='vcf' checksum_method='MD5' checksum='539edae44f04a9de25b755ab38c3179f' unencrypted_checksum='d062b44357539d63bf514768895c7f83'/>    </FILES>  </ANALYSIS></ANALYSIS_SET>\",\n",
       "  'xmlRootElement': None},\n",
       " {'alias': 'CompleteGenomics.GS000021047.ASM.GS02099.DNA.E03.ASM.EVIDENCE.evidenceDnbs.chr9.GS000021047.ASM.tsv.bz2.gpg',\n",
       "  'analysisCenter': None,\n",
       "  'analysisDate': None,\n",
       "  'analysisFileType': 'other',\n",
       "  'analysisType': 'SEQUENCE_VARIATION',\n",
       "  'analysisTypeId': None,\n",
       "  'attributes': None,\n",
       "  'centerName': 'RUNMC',\n",
       "  'chromosomeReferences': None,\n",
       "  'chromosomeValues': None,\n",
       "  'creationTime': 1447431757000,\n",
       "  'description': '50 trios were whole genome sequenced with Complete Genomics to a depth of 80x. Each trio the child was affected with severe ID, and the parents were unaffected. All trios were negative for array, targeted gene and whole exome screening.',\n",
       "  'ebiId': 'ERZ167080',\n",
       "  'ebiSubmissionDetailsIds': None,\n",
       "  'editionTime': 1447431757000,\n",
       "  'egaAccessionId': 'EGAZ00001135226',\n",
       "  'eraSubmissionId': 'ERA535018',\n",
       "  'experimentType': ['Whole genome sequencing'],\n",
       "  'experimentTypeId': None,\n",
       "  'files': [{'checksum': None,\n",
       "    'checksumMethod': None,\n",
       "    'fileId': None,\n",
       "    'fileName': 'CompleteGenomics/GS000021047-ASM/GS02099-DNA_E03/ASM/EVIDENCE/evidenceDnbs-chr9-GS000021047-ASM.tsv.bz2.gpg',\n",
       "    'source': None,\n",
       "    'unencryptedChecksum': None}],\n",
       "  'firstPublic': 1462896990207,\n",
       "  'genome': 'GRCh37',\n",
       "  'genomeId': None,\n",
       "  'id': 'ERZ167080',\n",
       "  'json': '\"\"',\n",
       "  'platform': None,\n",
       "  'sampleReferences': None,\n",
       "  'status': 'SUBMITTED',\n",
       "  'studyId': 'ERP005592',\n",
       "  'submissionCommandIds': None,\n",
       "  'submissionErrorMessages': None,\n",
       "  'submissionId': 'ERA535018',\n",
       "  'submissionInfoMessages': None,\n",
       "  'submitterId': 'ega-box-126',\n",
       "  'title': 'Whole genome sequencing of 50 trios, where the child is affected with ID, and the parents are unaffected',\n",
       "  'userId': None,\n",
       "  'validationErrorMessages': None,\n",
       "  'validationResult': False,\n",
       "  'version': 1,\n",
       "  'xml': \"<ANALYSIS_SET>  <ANALYSIS alias='CompleteGenomics.GS000021047.ASM.GS02099.DNA.E03.ASM.EVIDENCE.evidenceDnbs.chr9.GS000021047.ASM.tsv.bz2.gpg' center_name='RUNMC' broker_name='EGA' accession='ERZ167080'>    <IDENTIFIERS>      <PRIMARY_ID>ERZ167080</PRIMARY_ID>      <SUBMITTER_ID namespace='RUNMC'>CompleteGenomics.GS000021047.ASM.GS02099.DNA.E03.ASM.EVIDENCE.evidenceDnbs.chr9.GS000021047.ASM.tsv.bz2.gpg</SUBMITTER_ID>    </IDENTIFIERS>    <TITLE>Whole genome sequencing of 50 trios, where the child is affected with ID, and the parents are unaffected</TITLE>    <DESCRIPTION>50 trios were whole genome sequenced with Complete Genomics to a depth of 80x. Each trio the child was affected with severe ID, and the parents were unaffected. All trios were negative for array, targeted gene and whole exome screening.</DESCRIPTION>    <STUDY_REF accession='ERP005592' refcenter='RUNMC' refname='ena-STUDY-RUNMC-15-04-2014-16:49:54:970-106'>      <IDENTIFIERS>        <PRIMARY_ID>ERP005592</PRIMARY_ID>        <SUBMITTER_ID namespace='RUNMC'>ena-STUDY-RUNMC-15-04-2014-16:49:54:970-106</SUBMITTER_ID>      </IDENTIFIERS>    </STUDY_REF>    <SAMPLE_REF accession='ERS463447' refcenter='RUNMC' label='BvB4_M' refname='trio15_M'>      <IDENTIFIERS>        <PRIMARY_ID>ERS463447</PRIMARY_ID>        <SUBMITTER_ID namespace='RUNMC'>trio15_M</SUBMITTER_ID>      </IDENTIFIERS>    </SAMPLE_REF>    <ANALYSIS_TYPE>      <SEQUENCE_VARIATION>        <ASSEMBLY>          <STANDARD refname='GRCh37' accession='GCA_000001405.1'/>        </ASSEMBLY>        <SEQUENCE accession='NC_000001.9' label='chr1'/>        <SEQUENCE accession='NC_000002.10' label='chr2'/>        <SEQUENCE accession='NC_000003.10' label='chr3'/>        <SEQUENCE accession='NC_000004.10' label='chr4'/>        <SEQUENCE accession='NC_000005.8' label='chr5'/>        <SEQUENCE accession='NC_000006.10' label='chr6'/>        <SEQUENCE accession='NC_000007.12' label='chr7'/>        <SEQUENCE accession='NC_000008.9' label='chr8'/>        <SEQUENCE accession='NC_000009.10' label='chr9'/>        <SEQUENCE accession='NC_000010.9' label='chr10'/>        <SEQUENCE accession='NC_000011.8' label='chr11'/>        <SEQUENCE accession='NC_000012.10' label='chr12'/>        <SEQUENCE accession='NC_000013.9' label='chr13'/>        <SEQUENCE accession='NC_000014.7' label='chr14'/>        <SEQUENCE accession='NC_000015.8' label='chr15'/>        <SEQUENCE accession='NC_000016.8' label='chr16'/>        <SEQUENCE accession='NC_000017.9' label='chr17'/>        <SEQUENCE accession='NC_000018.8' label='chr18'/>        <SEQUENCE accession='NC_000019.8' label='chr19'/>        <SEQUENCE accession='NC_000020.9' label='chr20'/>        <SEQUENCE accession='NC_000021.7' label='chr21'/>        <SEQUENCE accession='NC_000022.9' label='chr22'/>        <SEQUENCE accession='NC_000023.9' label='chrX'/>        <SEQUENCE accession='NC_000024.8' label='chrY'/>        <SEQUENCE accession='NC_001807.4' label='chrM'/>        <EXPERIMENT_TYPE>Whole genome sequencing</EXPERIMENT_TYPE>      </SEQUENCE_VARIATION>    </ANALYSIS_TYPE>    <FILES>      <FILE filename='CompleteGenomics/GS000021047-ASM/GS02099-DNA_E03/ASM/EVIDENCE/evidenceDnbs-chr9-GS000021047-ASM.tsv.bz2.gpg' filetype='other' checksum_method='MD5' checksum='139886f04f7c57d41d93fcbf3262914f' unencrypted_checksum='7d401eb0e82d55318096352b5dbb2a0c'/>    </FILES>    <ANALYSIS_ATTRIBUTES>      <ANALYSIS_ATTRIBUTE>        <TAG>library_strategy</TAG>        <VALUE>WGS</VALUE>      </ANALYSIS_ATTRIBUTE>      <ANALYSIS_ATTRIBUTE>        <TAG>library_layout</TAG>        <VALUE>PAIRED</VALUE>      </ANALYSIS_ATTRIBUTE>    </ANALYSIS_ATTRIBUTES>  </ANALYSIS></ANALYSIS_SET>\",\n",
       "  'xmlRootElement': None},\n",
       " {'alias': 'evidenceIntervals-chr6-GS000021173-ASM-2',\n",
       "  'analysisCenter': None,\n",
       "  'analysisDate': None,\n",
       "  'analysisFileType': 'other',\n",
       "  'analysisType': 'SEQUENCE_VARIATION',\n",
       "  'analysisTypeId': None,\n",
       "  'attributes': None,\n",
       "  'centerName': 'TCAG',\n",
       "  'chromosomeReferences': None,\n",
       "  'chromosomeValues': None,\n",
       "  'creationTime': 1420817650000,\n",
       "  'description': 'Autism spectrum disorder (ASD) is genetically heterogeneous with &gt;100 susceptibility genes known. We used whole-genome sequencing (WGS) of 85 quartet families (two parents and two ASD-affected siblings) to comprehensively examine mutation characteristics. Our results emphasize using WGS to maximize the detection of all classes of mutations potentially involved in autism, and to enable the interpretation of that data in confirmatory and predictive diagnosis in different individuals in a family.',\n",
       "  'ebiId': 'ERZ065346',\n",
       "  'ebiSubmissionDetailsIds': None,\n",
       "  'editionTime': 1440141039000,\n",
       "  'egaAccessionId': 'EGAZ00001054658',\n",
       "  'eraSubmissionId': 'ERA399700',\n",
       "  'experimentType': ['Whole genome sequencing'],\n",
       "  'experimentTypeId': None,\n",
       "  'files': [{'checksum': None,\n",
       "    'checksumMethod': None,\n",
       "    'fileId': None,\n",
       "    'fileName': 'EGAS00001001023/1-0479-006/ASM/EVIDENCE/evidenceIntervals-chr6-GS000021173-ASM.tsv.bz2.gpg',\n",
       "    'source': None,\n",
       "    'unencryptedChecksum': None}],\n",
       "  'firstPublic': 1462896990207,\n",
       "  'genome': 'GRCh37',\n",
       "  'genomeId': None,\n",
       "  'id': 'ERZ065346',\n",
       "  'json': '\"\"',\n",
       "  'platform': None,\n",
       "  'sampleReferences': None,\n",
       "  'status': 'SUBMITTED',\n",
       "  'studyId': 'ERP008564',\n",
       "  'submissionCommandIds': None,\n",
       "  'submissionErrorMessages': None,\n",
       "  'submissionId': 'ERA399700',\n",
       "  'submissionInfoMessages': None,\n",
       "  'submitterId': 'ega-box-255',\n",
       "  'title': 'Whole-genome sequencing of quartet families with Autism Spectrum Disorder',\n",
       "  'userId': None,\n",
       "  'validationErrorMessages': None,\n",
       "  'validationResult': False,\n",
       "  'version': 2,\n",
       "  'xml': \"<ANALYSIS_SET>  <ANALYSIS alias='evidenceIntervals-chr6-GS000021173-ASM-2' center_name='TCAG' broker_name='EGA' accession='ERZ065346'>    <IDENTIFIERS>      <PRIMARY_ID>ERZ065346</PRIMARY_ID>      <SUBMITTER_ID namespace='TCAG'>evidenceIntervals-chr6-GS000021173-ASM-2</SUBMITTER_ID>    </IDENTIFIERS>    <TITLE>Whole-genome sequencing of quartet families with Autism Spectrum Disorder</TITLE>    <DESCRIPTION>Autism spectrum disorder (ASD) is genetically heterogeneous with &gt;100 susceptibility genes known. We used whole-genome sequencing (WGS) of 85 quartet families (two parents and two ASD-affected siblings) to comprehensively examine mutation characteristics. Our results emphasize using WGS to maximize the detection of all classes of mutations potentially involved in autism, and to enable the interpretation of that data in confirmatory and predictive diagnosis in different individuals in a family.</DESCRIPTION>    <STUDY_REF accession='ERP008564' refcenter='TCAG' refname='ena-STUDY-TCAG-31-10-2014-02:16:08:608-471'>      <IDENTIFIERS>        <PRIMARY_ID>ERP008564</PRIMARY_ID>        <SUBMITTER_ID namespace='TCAG'>ena-STUDY-TCAG-31-10-2014-02:16:08:608-471</SUBMITTER_ID>      </IDENTIFIERS>    </STUDY_REF>    <SAMPLE_REF refname='GS01800-DNA_D03' refcenter='TCAG' label='1-0479-006' accession='ERS638091'>      <IDENTIFIERS>        <PRIMARY_ID>ERS638091</PRIMARY_ID>        <SUBMITTER_ID namespace='TCAG'>GS01800-DNA_D03</SUBMITTER_ID>      </IDENTIFIERS>    </SAMPLE_REF>    <ANALYSIS_TYPE>      <SEQUENCE_VARIATION>        <ASSEMBLY>          <STANDARD refname='GRCh37' accession='GCA_000001405.1'/>        </ASSEMBLY>        <SEQUENCE accession='CM000663.1' label='chr1'/>        <SEQUENCE accession='CM000664.1' label='chr2'/>        <SEQUENCE accession='CM000665.1' label='chr3'/>        <SEQUENCE accession='CM000666.1' label='chr4'/>        <SEQUENCE accession='CM000667.1' label='chr5'/>        <SEQUENCE accession='CM000668.1' label='chr6'/>        <SEQUENCE accession='CM000669.1' label='chr7'/>        <SEQUENCE accession='CM000670.1' label='chr8'/>        <SEQUENCE accession='CM000671.1' label='chr9'/>        <SEQUENCE accession='CM000672.1' label='chr10'/>        <SEQUENCE accession='CM000673.1' label='chr11'/>        <SEQUENCE accession='CM000674.1' label='chr12'/>        <SEQUENCE accession='CM000675.1' label='chr13'/>        <SEQUENCE accession='CM000676.1' label='chr14'/>        <SEQUENCE accession='CM000677.1' label='chr15'/>        <SEQUENCE accession='CM000678.1' label='chr16'/>        <SEQUENCE accession='CM000679.1' label='chr17'/>        <SEQUENCE accession='CM000680.1' label='chr18'/>        <SEQUENCE accession='CM000681.1' label='chr19'/>        <SEQUENCE accession='CM000682.1' label='chr20'/>        <SEQUENCE accession='CM000683.1' label='chr21'/>        <SEQUENCE accession='CM000684.1' label='chr22'/>        <SEQUENCE accession='CM000685.1' label='chrX'/>        <SEQUENCE accession='CM000686.1' label='chrY'/>        <SEQUENCE accession='J01415.2' label='chrM'/>        <EXPERIMENT_TYPE>Whole genome sequencing</EXPERIMENT_TYPE>      </SEQUENCE_VARIATION>    </ANALYSIS_TYPE>    <FILES>      <FILE filename='EGAS00001001023/1-0479-006/ASM/EVIDENCE/evidenceIntervals-chr6-GS000021173-ASM.tsv.bz2.gpg' filetype='other' checksum_method='MD5' checksum='92b370731c59676c5ee3dcb45bd44a23' unencrypted_checksum='ff63995f5f8013b582aafd458293bac1'/>    </FILES>    <ANALYSIS_ATTRIBUTES>      <ANALYSIS_ATTRIBUTE>        <TAG>library_strategy</TAG>        <VALUE>WGS</VALUE>      </ANALYSIS_ATTRIBUTE>      <ANALYSIS_ATTRIBUTE>        <TAG>library_layout</TAG>        <VALUE>PAIRED</VALUE>      </ANALYSIS_ATTRIBUTE>    </ANALYSIS_ATTRIBUTES>  </ANALYSIS></ANALYSIS_SET>\",\n",
       "  'xmlRootElement': None},\n",
       " {'alias': 'BBMRI-RP3-rnaseq-analysis-AD1NAMACXX-8-6',\n",
       "  'analysisCenter': None,\n",
       "  'analysisDate': None,\n",
       "  'analysisFileType': 'bam',\n",
       "  'analysisType': 'REFERENCE_ALIGNMENT',\n",
       "  'analysisTypeId': None,\n",
       "  'attributes': None,\n",
       "  'centerName': 'LUMC-SASC',\n",
       "  'chromosomeReferences': None,\n",
       "  'chromosomeValues': None,\n",
       "  'creationTime': 1425062183000,\n",
       "  'description': 'PreprocessingThe quality of the raw reads was checked using FastQC [http://www.bioinformatics.babraham.ac.uk/projects/fastqc/]. The adaptors identified by FastQC (v0.10.1) were clipped using cutadapt (v1.1) applying default settings (min overlap 3, min length). Sickle (v1.200) [1] was used to trim low quality ends of the reads (min length 25, min quality 20).AlignmentRead alignment was performed using STAR 2.3.0e. To avoid reference mapping bias all GoNL SNPs with MAF &gt; 0.01 in the reference genome were masked with N. Read pairs with at most 8 mismatches, mapping to at most 5 positions were used.',\n",
       "  'ebiId': 'ERZ095179',\n",
       "  'ebiSubmissionDetailsIds': None,\n",
       "  'editionTime': 1440140952000,\n",
       "  'egaAccessionId': 'EGAZ00001082732',\n",
       "  'eraSubmissionId': 'ERA413460',\n",
       "  'experimentType': [None],\n",
       "  'experimentTypeId': None,\n",
       "  'files': [{'checksum': None,\n",
       "    'checksumMethod': None,\n",
       "    'fileId': None,\n",
       "    'fileName': 'AD1NAMACXX-8-6.sorted.bam',\n",
       "    'source': None,\n",
       "    'unencryptedChecksum': None}],\n",
       "  'firstPublic': 1462896990207,\n",
       "  'genome': None,\n",
       "  'genomeId': None,\n",
       "  'id': 'ERZ095179',\n",
       "  'json': '\"\"',\n",
       "  'platform': None,\n",
       "  'sampleReferences': None,\n",
       "  'status': 'SUBMITTED',\n",
       "  'studyId': 'ERP008966',\n",
       "  'submissionCommandIds': None,\n",
       "  'submissionErrorMessages': None,\n",
       "  'submissionId': 'ERA413460',\n",
       "  'submissionInfoMessages': None,\n",
       "  'submitterId': 'ega-box-289',\n",
       "  'title': 'BBMRI-RP3-rnaseq-analysis-AD1NAMACXX-8-6',\n",
       "  'userId': None,\n",
       "  'validationErrorMessages': None,\n",
       "  'validationResult': False,\n",
       "  'version': 2,\n",
       "  'xml': \"<ANALYSIS_SET>  <ANALYSIS xmlns:xsi='http://www.w3.org/2001/XMLSchema-instance' alias='BBMRI-RP3-rnaseq-analysis-AD1NAMACXX-8-6' center_name='LUMC-SASC' accession='ERZ095179' broker_name='EGA'>    <IDENTIFIERS>      <PRIMARY_ID>ERZ095179</PRIMARY_ID>      <SUBMITTER_ID namespace='LUMC-SASC'>BBMRI-RP3-rnaseq-analysis-AD1NAMACXX-8-6</SUBMITTER_ID>    </IDENTIFIERS>    <TITLE>BBMRI-RP3-rnaseq-analysis-AD1NAMACXX-8-6</TITLE>    <DESCRIPTION>PreprocessingThe quality of the raw reads was checked using FastQC [http://www.bioinformatics.babraham.ac.uk/projects/fastqc/]. The adaptors identified by FastQC (v0.10.1) were clipped using cutadapt (v1.1) applying default settings (min overlap 3, min length). Sickle (v1.200) [1] was used to trim low quality ends of the reads (min length 25, min quality 20).AlignmentRead alignment was performed using STAR 2.3.0e. To avoid reference mapping bias all GoNL SNPs with MAF &gt; 0.01 in the reference genome were masked with N. Read pairs with at most 8 mismatches, mapping to at most 5 positions were used.</DESCRIPTION>    <STUDY_REF accession='ERP008966' refname='ena-STUDY-LUMC-SASC-09-12-2014-14:26:14:037-105' refcenter='LUMC-SASC'>      <IDENTIFIERS>        <PRIMARY_ID>ERP008966</PRIMARY_ID>        <SUBMITTER_ID namespace='LUMC-SASC'>ena-STUDY-LUMC-SASC-09-12-2014-14:26:14:037-105</SUBMITTER_ID>      </IDENTIFIERS>    </STUDY_REF>    <SAMPLE_REF refname='BIOS7196294C' accession='ERS648871' refcenter='LUMC-SASC'>      <IDENTIFIERS>        <PRIMARY_ID>ERS648871</PRIMARY_ID>        <SUBMITTER_ID namespace='LUMC-SASC'>BIOS7196294C</SUBMITTER_ID>      </IDENTIFIERS>    </SAMPLE_REF>    <ANALYSIS_TYPE>      <REFERENCE_ALIGNMENT>        <SEQUENCE accession='EGAZ00001082102'/>      </REFERENCE_ALIGNMENT>    </ANALYSIS_TYPE>    <FILES>      <FILE filename='AD1NAMACXX-8-6.sorted.bam' filetype='bam' checksum_method='MD5' checksum='c512749693c4b59e45fb583e4395a0cc' unencrypted_checksum='2c3c267bc1c8255880b90446a6ac793b'/>    </FILES>  </ANALYSIS></ANALYSIS_SET>\",\n",
       "  'xmlRootElement': None},\n",
       " {'alias': 'CompleteGenomics.GS000022841.ASM.GS02103.DNA.E01.MAP.GS68405.FS3.L08.reads.GS68405.FS3.L08.007.tsv.bz2.gpg',\n",
       "  'analysisCenter': None,\n",
       "  'analysisDate': None,\n",
       "  'analysisFileType': 'other',\n",
       "  'analysisType': 'SEQUENCE_VARIATION',\n",
       "  'analysisTypeId': None,\n",
       "  'attributes': None,\n",
       "  'centerName': 'RUNMC',\n",
       "  'chromosomeReferences': None,\n",
       "  'chromosomeValues': None,\n",
       "  'creationTime': 1447436317000,\n",
       "  'description': '50 trios were whole genome sequenced with Complete Genomics to a depth of 80x. Each trio the child was affected with severe ID, and the parents were unaffected. All trios were negative for array, targeted gene and whole exome screening.',\n",
       "  'ebiId': 'ERZ207830',\n",
       "  'ebiSubmissionDetailsIds': None,\n",
       "  'editionTime': 1447436317000,\n",
       "  'egaAccessionId': 'EGAZ00001175976',\n",
       "  'eraSubmissionId': 'ERA535081',\n",
       "  'experimentType': ['Whole genome sequencing'],\n",
       "  'experimentTypeId': None,\n",
       "  'files': [{'checksum': None,\n",
       "    'checksumMethod': None,\n",
       "    'fileId': None,\n",
       "    'fileName': 'CompleteGenomics/GS000022841-ASM/GS02103-DNA_E01/MAP/GS68405-FS3-L08/reads_GS68405-FS3-L08_007.tsv.bz2.gpg',\n",
       "    'source': None,\n",
       "    'unencryptedChecksum': None}],\n",
       "  'firstPublic': 1462896990207,\n",
       "  'genome': 'GRCh37',\n",
       "  'genomeId': None,\n",
       "  'id': 'ERZ207830',\n",
       "  'json': '\"\"',\n",
       "  'platform': None,\n",
       "  'sampleReferences': None,\n",
       "  'status': 'SUBMITTED',\n",
       "  'studyId': 'ERP005592',\n",
       "  'submissionCommandIds': None,\n",
       "  'submissionErrorMessages': None,\n",
       "  'submissionId': 'ERA535081',\n",
       "  'submissionInfoMessages': None,\n",
       "  'submitterId': 'ega-box-126',\n",
       "  'title': 'Whole genome sequencing of 50 trios, where the child is affected with ID, and the parents are unaffected',\n",
       "  'userId': None,\n",
       "  'validationErrorMessages': None,\n",
       "  'validationResult': False,\n",
       "  'version': 1,\n",
       "  'xml': \"<ANALYSIS_SET>  <ANALYSIS alias='CompleteGenomics.GS000022841.ASM.GS02103.DNA.E01.MAP.GS68405.FS3.L08.reads.GS68405.FS3.L08.007.tsv.bz2.gpg' center_name='RUNMC' broker_name='EGA' accession='ERZ207830'>    <IDENTIFIERS>      <PRIMARY_ID>ERZ207830</PRIMARY_ID>      <SUBMITTER_ID namespace='RUNMC'>CompleteGenomics.GS000022841.ASM.GS02103.DNA.E01.MAP.GS68405.FS3.L08.reads.GS68405.FS3.L08.007.tsv.bz2.gpg</SUBMITTER_ID>    </IDENTIFIERS>    <TITLE>Whole genome sequencing of 50 trios, where the child is affected with ID, and the parents are unaffected</TITLE>    <DESCRIPTION>50 trios were whole genome sequenced with Complete Genomics to a depth of 80x. Each trio the child was affected with severe ID, and the parents were unaffected. All trios were negative for array, targeted gene and whole exome screening.</DESCRIPTION>    <STUDY_REF accession='ERP005592' refcenter='RUNMC' refname='ena-STUDY-RUNMC-15-04-2014-16:49:54:970-106'>      <IDENTIFIERS>        <PRIMARY_ID>ERP005592</PRIMARY_ID>        <SUBMITTER_ID namespace='RUNMC'>ena-STUDY-RUNMC-15-04-2014-16:49:54:970-106</SUBMITTER_ID>      </IDENTIFIERS>    </STUDY_REF>    <SAMPLE_REF accession='ERS463456' refcenter='RUNMC' label='MW38_M' refname='trio18_M'>      <IDENTIFIERS>        <PRIMARY_ID>ERS463456</PRIMARY_ID>        <SUBMITTER_ID namespace='RUNMC'>trio18_M</SUBMITTER_ID>      </IDENTIFIERS>    </SAMPLE_REF>    <ANALYSIS_TYPE>      <SEQUENCE_VARIATION>        <ASSEMBLY>          <STANDARD refname='GRCh37' accession='GCA_000001405.1'/>        </ASSEMBLY>        <SEQUENCE accession='NC_000001.9' label='chr1'/>        <SEQUENCE accession='NC_000002.10' label='chr2'/>        <SEQUENCE accession='NC_000003.10' label='chr3'/>        <SEQUENCE accession='NC_000004.10' label='chr4'/>        <SEQUENCE accession='NC_000005.8' label='chr5'/>        <SEQUENCE accession='NC_000006.10' label='chr6'/>        <SEQUENCE accession='NC_000007.12' label='chr7'/>        <SEQUENCE accession='NC_000008.9' label='chr8'/>        <SEQUENCE accession='NC_000009.10' label='chr9'/>        <SEQUENCE accession='NC_000010.9' label='chr10'/>        <SEQUENCE accession='NC_000011.8' label='chr11'/>        <SEQUENCE accession='NC_000012.10' label='chr12'/>        <SEQUENCE accession='NC_000013.9' label='chr13'/>        <SEQUENCE accession='NC_000014.7' label='chr14'/>        <SEQUENCE accession='NC_000015.8' label='chr15'/>        <SEQUENCE accession='NC_000016.8' label='chr16'/>        <SEQUENCE accession='NC_000017.9' label='chr17'/>        <SEQUENCE accession='NC_000018.8' label='chr18'/>        <SEQUENCE accession='NC_000019.8' label='chr19'/>        <SEQUENCE accession='NC_000020.9' label='chr20'/>        <SEQUENCE accession='NC_000021.7' label='chr21'/>        <SEQUENCE accession='NC_000022.9' label='chr22'/>        <SEQUENCE accession='NC_000023.9' label='chrX'/>        <SEQUENCE accession='NC_000024.8' label='chrY'/>        <SEQUENCE accession='NC_001807.4' label='chrM'/>        <EXPERIMENT_TYPE>Whole genome sequencing</EXPERIMENT_TYPE>      </SEQUENCE_VARIATION>    </ANALYSIS_TYPE>    <FILES>      <FILE filename='CompleteGenomics/GS000022841-ASM/GS02103-DNA_E01/MAP/GS68405-FS3-L08/reads_GS68405-FS3-L08_007.tsv.bz2.gpg' filetype='other' checksum_method='MD5' checksum='a3fa89f06ef5e044e37cd85475fff6dd' unencrypted_checksum='298e1298b8a348d2cd8aab433b659f20'/>    </FILES>    <ANALYSIS_ATTRIBUTES>      <ANALYSIS_ATTRIBUTE>        <TAG>library_strategy</TAG>        <VALUE>WGS</VALUE>      </ANALYSIS_ATTRIBUTE>      <ANALYSIS_ATTRIBUTE>        <TAG>library_layout</TAG>        <VALUE>PAIRED</VALUE>      </ANALYSIS_ATTRIBUTE>    </ANALYSIS_ATTRIBUTES>  </ANALYSIS></ANALYSIS_SET>\",\n",
       "  'xmlRootElement': None},\n",
       " {'alias': 'evidenceDnbs-chr3-GS000037884-ASM-1',\n",
       "  'analysisCenter': None,\n",
       "  'analysisDate': None,\n",
       "  'analysisFileType': 'other',\n",
       "  'analysisType': 'SEQUENCE_VARIATION',\n",
       "  'analysisTypeId': None,\n",
       "  'attributes': None,\n",
       "  'centerName': 'TCAG_HSC',\n",
       "  'chromosomeReferences': None,\n",
       "  'chromosomeValues': None,\n",
       "  'creationTime': 1449863657000,\n",
       "  'description': 'Whole-genome sequencing analysis',\n",
       "  'ebiId': 'ERZ248114',\n",
       "  'ebiSubmissionDetailsIds': None,\n",
       "  'editionTime': 1449863657000,\n",
       "  'egaAccessionId': 'EGAZ00001213204',\n",
       "  'eraSubmissionId': 'ERA542699',\n",
       "  'experimentType': ['Whole genome sequencing'],\n",
       "  'experimentTypeId': None,\n",
       "  'files': [{'checksum': None,\n",
       "    'checksumMethod': None,\n",
       "    'fileId': None,\n",
       "    'fileName': 'EGAS00001001623/1083/ASM/EVIDENCE/evidenceDnbs-chr3-GS000037884-ASM.tsv.bz2.gpg',\n",
       "    'source': None,\n",
       "    'unencryptedChecksum': None}],\n",
       "  'firstPublic': 1462896990207,\n",
       "  'genome': 'GRCh37',\n",
       "  'genomeId': None,\n",
       "  'id': 'ERZ248114',\n",
       "  'json': '\"\"',\n",
       "  'platform': None,\n",
       "  'sampleReferences': None,\n",
       "  'status': 'SUBMITTED',\n",
       "  'studyId': 'ERP013400',\n",
       "  'submissionCommandIds': None,\n",
       "  'submissionErrorMessages': None,\n",
       "  'submissionId': 'ERA542699',\n",
       "  'submissionInfoMessages': None,\n",
       "  'submitterId': 'ega-box-403',\n",
       "  'title': 'Complete Genomics analysis',\n",
       "  'userId': None,\n",
       "  'validationErrorMessages': None,\n",
       "  'validationResult': False,\n",
       "  'version': 1,\n",
       "  'xml': \"<ANALYSIS_SET>  <ANALYSIS alias='evidenceDnbs-chr3-GS000037884-ASM-1' center_name='TCAG_HSC' broker_name='EGA' accession='ERZ248114'>    <IDENTIFIERS>      <PRIMARY_ID>ERZ248114</PRIMARY_ID>      <SUBMITTER_ID namespace='TCAG_HSC'>evidenceDnbs-chr3-GS000037884-ASM-1</SUBMITTER_ID>    </IDENTIFIERS>    <TITLE>Complete Genomics analysis</TITLE>    <DESCRIPTION>Whole-genome sequencing analysis</DESCRIPTION>    <STUDY_REF accession='ERP013400' refcenter='TCAG_HSC' refname='ena-STUDY-TCAG_HSC-01-12-2015-15:57:57:548-35'>      <IDENTIFIERS>        <PRIMARY_ID>ERP013400</PRIMARY_ID>        <SUBMITTER_ID namespace='TCAG_HSC'>ena-STUDY-TCAG_HSC-01-12-2015-15:57:57:548-35</SUBMITTER_ID>      </IDENTIFIERS>    </STUDY_REF>    <SAMPLE_REF refname='GS02914-DNA_G01' refcenter='TCAG_HSC' label='' accession='ERS1015505'>      <IDENTIFIERS>        <PRIMARY_ID>ERS1015505</PRIMARY_ID>        <SUBMITTER_ID namespace='TCAG_HSC'>GS02914-DNA_G01</SUBMITTER_ID>      </IDENTIFIERS>    </SAMPLE_REF>    <ANALYSIS_TYPE>      <SEQUENCE_VARIATION>        <ASSEMBLY>          <STANDARD refname='GRCh37' accession='GCA_000001405.1'/>        </ASSEMBLY>        <SEQUENCE accession='CM000663.1' label='chr1'/>        <SEQUENCE accession='CM000664.1' label='chr2'/>        <SEQUENCE accession='CM000665.1' label='chr3'/>        <SEQUENCE accession='CM000666.1' label='chr4'/>        <SEQUENCE accession='CM000667.1' label='chr5'/>        <SEQUENCE accession='CM000668.1' label='chr6'/>        <SEQUENCE accession='CM000669.1' label='chr7'/>        <SEQUENCE accession='CM000670.1' label='chr8'/>        <SEQUENCE accession='CM000671.1' label='chr9'/>        <SEQUENCE accession='CM000672.1' label='chr10'/>        <SEQUENCE accession='CM000673.1' label='chr11'/>        <SEQUENCE accession='CM000674.1' label='chr12'/>        <SEQUENCE accession='CM000675.1' label='chr13'/>        <SEQUENCE accession='CM000676.1' label='chr14'/>        <SEQUENCE accession='CM000677.1' label='chr15'/>        <SEQUENCE accession='CM000678.1' label='chr16'/>        <SEQUENCE accession='CM000679.1' label='chr17'/>        <SEQUENCE accession='CM000680.1' label='chr18'/>        <SEQUENCE accession='CM000681.1' label='chr19'/>        <SEQUENCE accession='CM000682.1' label='chr20'/>        <SEQUENCE accession='CM000683.1' label='chr21'/>        <SEQUENCE accession='CM000684.1' label='chr22'/>        <SEQUENCE accession='CM000685.1' label='chrX'/>        <SEQUENCE accession='CM000686.1' label='chrY'/>        <SEQUENCE accession='J01415.2' label='chrM'/>        <EXPERIMENT_TYPE>Whole genome sequencing</EXPERIMENT_TYPE>      </SEQUENCE_VARIATION>    </ANALYSIS_TYPE>    <FILES>      <FILE filename='EGAS00001001623/1083/ASM/EVIDENCE/evidenceDnbs-chr3-GS000037884-ASM.tsv.bz2.gpg' filetype='other' checksum_method='MD5' checksum='0e6bd931b604fe4b1d7450cb2d380cd5' unencrypted_checksum='e39c66d935420c722a0ea0af07310eda'/>    </FILES>    <ANALYSIS_ATTRIBUTES>      <ANALYSIS_ATTRIBUTE>        <TAG>library_strategy</TAG>        <VALUE>WGS</VALUE>      </ANALYSIS_ATTRIBUTE>      <ANALYSIS_ATTRIBUTE>        <TAG>library_layout</TAG>        <VALUE>PAIRED</VALUE>      </ANALYSIS_ATTRIBUTE>    </ANALYSIS_ATTRIBUTES>  </ANALYSIS></ANALYSIS_SET>\",\n",
       "  'xmlRootElement': None},\n",
       " {'alias': 'evidenceIntervals-chr13-GS000012485-ASM-2',\n",
       "  'analysisCenter': None,\n",
       "  'analysisDate': None,\n",
       "  'analysisFileType': 'other',\n",
       "  'analysisType': 'SEQUENCE_VARIATION',\n",
       "  'analysisTypeId': None,\n",
       "  'attributes': None,\n",
       "  'centerName': 'TCAG',\n",
       "  'chromosomeReferences': None,\n",
       "  'chromosomeValues': None,\n",
       "  'creationTime': 1420818070000,\n",
       "  'description': 'Autism spectrum disorder (ASD) is genetically heterogeneous with &gt;100 susceptibility genes known. We used whole-genome sequencing (WGS) of 85 quartet families (two parents and two ASD-affected siblings) to comprehensively examine mutation characteristics. Our results emphasize using WGS to maximize the detection of all classes of mutations potentially involved in autism, and to enable the interpretation of that data in confirmatory and predictive diagnosis in different individuals in a family.',\n",
       "  'ebiId': 'ERZ073249',\n",
       "  'ebiSubmissionDetailsIds': None,\n",
       "  'editionTime': 1440140579000,\n",
       "  'egaAccessionId': 'EGAZ00001062561',\n",
       "  'eraSubmissionId': 'ERA399768',\n",
       "  'experimentType': ['Whole genome sequencing'],\n",
       "  'experimentTypeId': None,\n",
       "  'files': [{'checksum': None,\n",
       "    'checksumMethod': None,\n",
       "    'fileId': None,\n",
       "    'fileName': 'EGAS00001001023/2-0171-004/ASM/EVIDENCE/evidenceIntervals-chr13-GS000012485-ASM.tsv.bz2.gpg',\n",
       "    'source': None,\n",
       "    'unencryptedChecksum': None}],\n",
       "  'firstPublic': 1462896990207,\n",
       "  'genome': 'GRCh37',\n",
       "  'genomeId': None,\n",
       "  'id': 'ERZ073249',\n",
       "  'json': '\"\"',\n",
       "  'platform': None,\n",
       "  'sampleReferences': None,\n",
       "  'status': 'SUBMITTED',\n",
       "  'studyId': 'ERP008564',\n",
       "  'submissionCommandIds': None,\n",
       "  'submissionErrorMessages': None,\n",
       "  'submissionId': 'ERA399768',\n",
       "  'submissionInfoMessages': None,\n",
       "  'submitterId': 'ega-box-255',\n",
       "  'title': 'Whole-genome sequencing of quartet families with Autism Spectrum Disorder',\n",
       "  'userId': None,\n",
       "  'validationErrorMessages': None,\n",
       "  'validationResult': False,\n",
       "  'version': 2,\n",
       "  'xml': \"<ANALYSIS_SET>  <ANALYSIS alias='evidenceIntervals-chr13-GS000012485-ASM-2' center_name='TCAG' broker_name='EGA' accession='ERZ073249'>    <IDENTIFIERS>      <PRIMARY_ID>ERZ073249</PRIMARY_ID>      <SUBMITTER_ID namespace='TCAG'>evidenceIntervals-chr13-GS000012485-ASM-2</SUBMITTER_ID>    </IDENTIFIERS>    <TITLE>Whole-genome sequencing of quartet families with Autism Spectrum Disorder</TITLE>    <DESCRIPTION>Autism spectrum disorder (ASD) is genetically heterogeneous with &gt;100 susceptibility genes known. We used whole-genome sequencing (WGS) of 85 quartet families (two parents and two ASD-affected siblings) to comprehensively examine mutation characteristics. Our results emphasize using WGS to maximize the detection of all classes of mutations potentially involved in autism, and to enable the interpretation of that data in confirmatory and predictive diagnosis in different individuals in a family.</DESCRIPTION>    <STUDY_REF accession='ERP008564' refcenter='TCAG' refname='ena-STUDY-TCAG-31-10-2014-02:16:08:608-471'>      <IDENTIFIERS>        <PRIMARY_ID>ERP008564</PRIMARY_ID>        <SUBMITTER_ID namespace='TCAG'>ena-STUDY-TCAG-31-10-2014-02:16:08:608-471</SUBMITTER_ID>      </IDENTIFIERS>    </STUDY_REF>    <SAMPLE_REF refname='GS01451-DNA_D04' refcenter='TCAG' label='2-0171-004' accession='ERS637883'>      <IDENTIFIERS>        <PRIMARY_ID>ERS637883</PRIMARY_ID>        <SUBMITTER_ID namespace='TCAG'>GS01451-DNA_D04</SUBMITTER_ID>      </IDENTIFIERS>    </SAMPLE_REF>    <ANALYSIS_TYPE>      <SEQUENCE_VARIATION>        <ASSEMBLY>          <STANDARD refname='GRCh37' accession='GCA_000001405.1'/>        </ASSEMBLY>        <SEQUENCE accession='CM000663.1' label='chr1'/>        <SEQUENCE accession='CM000664.1' label='chr2'/>        <SEQUENCE accession='CM000665.1' label='chr3'/>        <SEQUENCE accession='CM000666.1' label='chr4'/>        <SEQUENCE accession='CM000667.1' label='chr5'/>        <SEQUENCE accession='CM000668.1' label='chr6'/>        <SEQUENCE accession='CM000669.1' label='chr7'/>        <SEQUENCE accession='CM000670.1' label='chr8'/>        <SEQUENCE accession='CM000671.1' label='chr9'/>        <SEQUENCE accession='CM000672.1' label='chr10'/>        <SEQUENCE accession='CM000673.1' label='chr11'/>        <SEQUENCE accession='CM000674.1' label='chr12'/>        <SEQUENCE accession='CM000675.1' label='chr13'/>        <SEQUENCE accession='CM000676.1' label='chr14'/>        <SEQUENCE accession='CM000677.1' label='chr15'/>        <SEQUENCE accession='CM000678.1' label='chr16'/>        <SEQUENCE accession='CM000679.1' label='chr17'/>        <SEQUENCE accession='CM000680.1' label='chr18'/>        <SEQUENCE accession='CM000681.1' label='chr19'/>        <SEQUENCE accession='CM000682.1' label='chr20'/>        <SEQUENCE accession='CM000683.1' label='chr21'/>        <SEQUENCE accession='CM000684.1' label='chr22'/>        <SEQUENCE accession='CM000685.1' label='chrX'/>        <SEQUENCE accession='CM000686.1' label='chrY'/>        <SEQUENCE accession='J01415.2' label='chrM'/>        <EXPERIMENT_TYPE>Whole genome sequencing</EXPERIMENT_TYPE>      </SEQUENCE_VARIATION>    </ANALYSIS_TYPE>    <FILES>      <FILE filename='EGAS00001001023/2-0171-004/ASM/EVIDENCE/evidenceIntervals-chr13-GS000012485-ASM.tsv.bz2.gpg' filetype='other' checksum_method='MD5' checksum='26f75adb06c48f923a5ac08631d92a76' unencrypted_checksum='46cfd24b8e92fdcfbe72b04ea4168afd'/>    </FILES>    <ANALYSIS_ATTRIBUTES>      <ANALYSIS_ATTRIBUTE>        <TAG>library_strategy</TAG>        <VALUE>WGS</VALUE>      </ANALYSIS_ATTRIBUTE>      <ANALYSIS_ATTRIBUTE>        <TAG>library_layout</TAG>        <VALUE>PAIRED</VALUE>      </ANALYSIS_ATTRIBUTE>    </ANALYSIS_ATTRIBUTES>  </ANALYSIS></ANALYSIS_SET>\",\n",
       "  'xmlRootElement': None},\n",
       " {'alias': 'highConfidenceSvEventsBeta-GS000011129-ASM-2',\n",
       "  'analysisCenter': None,\n",
       "  'analysisDate': None,\n",
       "  'analysisFileType': 'other',\n",
       "  'analysisType': 'SEQUENCE_VARIATION',\n",
       "  'analysisTypeId': None,\n",
       "  'attributes': None,\n",
       "  'centerName': 'TCAG',\n",
       "  'chromosomeReferences': None,\n",
       "  'chromosomeValues': None,\n",
       "  'creationTime': 1420818685000,\n",
       "  'description': 'Autism spectrum disorder (ASD) is genetically heterogeneous with &gt;100 susceptibility genes known. We used whole-genome sequencing (WGS) of 85 quartet families (two parents and two ASD-affected siblings) to comprehensively examine mutation characteristics. Our results emphasize using WGS to maximize the detection of all classes of mutations potentially involved in autism, and to enable the interpretation of that data in confirmatory and predictive diagnosis in different individuals in a family.',\n",
       "  'ebiId': 'ERZ084589',\n",
       "  'ebiSubmissionDetailsIds': None,\n",
       "  'editionTime': 1440140809000,\n",
       "  'egaAccessionId': 'EGAZ00001073901',\n",
       "  'eraSubmissionId': 'ERA399865',\n",
       "  'experimentType': ['Whole genome sequencing'],\n",
       "  'experimentTypeId': None,\n",
       "  'files': [{'checksum': None,\n",
       "    'checksumMethod': None,\n",
       "    'fileId': None,\n",
       "    'fileName': 'EGAS00001001023/2-1258-001/ASM/SV/highConfidenceSvEventsBeta-GS000011129-ASM.tsv.gpg',\n",
       "    'source': None,\n",
       "    'unencryptedChecksum': None}],\n",
       "  'firstPublic': 1462896990207,\n",
       "  'genome': 'GRCh37',\n",
       "  'genomeId': None,\n",
       "  'id': 'ERZ084589',\n",
       "  'json': '\"\"',\n",
       "  'platform': None,\n",
       "  'sampleReferences': None,\n",
       "  'status': 'SUBMITTED',\n",
       "  'studyId': 'ERP008564',\n",
       "  'submissionCommandIds': None,\n",
       "  'submissionErrorMessages': None,\n",
       "  'submissionId': 'ERA399865',\n",
       "  'submissionInfoMessages': None,\n",
       "  'submitterId': 'ega-box-255',\n",
       "  'title': 'Whole-genome sequencing of quartet families with Autism Spectrum Disorder',\n",
       "  'userId': None,\n",
       "  'validationErrorMessages': None,\n",
       "  'validationResult': False,\n",
       "  'version': 2,\n",
       "  'xml': \"<ANALYSIS_SET>  <ANALYSIS alias='highConfidenceSvEventsBeta-GS000011129-ASM-2' center_name='TCAG' broker_name='EGA' accession='ERZ084589'>    <IDENTIFIERS>      <PRIMARY_ID>ERZ084589</PRIMARY_ID>      <SUBMITTER_ID namespace='TCAG'>highConfidenceSvEventsBeta-GS000011129-ASM-2</SUBMITTER_ID>    </IDENTIFIERS>    <TITLE>Whole-genome sequencing of quartet families with Autism Spectrum Disorder</TITLE>    <DESCRIPTION>Autism spectrum disorder (ASD) is genetically heterogeneous with &gt;100 susceptibility genes known. We used whole-genome sequencing (WGS) of 85 quartet families (two parents and two ASD-affected siblings) to comprehensively examine mutation characteristics. Our results emphasize using WGS to maximize the detection of all classes of mutations potentially involved in autism, and to enable the interpretation of that data in confirmatory and predictive diagnosis in different individuals in a family.</DESCRIPTION>    <STUDY_REF accession='ERP008564' refcenter='TCAG' refname='ena-STUDY-TCAG-31-10-2014-02:16:08:608-471'>      <IDENTIFIERS>        <PRIMARY_ID>ERP008564</PRIMARY_ID>        <SUBMITTER_ID namespace='TCAG'>ena-STUDY-TCAG-31-10-2014-02:16:08:608-471</SUBMITTER_ID>      </IDENTIFIERS>    </STUDY_REF>    <SAMPLE_REF refname='GS01271-DNA_A01' refcenter='TCAG' label='2-1258-001' accession='ERS637816'>      <IDENTIFIERS>        <PRIMARY_ID>ERS637816</PRIMARY_ID>        <SUBMITTER_ID namespace='TCAG'>GS01271-DNA_A01</SUBMITTER_ID>      </IDENTIFIERS>    </SAMPLE_REF>    <ANALYSIS_TYPE>      <SEQUENCE_VARIATION>        <ASSEMBLY>          <STANDARD refname='GRCh37' accession='GCA_000001405.1'/>        </ASSEMBLY>        <SEQUENCE accession='CM000663.1' label='chr1'/>        <SEQUENCE accession='CM000664.1' label='chr2'/>        <SEQUENCE accession='CM000665.1' label='chr3'/>        <SEQUENCE accession='CM000666.1' label='chr4'/>        <SEQUENCE accession='CM000667.1' label='chr5'/>        <SEQUENCE accession='CM000668.1' label='chr6'/>        <SEQUENCE accession='CM000669.1' label='chr7'/>        <SEQUENCE accession='CM000670.1' label='chr8'/>        <SEQUENCE accession='CM000671.1' label='chr9'/>        <SEQUENCE accession='CM000672.1' label='chr10'/>        <SEQUENCE accession='CM000673.1' label='chr11'/>        <SEQUENCE accession='CM000674.1' label='chr12'/>        <SEQUENCE accession='CM000675.1' label='chr13'/>        <SEQUENCE accession='CM000676.1' label='chr14'/>        <SEQUENCE accession='CM000677.1' label='chr15'/>        <SEQUENCE accession='CM000678.1' label='chr16'/>        <SEQUENCE accession='CM000679.1' label='chr17'/>        <SEQUENCE accession='CM000680.1' label='chr18'/>        <SEQUENCE accession='CM000681.1' label='chr19'/>        <SEQUENCE accession='CM000682.1' label='chr20'/>        <SEQUENCE accession='CM000683.1' label='chr21'/>        <SEQUENCE accession='CM000684.1' label='chr22'/>        <SEQUENCE accession='CM000685.1' label='chrX'/>        <SEQUENCE accession='CM000686.1' label='chrY'/>        <SEQUENCE accession='J01415.2' label='chrM'/>        <EXPERIMENT_TYPE>Whole genome sequencing</EXPERIMENT_TYPE>      </SEQUENCE_VARIATION>    </ANALYSIS_TYPE>    <FILES>      <FILE filename='EGAS00001001023/2-1258-001/ASM/SV/highConfidenceSvEventsBeta-GS000011129-ASM.tsv.gpg' filetype='other' checksum_method='MD5' checksum='a073a60b640f8c7d1c63dedf830e0032' unencrypted_checksum='c6feb500c17b634b9fed08be646932b3'/>    </FILES>    <ANALYSIS_ATTRIBUTES>      <ANALYSIS_ATTRIBUTE>        <TAG>library_strategy</TAG>        <VALUE>WGS</VALUE>      </ANALYSIS_ATTRIBUTE>      <ANALYSIS_ATTRIBUTE>        <TAG>library_layout</TAG>        <VALUE>PAIRED</VALUE>      </ANALYSIS_ATTRIBUTE>    </ANALYSIS_ATTRIBUTES>  </ANALYSIS></ANALYSIS_SET>\",\n",
       "  'xmlRootElement': None},\n",
       " {'alias': 'SC_DDDP118448_EGAN00001293854.vcf.gz',\n",
       "  'analysisCenter': None,\n",
       "  'analysisDate': None,\n",
       "  'analysisFileType': 'vcf',\n",
       "  'analysisType': 'SEQUENCE_VARIATION',\n",
       "  'analysisTypeId': None,\n",
       "  'attributes': None,\n",
       "  'centerName': 'SC',\n",
       "  'chromosomeReferences': None,\n",
       "  'chromosomeValues': None,\n",
       "  'creationTime': 1449491738000,\n",
       "  'description': 'DDD DATAFREEZE 2014-11-04: 4294 trios - VCF files',\n",
       "  'ebiId': 'ERZ239074',\n",
       "  'ebiSubmissionDetailsIds': None,\n",
       "  'editionTime': 1449491738000,\n",
       "  'egaAccessionId': 'EGAZ00001204192',\n",
       "  'eraSubmissionId': 'ERA542321',\n",
       "  'experimentType': ['Exome sequencing'],\n",
       "  'experimentTypeId': None,\n",
       "  'files': [{'checksum': None,\n",
       "    'checksumMethod': None,\n",
       "    'fileId': None,\n",
       "    'fileName': 'DDDP118448_EGAN00001293854.vcf.gz.gpg',\n",
       "    'source': None,\n",
       "    'unencryptedChecksum': None}],\n",
       "  'firstPublic': 1462896990207,\n",
       "  'genome': None,\n",
       "  'genomeId': None,\n",
       "  'id': 'ERZ239074',\n",
       "  'json': '\"\"',\n",
       "  'platform': None,\n",
       "  'sampleReferences': None,\n",
       "  'status': 'SUBMITTED',\n",
       "  'studyId': 'ERP005661',\n",
       "  'submissionCommandIds': None,\n",
       "  'submissionErrorMessages': None,\n",
       "  'submissionId': 'ERA542321',\n",
       "  'submissionInfoMessages': None,\n",
       "  'submitterId': 'ega-box-03',\n",
       "  'title': 'DDD DATAFREEZE 2014-11-04: 4294 trios - VCF files',\n",
       "  'userId': None,\n",
       "  'validationErrorMessages': None,\n",
       "  'validationResult': False,\n",
       "  'version': 1,\n",
       "  'xml': \"<ANALYSIS_SET>  <ANALYSIS alias='SC_DDDP118448_EGAN00001293854.vcf.gz' accession='ERZ239074' center_name='SC' broker_name='EGA'>    <IDENTIFIERS>      <PRIMARY_ID>ERZ239074</PRIMARY_ID>      <SUBMITTER_ID namespace='SC'>SC_DDDP118448_EGAN00001293854.vcf.gz</SUBMITTER_ID>    </IDENTIFIERS>    <TITLE>DDD DATAFREEZE 2014-11-04: 4294 trios - VCF files</TITLE>    <DESCRIPTION>DDD DATAFREEZE 2014-11-04: 4294 trios - VCF files</DESCRIPTION>    <STUDY_REF accession='ERP005661' refname='ena-STUDY-SC-28-04-2014-15:21:11:982-94' refcenter='SC'>      <IDENTIFIERS>        <PRIMARY_ID>ERP005661</PRIMARY_ID>        <SUBMITTER_ID namespace='SC'>ena-STUDY-SC-28-04-2014-15:21:11:982-94</SUBMITTER_ID>      </IDENTIFIERS>    </STUDY_REF>    <SAMPLE_REF accession='ERS843839' refname='DDD_MAIN5684084-sc-1794594' refcenter='SC'>      <IDENTIFIERS>        <PRIMARY_ID>ERS843839</PRIMARY_ID>        <SUBMITTER_ID namespace='SC'>DDD_MAIN5684084-sc-1794594</SUBMITTER_ID>      </IDENTIFIERS>    </SAMPLE_REF>    <ANALYSIS_TYPE>      <SEQUENCE_VARIATION>        <SEQUENCE accession='CM000663.1' label='1'/>        <SEQUENCE accession='CM000672.1' label='10'/>        <SEQUENCE accession='CM000673.1' label='11'/>        <SEQUENCE accession='CM000674.1' label='12'/>        <SEQUENCE accession='CM000675.1' label='13'/>        <SEQUENCE accession='CM000676.1' label='14'/>        <SEQUENCE accession='CM000677.1' label='15'/>        <SEQUENCE accession='CM000678.1' label='16'/>        <SEQUENCE accession='CM000679.1' label='17'/>        <SEQUENCE accession='CM000680.1' label='18'/>        <SEQUENCE accession='CM000681.1' label='19'/>        <SEQUENCE accession='CM000664.1' label='2'/>        <SEQUENCE accession='CM000682.1' label='20'/>        <SEQUENCE accession='CM000683.1' label='21'/>        <SEQUENCE accession='CM000684.1' label='22'/>        <SEQUENCE accession='CM000665.1' label='3'/>        <SEQUENCE accession='CM000666.1' label='4'/>        <SEQUENCE accession='CM000667.1' label='5'/>        <SEQUENCE accession='CM000668.1' label='6'/>        <SEQUENCE accession='CM000669.1' label='7'/>        <SEQUENCE accession='CM000670.1' label='8'/>        <SEQUENCE accession='CM000671.1' label='9'/>        <SEQUENCE accession='GL000191.1' label='GL000191.1'/>        <SEQUENCE accession='GL000192.1' label='GL000192.1'/>        <SEQUENCE accession='GL000193.1' label='GL000193.1'/>        <SEQUENCE accession='GL000194.1' label='GL000194.1'/>        <SEQUENCE accession='GL000195.1' label='GL000195.1'/>        <SEQUENCE accession='GL000196.1' label='GL000196.1'/>        <SEQUENCE accession='GL000197.1' label='GL000197.1'/>        <SEQUENCE accession='GL000198.1' label='GL000198.1'/>        <SEQUENCE accession='GL000199.1' label='GL000199.1'/>        <SEQUENCE accession='GL000200.1' label='GL000200.1'/>        <SEQUENCE accession='GL000201.1' label='GL000201.1'/>        <SEQUENCE accession='GL000202.1' label='GL000202.1'/>        <SEQUENCE accession='GL000203.1' label='GL000203.1'/>        <SEQUENCE accession='GL000204.1' label='GL000204.1'/>        <SEQUENCE accession='GL000205.1' label='GL000205.1'/>        <SEQUENCE accession='GL000206.1' label='GL000206.1'/>        <SEQUENCE accession='GL000207.1' label='GL000207.1'/>        <SEQUENCE accession='GL000208.1' label='GL000208.1'/>        <SEQUENCE accession='GL000209.1' label='GL000209.1'/>        <SEQUENCE accession='GL000210.1' label='GL000210.1'/>        <SEQUENCE accession='GL000211.1' label='GL000211.1'/>        <SEQUENCE accession='GL000212.1' label='GL000212.1'/>        <SEQUENCE accession='GL000213.1' label='GL000213.1'/>        <SEQUENCE accession='GL000214.1' label='GL000214.1'/>        <SEQUENCE accession='GL000215.1' label='GL000215.1'/>        <SEQUENCE accession='GL000216.1' label='GL000216.1'/>        <SEQUENCE accession='GL000217.1' label='GL000217.1'/>        <SEQUENCE accession='GL000218.1' label='GL000218.1'/>        <SEQUENCE accession='GL000219.1' label='GL000219.1'/>        <SEQUENCE accession='GL000220.1' label='GL000220.1'/>        <SEQUENCE accession='GL000221.1' label='GL000221.1'/>        <SEQUENCE accession='GL000222.1' label='GL000222.1'/>        <SEQUENCE accession='GL000223.1' label='GL000223.1'/>        <SEQUENCE accession='GL000224.1' label='GL000224.1'/>        <SEQUENCE accession='GL000225.1' label='GL000225.1'/>        <SEQUENCE accession='GL000226.1' label='GL000226.1'/>        <SEQUENCE accession='GL000227.1' label='GL000227.1'/>        <SEQUENCE accession='GL000228.1' label='GL000228.1'/>        <SEQUENCE accession='GL000229.1' label='GL000229.1'/>        <SEQUENCE accession='GL000230.1' label='GL000230.1'/>        <SEQUENCE accession='GL000231.1' label='GL000231.1'/>        <SEQUENCE accession='GL000232.1' label='GL000232.1'/>        <SEQUENCE accession='GL000233.1' label='GL000233.1'/>        <SEQUENCE accession='GL000234.1' label='GL000234.1'/>        <SEQUENCE accession='GL000235.1' label='GL000235.1'/>        <SEQUENCE accession='GL000236.1' label='GL000236.1'/>        <SEQUENCE accession='GL000237.1' label='GL000237.1'/>        <SEQUENCE accession='GL000238.1' label='GL000238.1'/>        <SEQUENCE accession='GL000239.1' label='GL000239.1'/>        <SEQUENCE accession='GL000240.1' label='GL000240.1'/>        <SEQUENCE accession='GL000241.1' label='GL000241.1'/>        <SEQUENCE accession='GL000242.1' label='GL000242.1'/>        <SEQUENCE accession='GL000243.1' label='GL000243.1'/>        <SEQUENCE accession='GL000244.1' label='GL000244.1'/>        <SEQUENCE accession='GL000245.1' label='GL000245.1'/>        <SEQUENCE accession='GL000246.1' label='GL000246.1'/>        <SEQUENCE accession='GL000247.1' label='GL000247.1'/>        <SEQUENCE accession='GL000248.1' label='GL000248.1'/>        <SEQUENCE accession='GL000249.1' label='GL000249.1'/>        <SEQUENCE accession='NC_012920.1' label='MT'/>        <SEQUENCE accession='NC_007605' label='NC_007605'/>        <SEQUENCE accession='CM000685.1' label='X'/>        <SEQUENCE accession='CM000686.1' label='Y'/>        <EXPERIMENT_TYPE>Exome sequencing</EXPERIMENT_TYPE>      </SEQUENCE_VARIATION>    </ANALYSIS_TYPE>    <FILES>      <FILE filename='DDDP118448_EGAN00001293854.vcf.gz.gpg' filetype='vcf' checksum_method='MD5' checksum='2946b65d50273c0e8c7c43fc572b826d' unencrypted_checksum='e1026fd5be60aaebfa728c155739f52f'/>    </FILES>  </ANALYSIS></ANALYSIS_SET>\",\n",
       "  'xmlRootElement': None}]"
      ]
     },
     "execution_count": 54,
     "metadata": {},
     "output_type": "execute_result"
    }
   ],
   "source": [
    "analyses_all_json['response']['result']"
   ]
  },
  {
   "cell_type": "code",
   "execution_count": 56,
   "metadata": {
    "collapsed": true
   },
   "outputs": [
    {
     "data": {
      "text/plain": [
       "['EGAZ00001100051',\n",
       " 'EGAZ00001013168',\n",
       " 'EGAZ00001135226',\n",
       " 'EGAZ00001054658',\n",
       " 'EGAZ00001082732',\n",
       " 'EGAZ00001175976',\n",
       " 'EGAZ00001213204',\n",
       " 'EGAZ00001062561',\n",
       " 'EGAZ00001073901',\n",
       " 'EGAZ00001204192']"
      ]
     },
     "execution_count": 56,
     "metadata": {},
     "output_type": "execute_result"
    }
   ],
   "source": [
    "# List analysis ids\n",
    "[item['egaAccessionId'] for item in analyses_all_json['response']['result']]"
   ]
  },
  {
   "cell_type": "code",
   "execution_count": 57,
   "metadata": {
    "collapsed": true
   },
   "outputs": [
    {
     "data": {
      "text/plain": [
       "{'header': {'apiVersion': 'v1',\n",
       "  'code': '200',\n",
       "  'developerMessage': '',\n",
       "  'docLink': 'https://ega.crg.eu',\n",
       "  'errorCode': '1',\n",
       "  'errorStack': '',\n",
       "  'service': 'catalogservice',\n",
       "  'userMessage': 'OK'},\n",
       " 'response': {'numTotalResults': 1,\n",
       "  'result': [{'alias': 'uk10k_tamp5103528.rel-2013-04-20.vcf.gz-vcf_analysis-sc-20130524',\n",
       "    'analysisCenter': None,\n",
       "    'analysisDate': None,\n",
       "    'analysisFileType': 'vcf',\n",
       "    'analysisType': 'SEQUENCE_VARIATION',\n",
       "    'analysisTypeId': None,\n",
       "    'attributes': None,\n",
       "    'centerName': 'SC',\n",
       "    'chromosomeReferences': None,\n",
       "    'chromosomeValues': None,\n",
       "    'creationTime': 1369387705000,\n",
       "    'description': 'UK10K_NEURO_ASD_TAMPERE.REL-2013-04-20.variant_calling',\n",
       "    'ebiId': 'ERZ013530',\n",
       "    'ebiSubmissionDetailsIds': None,\n",
       "    'editionTime': 1369387705000,\n",
       "    'egaAccessionId': 'EGAZ00001013168',\n",
       "    'eraSubmissionId': 'ERA220624',\n",
       "    'experimentType': [None],\n",
       "    'experimentTypeId': None,\n",
       "    'files': [{'checksum': None,\n",
       "      'checksumMethod': None,\n",
       "      'fileId': None,\n",
       "      'fileName': 'UK10K_TAMP5103528.REL-2013-04-20.vcf.gz',\n",
       "      'source': None,\n",
       "      'unencryptedChecksum': None}],\n",
       "    'firstPublic': 1462897159940,\n",
       "    'genome': 'GRCh37',\n",
       "    'genomeId': None,\n",
       "    'id': 'ERZ013530',\n",
       "    'json': '\"\"',\n",
       "    'platform': None,\n",
       "    'sampleReferences': None,\n",
       "    'status': 'SUBMITTED',\n",
       "    'studyId': 'ERP000851',\n",
       "    'submissionCommandIds': None,\n",
       "    'submissionErrorMessages': None,\n",
       "    'submissionId': 'ERA220624',\n",
       "    'submissionInfoMessages': None,\n",
       "    'submitterId': 'ega-box-03',\n",
       "    'title': 'UK10K_NEURO_ASD_TAMPERE REL-2013-04-20 Variant Calls',\n",
       "    'userId': None,\n",
       "    'validationErrorMessages': None,\n",
       "    'validationResult': False,\n",
       "    'version': 1,\n",
       "    'xml': \"<ANALYSIS_SET>  <ANALYSIS alias='uk10k_tamp5103528.rel-2013-04-20.vcf.gz-vcf_analysis-sc-20130524' center_name='SC' broker_name='EGA' analysis_center='SC' accession='ERZ013530'>    <IDENTIFIERS>      <PRIMARY_ID>ERZ013530</PRIMARY_ID>      <SUBMITTER_ID namespace='SC'>uk10k_tamp5103528.rel-2013-04-20.vcf.gz-vcf_analysis-sc-20130524</SUBMITTER_ID>    </IDENTIFIERS>    <TITLE>UK10K_NEURO_ASD_TAMPERE REL-2013-04-20 Variant Calls</TITLE>    <DESCRIPTION>UK10K_NEURO_ASD_TAMPERE.REL-2013-04-20.variant_calling</DESCRIPTION>    <STUDY_REF refname='UK10K_exome_sequence__Tampere_samples-sc-2011-08-18T14:31:13Z-1789' refcenter='SC' accession='ERP000851'>      <IDENTIFIERS>        <PRIMARY_ID>ERP000851</PRIMARY_ID>        <SUBMITTER_ID namespace='SC'>UK10K_exome_sequence__Tampere_samples-sc-2011-08-18T14:31:13Z-1789</SUBMITTER_ID>      </IDENTIFIERS>    </STUDY_REF>    <SAMPLE_REF accession='ERS033022' refcenter='SC' label='UK10K_TAMP5103528' refname='UK10K_TAMP5103528-sc-2011-05-04T10:55:31Z-1127404'>      <IDENTIFIERS>        <PRIMARY_ID>ERS033022</PRIMARY_ID>        <SUBMITTER_ID namespace='SC'>UK10K_TAMP5103528-sc-2011-05-04T10:55:31Z-1127404</SUBMITTER_ID>      </IDENTIFIERS>    </SAMPLE_REF>    <ANALYSIS_TYPE>      <SEQUENCE_VARIATION>        <ASSEMBLY>          <STANDARD refname='GRCh37'/>        </ASSEMBLY>      </SEQUENCE_VARIATION>    </ANALYSIS_TYPE>    <FILES>      <FILE filename='UK10K_TAMP5103528.REL-2013-04-20.vcf.gz' filetype='vcf' checksum_method='MD5' checksum='539edae44f04a9de25b755ab38c3179f' unencrypted_checksum='d062b44357539d63bf514768895c7f83'/>    </FILES>  </ANALYSIS></ANALYSIS_SET>\",\n",
       "    'xmlRootElement': None}],\n",
       "  'resultType': 'eu.crg.ega.microservice.dto.submitter.AnalysisData'}}"
      ]
     },
     "execution_count": 57,
     "metadata": {},
     "output_type": "execute_result"
    }
   ],
   "source": [
    "analyses_single = s.get(root_url+'analyses/EGAZ00001013168')\n",
    "json.loads(analyses_single.text)"
   ]
  },
  {
   "cell_type": "markdown",
   "metadata": {},
   "source": [
    "### Datasets"
   ]
  },
  {
   "cell_type": "code",
   "execution_count": 58,
   "metadata": {
    "collapsed": true
   },
   "outputs": [],
   "source": [
    "datasets_all = s.get(root_url+'datasets')\n",
    "datasets_all_json = json.loads(datasets_all.text)"
   ]
  },
  {
   "cell_type": "code",
   "execution_count": 59,
   "metadata": {
    "collapsed": true
   },
   "outputs": [
    {
     "data": {
      "text/plain": [
       "['EGAD00001000667',\n",
       " 'EGAD00001001382',\n",
       " 'EGAD00001000293',\n",
       " 'EGAD00001000025',\n",
       " 'EGAD00001000044',\n",
       " 'EGAD00001001740',\n",
       " 'EGAD00001001566',\n",
       " 'EGAD00001001458',\n",
       " 'EGAD00001001952',\n",
       " 'EGAD00001001813']"
      ]
     },
     "execution_count": 59,
     "metadata": {},
     "output_type": "execute_result"
    }
   ],
   "source": [
    "# List datasets ids\n",
    "[item['egaAccessionId'] for item in datasets_all_json['response']['result']]"
   ]
  },
  {
   "cell_type": "code",
   "execution_count": 61,
   "metadata": {
    "collapsed": true
   },
   "outputs": [
    {
     "data": {
      "text/plain": [
       "{'header': {'apiVersion': 'v1',\n",
       "  'code': '200',\n",
       "  'developerMessage': '',\n",
       "  'docLink': 'https://ega.crg.eu',\n",
       "  'errorCode': '1',\n",
       "  'errorStack': '',\n",
       "  'service': 'catalogservice',\n",
       "  'userMessage': 'OK'},\n",
       " 'response': {'numTotalResults': 1,\n",
       "  'result': [{'alias': 'EGAS00000000092-ega-27092011',\n",
       "    'analysisReferences': None,\n",
       "    'attributes': [],\n",
       "    'centerName': 'Hospital Clinic Barcelona',\n",
       "    'creationTime': 1318490365000,\n",
       "    'datasetLinks': [],\n",
       "    'datasetTypeIds': None,\n",
       "    'datasetTypes': None,\n",
       "    'ebiId': 'EGAD00001000044',\n",
       "    'ebiSubmissionDetailsIds': None,\n",
       "    'editionTime': 1345802283000,\n",
       "    'egaAccessionId': 'EGAD00001000044',\n",
       "    'eraSubmissionId': 'ERA063013',\n",
       "    'firstPublic': 1462897727719,\n",
       "    'id': 'EGAD00001000044',\n",
       "    'json': '\"\"',\n",
       "    'policyId': None,\n",
       "    'runsReferences': None,\n",
       "    'status': 'SUBMITTED',\n",
       "    'submissionCommandIds': None,\n",
       "    'submissionErrorMessages': None,\n",
       "    'submissionId': 'ERA063013',\n",
       "    'submissionInfoMessages': None,\n",
       "    'submitterId': 'ega-box-62',\n",
       "    'title': 'Recurrent Somatic Mutations in CLL',\n",
       "    'userId': None,\n",
       "    'validationErrorMessages': None,\n",
       "    'validationResult': False,\n",
       "    'version': 3,\n",
       "    'xml': \"<DATASETS>  <DATASET alias='EGAS00000000092-ega-27092011' center_name='Hospital Clinic Barcelona' broker_name='EGA' accession='EGAD00001000044'>    <IDENTIFIERS>      <PRIMARY_ID>EGAD00001000044</PRIMARY_ID>      <SUBMITTER_ID namespace='Hospital Clinic Barcelona'>EGAS00000000092-ega-27092011</SUBMITTER_ID>    </IDENTIFIERS>    <TITLE>Recurrent Somatic Mutations in CLL</TITLE>    <RUN_REF accession='EGAR00001004105' refname='100701_HWUSI-EAS1684_0009_botA_62149AAXX__exome_CNAG_CLL-043ND_paired' refcenter='Hospital Clinic Barcelona'>      <IDENTIFIERS>        <PRIMARY_ID>EGAR00001004105</PRIMARY_ID>        <SUBMITTER_ID namespace='Hospital Clinic Barcelona'>100701_HWUSI-EAS1684_0009_botA_62149AAXX__exome_CNAG_CLL-043ND_paired</SUBMITTER_ID>      </IDENTIFIERS>    </RUN_REF>    <RUN_REF accession='EGAR00001004106' refname='100701_HWUSI-EAS1684_0009_botA_62149AAXX__exome_CNAG_CLL-043ND_paired' refcenter='Hospital Clinic Barcelona'>      <IDENTIFIERS>        <PRIMARY_ID>EGAR00001004106</PRIMARY_ID>        <SUBMITTER_ID namespace='Hospital Clinic Barcelona'>100701_HWUSI-EAS1684_0009_botA_62149AAXX__exome_CNAG_CLL-043ND_paired</SUBMITTER_ID>      </IDENTIFIERS>    </RUN_REF>    <RUN_REF accession='EGAR00001004107' refname='627LRAAXX__exome_CNAG_CLL-195TD_paired' refcenter='Hospital Clinic Barcelona'>      <IDENTIFIERS>        <PRIMARY_ID>EGAR00001004107</PRIMARY_ID>        <SUBMITTER_ID namespace='Hospital Clinic Barcelona'>627LRAAXX__exome_CNAG_CLL-195TD_paired</SUBMITTER_ID>      </IDENTIFIERS>    </RUN_REF>    <RUN_REF accession='EGAR00001004108' refname='627LRAAXX__exome_CNAG_CLL-266ND_paired' refcenter='Hospital Clinic Barcelona'>      <IDENTIFIERS>        <PRIMARY_ID>EGAR00001004108</PRIMARY_ID>        <SUBMITTER_ID namespace='Hospital Clinic Barcelona'>627LRAAXX__exome_CNAG_CLL-266ND_paired</SUBMITTER_ID>      </IDENTIFIERS>    </RUN_REF>    <RUN_REF accession='EGAR00001004109' refname='61UNFAAXX__exome_CNAG_CLL-785ND_paired' refcenter='Hospital Clinic Barcelona'>      <IDENTIFIERS>        <PRIMARY_ID>EGAR00001004109</PRIMARY_ID>        <SUBMITTER_ID namespace='Hospital Clinic Barcelona'>61UNFAAXX__exome_CNAG_CLL-785ND_paired</SUBMITTER_ID>      </IDENTIFIERS>    </RUN_REF>    <RUN_REF accession='EGAR00001004110' refname='629EMAAXX__exome_CNAG_CLL-173ND_paired' refcenter='Hospital Clinic Barcelona'>      <IDENTIFIERS>        <PRIMARY_ID>EGAR00001004110</PRIMARY_ID>        <SUBMITTER_ID namespace='Hospital Clinic Barcelona'>629EMAAXX__exome_CNAG_CLL-173ND_paired</SUBMITTER_ID>      </IDENTIFIERS>    </RUN_REF>    <RUN_REF accession='EGAR00001004111' refname='100611_HWUSI-EAS1692_0006_cBotD_61JR1AAXX__exome_CNAG_CLL-033TD_paired' refcenter='Hospital Clinic Barcelona'>      <IDENTIFIERS>        <PRIMARY_ID>EGAR00001004111</PRIMARY_ID>        <SUBMITTER_ID namespace='Hospital Clinic Barcelona'>100611_HWUSI-EAS1692_0006_cBotD_61JR1AAXX__exome_CNAG_CLL-033TD_paired</SUBMITTER_ID>      </IDENTIFIERS>    </RUN_REF>    <RUN_REF accession='EGAR00001004112' refname='100702_HWUSI-EAS1693_0003_botC_61UVGAAXX__exome_CNAG_CLL-090TD_paired' refcenter='Hospital Clinic Barcelona'>      <IDENTIFIERS>        <PRIMARY_ID>EGAR00001004112</PRIMARY_ID>        <SUBMITTER_ID namespace='Hospital Clinic Barcelona'>100702_HWUSI-EAS1693_0003_botC_61UVGAAXX__exome_CNAG_CLL-090TD_paired</SUBMITTER_ID>      </IDENTIFIERS>    </RUN_REF>    <RUN_REF accession='EGAR00001004113' refname='100611_HWUSI-EAS1692_0006_cBotD_61JR1AAXX__exome_CNAG_CLL-039TD_paired' refcenter='Hospital Clinic Barcelona'>      <IDENTIFIERS>        <PRIMARY_ID>EGAR00001004113</PRIMARY_ID>        <SUBMITTER_ID namespace='Hospital Clinic Barcelona'>100611_HWUSI-EAS1692_0006_cBotD_61JR1AAXX__exome_CNAG_CLL-039TD_paired</SUBMITTER_ID>      </IDENTIFIERS>    </RUN_REF>    <RUN_REF accession='EGAR00001004114' refname='100615_HWUSI-EAS1684_0006_cbotA_61VA1AAXX__exome_CNAG_CLL-027TD_paired' refcenter='Hospital Clinic Barcelona'>      <IDENTIFIERS>        <PRIMARY_ID>EGAR00001004114</PRIMARY_ID>        <SUBMITTER_ID namespace='Hospital Clinic Barcelona'>100615_HWUSI-EAS1684_0006_cbotA_61VA1AAXX__exome_CNAG_CLL-027TD_paired</SUBMITTER_ID>      </IDENTIFIERS>    </RUN_REF>    <RUN_REF accession='EGAR00001004115' refname='626WEAAXX__exome_CNAG_CLL-375TD_paired' refcenter='Hospital Clinic Barcelona'>      <IDENTIFIERS>        <PRIMARY_ID>EGAR00001004115</PRIMARY_ID>        <SUBMITTER_ID namespace='Hospital Clinic Barcelona'>626WEAAXX__exome_CNAG_CLL-375TD_paired</SUBMITTER_ID>      </IDENTIFIERS>    </RUN_REF>    <RUN_REF accession='EGAR00001004116' refname='61UVHAAXX__exome_CNAG_CLL-053TD_paired' refcenter='Hospital Clinic Barcelona'>      <IDENTIFIERS>        <PRIMARY_ID>EGAR00001004116</PRIMARY_ID>        <SUBMITTER_ID namespace='Hospital Clinic Barcelona'>61UVHAAXX__exome_CNAG_CLL-053TD_paired</SUBMITTER_ID>      </IDENTIFIERS>    </RUN_REF>    <RUN_REF accession='EGAR00001004117' refname='621D3AAXX__exome_CNAG_CLL-325TD_paired' refcenter='Hospital Clinic Barcelona'>      <IDENTIFIERS>        <PRIMARY_ID>EGAR00001004117</PRIMARY_ID>        <SUBMITTER_ID namespace='Hospital Clinic Barcelona'>621D3AAXX__exome_CNAG_CLL-325TD_paired</SUBMITTER_ID>      </IDENTIFIERS>    </RUN_REF>    <RUN_REF accession='EGAR00001004118' refname='61UNFAAXX__exome_CNAG_CLL-290TD_paired' refcenter='Hospital Clinic Barcelona'>      <IDENTIFIERS>        <PRIMARY_ID>EGAR00001004118</PRIMARY_ID>        <SUBMITTER_ID namespace='Hospital Clinic Barcelona'>61UNFAAXX__exome_CNAG_CLL-290TD_paired</SUBMITTER_ID>      </IDENTIFIERS>    </RUN_REF>    <RUN_REF accession='EGAR00001004119' refname='100609_HWUSI-EAS1556_0005_botB_61JPBAAXX__exome_CNAG_CLL-017TD_paired' refcenter='Hospital Clinic Barcelona'>      <IDENTIFIERS>        <PRIMARY_ID>EGAR00001004119</PRIMARY_ID>        <SUBMITTER_ID namespace='Hospital Clinic Barcelona'>100609_HWUSI-EAS1556_0005_botB_61JPBAAXX__exome_CNAG_CLL-017TD_paired</SUBMITTER_ID>      </IDENTIFIERS>    </RUN_REF>    <RUN_REF accession='EGAR00001004120' refname='100702_HWUSI-EAS1693_0003_botC_61UVGAAXX__exome_CNAG_CLL-100TD_paired' refcenter='Hospital Clinic Barcelona'>      <IDENTIFIERS>        <PRIMARY_ID>EGAR00001004120</PRIMARY_ID>        <SUBMITTER_ID namespace='Hospital Clinic Barcelona'>100702_HWUSI-EAS1693_0003_botC_61UVGAAXX__exome_CNAG_CLL-100TD_paired</SUBMITTER_ID>      </IDENTIFIERS>    </RUN_REF>    <RUN_REF accession='EGAR00001004121' refname='100615_HWUSI-EAS1684_0006_cbotA_61VA1AAXX__exome_CNAG_CLL-023ND_paired' refcenter='Hospital Clinic Barcelona'>      <IDENTIFIERS>        <PRIMARY_ID>EGAR00001004121</PRIMARY_ID>        <SUBMITTER_ID namespace='Hospital Clinic Barcelona'>100615_HWUSI-EAS1684_0006_cbotA_61VA1AAXX__exome_CNAG_CLL-023ND_paired</SUBMITTER_ID>      </IDENTIFIERS>    </RUN_REF>    <RUN_REF accession='EGAR00001004122' refname='61UVPAAXX__exome_CNAG_CLL-144TD_paired' refcenter='Hospital Clinic Barcelona'>      <IDENTIFIERS>        <PRIMARY_ID>EGAR00001004122</PRIMARY_ID>        <SUBMITTER_ID namespace='Hospital Clinic Barcelona'>61UVPAAXX__exome_CNAG_CLL-144TD_paired</SUBMITTER_ID>      </IDENTIFIERS>    </RUN_REF>    <RUN_REF accession='EGAR00001004123' refname='629EMAAXX__exome_CNAG_CLL-173TD_paired' refcenter='Hospital Clinic Barcelona'>      <IDENTIFIERS>        <PRIMARY_ID>EGAR00001004123</PRIMARY_ID>        <SUBMITTER_ID namespace='Hospital Clinic Barcelona'>629EMAAXX__exome_CNAG_CLL-173TD_paired</SUBMITTER_ID>      </IDENTIFIERS>    </RUN_REF>    <RUN_REF accession='EGAR00001004124' refname='627JKAAXX__exome_CNAG_CLL-278TD_paired' refcenter='Hospital Clinic Barcelona'>      <IDENTIFIERS>        <PRIMARY_ID>EGAR00001004124</PRIMARY_ID>        <SUBMITTER_ID namespace='Hospital Clinic Barcelona'>627JKAAXX__exome_CNAG_CLL-278TD_paired</SUBMITTER_ID>      </IDENTIFIERS>    </RUN_REF>    <RUN_REF accession='EGAR00001004125' refname='100702_HWUSI-EAS1693_0003_botC_61UVGAAXX__exome_CNAG_CLL-100ND_paired' refcenter='Hospital Clinic Barcelona'>      <IDENTIFIERS>        <PRIMARY_ID>EGAR00001004125</PRIMARY_ID>        <SUBMITTER_ID namespace='Hospital Clinic Barcelona'>100702_HWUSI-EAS1693_0003_botC_61UVGAAXX__exome_CNAG_CLL-100ND_paired</SUBMITTER_ID>      </IDENTIFIERS>    </RUN_REF>    <RUN_REF accession='EGAR00001004126' refname='61UNFAAXX__exome_CNAG_CLL-618ND_paired' refcenter='Hospital Clinic Barcelona'>      <IDENTIFIERS>        <PRIMARY_ID>EGAR00001004126</PRIMARY_ID>        <SUBMITTER_ID namespace='Hospital Clinic Barcelona'>61UNFAAXX__exome_CNAG_CLL-618ND_paired</SUBMITTER_ID>      </IDENTIFIERS>    </RUN_REF>    <RUN_REF accession='EGAR00001004127' refname='627JKAAXX__exome_CNAG_CLL-279TD_paired' refcenter='Hospital Clinic Barcelona'>      <IDENTIFIERS>        <PRIMARY_ID>EGAR00001004127</PRIMARY_ID>        <SUBMITTER_ID namespace='Hospital Clinic Barcelona'>627JKAAXX__exome_CNAG_CLL-279TD_paired</SUBMITTER_ID>      </IDENTIFIERS>    </RUN_REF>    <RUN_REF accession='EGAR00001004128' refname='61UVPAAXX__exome_CNAG_CLL-117ND_paired' refcenter='Hospital Clinic Barcelona'>      <IDENTIFIERS>        <PRIMARY_ID>EGAR00001004128</PRIMARY_ID>        <SUBMITTER_ID namespace='Hospital Clinic Barcelona'>61UVPAAXX__exome_CNAG_CLL-117ND_paired</SUBMITTER_ID>      </IDENTIFIERS>    </RUN_REF>    <RUN_REF accession='EGAR00001004129' refname='62A8RAAXX__exome_CNAG_CLL-182TD_paired' refcenter='Hospital Clinic Barcelona'>      <IDENTIFIERS>        <PRIMARY_ID>EGAR00001004129</PRIMARY_ID>        <SUBMITTER_ID namespace='Hospital Clinic Barcelona'>62A8RAAXX__exome_CNAG_CLL-182TD_paired</SUBMITTER_ID>      </IDENTIFIERS>    </RUN_REF>    <RUN_REF accession='EGAR00001004130' refname='100701_HWUSI-EAS1684_0009_botA_62149AAXX__exome_CNAG_CLL-048ND_paired' refcenter='Hospital Clinic Barcelona'>      <IDENTIFIERS>        <PRIMARY_ID>EGAR00001004130</PRIMARY_ID>        <SUBMITTER_ID namespace='Hospital Clinic Barcelona'>100701_HWUSI-EAS1684_0009_botA_62149AAXX__exome_CNAG_CLL-048ND_paired</SUBMITTER_ID>      </IDENTIFIERS>    </RUN_REF>    <RUN_REF accession='EGAR00001004131' refname='621CVAAXX__exome_CNAG_CLL-159ND_paired' refcenter='Hospital Clinic Barcelona'>      <IDENTIFIERS>        <PRIMARY_ID>EGAR00001004131</PRIMARY_ID>        <SUBMITTER_ID namespace='Hospital Clinic Barcelona'>621CVAAXX__exome_CNAG_CLL-159ND_paired</SUBMITTER_ID>      </IDENTIFIERS>    </RUN_REF>    <RUN_REF accession='EGAR00001004132' refname='626WFAAXX__exome_CNAG_CLL-168TD_paired' refcenter='Hospital Clinic Barcelona'>      <IDENTIFIERS>        <PRIMARY_ID>EGAR00001004132</PRIMARY_ID>        <SUBMITTER_ID namespace='Hospital Clinic Barcelona'>626WFAAXX__exome_CNAG_CLL-168TD_paired</SUBMITTER_ID>      </IDENTIFIERS>    </RUN_REF>    <RUN_REF accession='EGAR00001004133' refname='62MJHAAXX__exome_CNAG_CLL-136ND_paired' refcenter='Hospital Clinic Barcelona'>      <IDENTIFIERS>        <PRIMARY_ID>EGAR00001004133</PRIMARY_ID>        <SUBMITTER_ID namespace='Hospital Clinic Barcelona'>62MJHAAXX__exome_CNAG_CLL-136ND_paired</SUBMITTER_ID>      </IDENTIFIERS>    </RUN_REF>    <RUN_REF accession='EGAR00001004134' refname='100701_HWUSI-EAS1684_0009_botA_62149AAXX__exome_CNAG_CLL-042TD_paired' refcenter='Hospital Clinic Barcelona'>      <IDENTIFIERS>        <PRIMARY_ID>EGAR00001004134</PRIMARY_ID>        <SUBMITTER_ID namespace='Hospital Clinic Barcelona'>100701_HWUSI-EAS1684_0009_botA_62149AAXX__exome_CNAG_CLL-042TD_paired</SUBMITTER_ID>      </IDENTIFIERS>    </RUN_REF>    <RUN_REF accession='EGAR00001004135' refname='100615_HWUSI-EAS1684_0006_cbotA_61VA1AAXX__exome_CNAG_CLL-030ND_paired' refcenter='Hospital Clinic Barcelona'>      <IDENTIFIERS>        <PRIMARY_ID>EGAR00001004135</PRIMARY_ID>        <SUBMITTER_ID namespace='Hospital Clinic Barcelona'>100615_HWUSI-EAS1684_0006_cbotA_61VA1AAXX__exome_CNAG_CLL-030ND_paired</SUBMITTER_ID>      </IDENTIFIERS>    </RUN_REF>    <RUN_REF accession='EGAR00001004136' refname='61UNFAAXX__exome_CNAG_CLL-290ND_paired' refcenter='Hospital Clinic Barcelona'>      <IDENTIFIERS>        <PRIMARY_ID>EGAR00001004136</PRIMARY_ID>        <SUBMITTER_ID namespace='Hospital Clinic Barcelona'>61UNFAAXX__exome_CNAG_CLL-290ND_paired</SUBMITTER_ID>      </IDENTIFIERS>    </RUN_REF>    <RUN_REF accession='EGAR00001004137' refname='62BB5AAXX__exome_CNAG_CLL-323TD_paired' refcenter='Hospital Clinic Barcelona'>      <IDENTIFIERS>        <PRIMARY_ID>EGAR00001004137</PRIMARY_ID>        <SUBMITTER_ID namespace='Hospital Clinic Barcelona'>62BB5AAXX__exome_CNAG_CLL-323TD_paired</SUBMITTER_ID>      </IDENTIFIERS>    </RUN_REF>    <RUN_REF accession='EGAR00001004138' refname='626W8AAXX__exome_CNAG_CLL-267ND_paired' refcenter='Hospital Clinic Barcelona'>      <IDENTIFIERS>        <PRIMARY_ID>EGAR00001004138</PRIMARY_ID>        <SUBMITTER_ID namespace='Hospital Clinic Barcelona'>626W8AAXX__exome_CNAG_CLL-267ND_paired</SUBMITTER_ID>      </IDENTIFIERS>    </RUN_REF>    <RUN_REF accession='EGAR00001004139' refname='100609_HWUSI-EAS1556_0005_botB_61JPBAAXX__exome_CNAG_CLL-020TD_paired' refcenter='Hospital Clinic Barcelona'>      <IDENTIFIERS>        <PRIMARY_ID>EGAR00001004139</PRIMARY_ID>        <SUBMITTER_ID namespace='Hospital Clinic Barcelona'>100609_HWUSI-EAS1556_0005_botB_61JPBAAXX__exome_CNAG_CLL-020TD_paired</SUBMITTER_ID>      </IDENTIFIERS>    </RUN_REF>    <RUN_REF accession='EGAR00001004140' refname='100701_HWUSI-EAS1684_0009_botA_62149AAXX__exome_CNAG_CLL-052TD_paired' refcenter='Hospital Clinic Barcelona'>      <IDENTIFIERS>        <PRIMARY_ID>EGAR00001004140</PRIMARY_ID>        <SUBMITTER_ID namespace='Hospital Clinic Barcelona'>100701_HWUSI-EAS1684_0009_botA_62149AAXX__exome_CNAG_CLL-052TD_paired</SUBMITTER_ID>      </IDENTIFIERS>    </RUN_REF>    <RUN_REF accession='EGAR00001004141' refname='621D3AAXX__exome_CNAG_CLL-325ND_paired' refcenter='Hospital Clinic Barcelona'>      <IDENTIFIERS>        <PRIMARY_ID>EGAR00001004141</PRIMARY_ID>        <SUBMITTER_ID namespace='Hospital Clinic Barcelona'>621D3AAXX__exome_CNAG_CLL-325ND_paired</SUBMITTER_ID>      </IDENTIFIERS>    </RUN_REF>    <RUN_REF accession='EGAR00001004142' refname='61UNFAAXX__exome_CNAG_CLL-680ND_paired' refcenter='Hospital Clinic Barcelona'>      <IDENTIFIERS>        <PRIMARY_ID>EGAR00001004142</PRIMARY_ID>        <SUBMITTER_ID namespace='Hospital Clinic Barcelona'>61UNFAAXX__exome_CNAG_CLL-680ND_paired</SUBMITTER_ID>      </IDENTIFIERS>    </RUN_REF>    <RUN_REF accession='EGAR00001004143' refname='100424_HWUSI-EAS1692_0001_CBOTC_61JJRAAXX__exome_CNAG_CLL-016TD_paired' refcenter='Hospital Clinic Barcelona'>      <IDENTIFIERS>        <PRIMARY_ID>EGAR00001004143</PRIMARY_ID>        <SUBMITTER_ID namespace='Hospital Clinic Barcelona'>100424_HWUSI-EAS1692_0001_CBOTC_61JJRAAXX__exome_CNAG_CLL-016TD_paired</SUBMITTER_ID>      </IDENTIFIERS>    </RUN_REF>    <RUN_REF accession='EGAR00001004144' refname='61UVPAAXX__exome_CNAG_CLL-124TD_paired' refcenter='Hospital Clinic Barcelona'>      <IDENTIFIERS>        <PRIMARY_ID>EGAR00001004144</PRIMARY_ID>        <SUBMITTER_ID namespace='Hospital Clinic Barcelona'>61UVPAAXX__exome_CNAG_CLL-124TD_paired</SUBMITTER_ID>      </IDENTIFIERS>    </RUN_REF>    <RUN_REF accession='EGAR00001004145' refname='100701_HWUSI-EAS1684_0009_botA_62149AAXX__exome_CNAG_CLL-048TD_paired' refcenter='Hospital Clinic Barcelona'>      <IDENTIFIERS>        <PRIMARY_ID>EGAR00001004145</PRIMARY_ID>        <SUBMITTER_ID namespace='Hospital Clinic Barcelona'>100701_HWUSI-EAS1684_0009_botA_62149AAXX__exome_CNAG_CLL-048TD_paired</SUBMITTER_ID>      </IDENTIFIERS>    </RUN_REF>    <RUN_REF accession='EGAR00001004146' refname='100611_HWUSI-EAS1692_0006_cBotD_61JR1AAXX__exome_CNAG_CLL-033ND_paired' refcenter='Hospital Clinic Barcelona'>      <IDENTIFIERS>        <PRIMARY_ID>EGAR00001004146</PRIMARY_ID>        <SUBMITTER_ID namespace='Hospital Clinic Barcelona'>100611_HWUSI-EAS1692_0006_cBotD_61JR1AAXX__exome_CNAG_CLL-033ND_paired</SUBMITTER_ID>      </IDENTIFIERS>    </RUN_REF>    <RUN_REF accession='EGAR00001004147' refname='621CVAAXX__exome_CNAG_CLL-170ND_paired' refcenter='Hospital Clinic Barcelona'>      <IDENTIFIERS>        <PRIMARY_ID>EGAR00001004147</PRIMARY_ID>        <SUBMITTER_ID namespace='Hospital Clinic Barcelona'>621CVAAXX__exome_CNAG_CLL-170ND_paired</SUBMITTER_ID>      </IDENTIFIERS>    </RUN_REF>    <RUN_REF accession='EGAR00001004148' refname='627LRAAXX__exome_CNAG_CLL-264ND_paired' refcenter='Hospital Clinic Barcelona'>      <IDENTIFIERS>        <PRIMARY_ID>EGAR00001004148</PRIMARY_ID>        <SUBMITTER_ID namespace='Hospital Clinic Barcelona'>627LRAAXX__exome_CNAG_CLL-264ND_paired</SUBMITTER_ID>      </IDENTIFIERS>    </RUN_REF>    <RUN_REF accession='EGAR00001004149' refname='626W8AAXX__exome_CNAG_CLL-191TD_paired' refcenter='Hospital Clinic Barcelona'>      <IDENTIFIERS>        <PRIMARY_ID>EGAR00001004149</PRIMARY_ID>        <SUBMITTER_ID namespace='Hospital Clinic Barcelona'>626W8AAXX__exome_CNAG_CLL-191TD_paired</SUBMITTER_ID>      </IDENTIFIERS>    </RUN_REF>    <RUN_REF accession='EGAR00001004150' refname='62BB5AAXX__exome_CNAG_CLL-148TD_paired' refcenter='Hospital Clinic Barcelona'>      <IDENTIFIERS>        <PRIMARY_ID>EGAR00001004150</PRIMARY_ID>        <SUBMITTER_ID namespace='Hospital Clinic Barcelona'>62BB5AAXX__exome_CNAG_CLL-148TD_paired</SUBMITTER_ID>      </IDENTIFIERS>    </RUN_REF>    <RUN_REF accession='EGAR00001004151' refname='62MK7AAXX__exome_CNAG_CLL-041ND_paired' refcenter='Hospital Clinic Barcelona'>      <IDENTIFIERS>        <PRIMARY_ID>EGAR00001004151</PRIMARY_ID>        <SUBMITTER_ID namespace='Hospital Clinic Barcelona'>62MK7AAXX__exome_CNAG_CLL-041ND_paired</SUBMITTER_ID>      </IDENTIFIERS>    </RUN_REF>    <RUN_REF accession='EGAR00001004152' refname='626WFAAXX__exome_CNAG_CLL-272ND_paired' refcenter='Hospital Clinic Barcelona'>      <IDENTIFIERS>        <PRIMARY_ID>EGAR00001004152</PRIMARY_ID>        <SUBMITTER_ID namespace='Hospital Clinic Barcelona'>626WFAAXX__exome_CNAG_CLL-272ND_paired</SUBMITTER_ID>      </IDENTIFIERS>    </RUN_REF>    <RUN_REF accession='EGAR00001004153' refname='62MJHAAXX__exome_CNAG_CLL-189ND_paired' refcenter='Hospital Clinic Barcelona'>      <IDENTIFIERS>        <PRIMARY_ID>EGAR00001004153</PRIMARY_ID>        <SUBMITTER_ID namespace='Hospital Clinic Barcelona'>62MJHAAXX__exome_CNAG_CLL-189ND_paired</SUBMITTER_ID>      </IDENTIFIERS>    </RUN_REF>    <RUN_REF accession='EGAR00001004154' refname='626WFAAXX__exome_CNAG_CLL-157TD_paired' refcenter='Hospital Clinic Barcelona'>      <IDENTIFIERS>        <PRIMARY_ID>EGAR00001004154</PRIMARY_ID>        <SUBMITTER_ID namespace='Hospital Clinic Barcelona'>626WFAAXX__exome_CNAG_CLL-157TD_paired</SUBMITTER_ID>      </IDENTIFIERS>    </RUN_REF>    <RUN_REF accession='EGAR00001004155' refname='62A8RAAXX__exome_CNAG_CLL-178TD_paired' refcenter='Hospital Clinic Barcelona'>      <IDENTIFIERS>        <PRIMARY_ID>EGAR00001004155</PRIMARY_ID>        <SUBMITTER_ID namespace='Hospital Clinic Barcelona'>62A8RAAXX__exome_CNAG_CLL-178TD_paired</SUBMITTER_ID>      </IDENTIFIERS>    </RUN_REF>    <RUN_REF accession='EGAR00001004156' refname='621CMAAXX__exome_CNAG_CLL-324TD_paired' refcenter='Hospital Clinic Barcelona'>      <IDENTIFIERS>        <PRIMARY_ID>EGAR00001004156</PRIMARY_ID>        <SUBMITTER_ID namespace='Hospital Clinic Barcelona'>621CMAAXX__exome_CNAG_CLL-324TD_paired</SUBMITTER_ID>      </IDENTIFIERS>    </RUN_REF>    <RUN_REF accession='EGAR00001004157' refname='621CMAAXX__exome_CNAG_CLL-321TD_paired' refcenter='Hospital Clinic Barcelona'>      <IDENTIFIERS>        <PRIMARY_ID>EGAR00001004157</PRIMARY_ID>        <SUBMITTER_ID namespace='Hospital Clinic Barcelona'>621CMAAXX__exome_CNAG_CLL-321TD_paired</SUBMITTER_ID>      </IDENTIFIERS>    </RUN_REF>    <RUN_REF accession='EGAR00001004158' refname='621CMAAXX__exome_CNAG_CLL-321ND_paired' refcenter='Hospital Clinic Barcelona'>      <IDENTIFIERS>        <PRIMARY_ID>EGAR00001004158</PRIMARY_ID>        <SUBMITTER_ID namespace='Hospital Clinic Barcelona'>621CMAAXX__exome_CNAG_CLL-321ND_paired</SUBMITTER_ID>      </IDENTIFIERS>    </RUN_REF>    <RUN_REF accession='EGAR00001004159' refname='626MRAAXX__exome_CNAG_CLL-005TD_paired' refcenter='Hospital Clinic Barcelona'>      <IDENTIFIERS>        <PRIMARY_ID>EGAR00001004159</PRIMARY_ID>        <SUBMITTER_ID namespace='Hospital Clinic Barcelona'>626MRAAXX__exome_CNAG_CLL-005TD_paired</SUBMITTER_ID>      </IDENTIFIERS>    </RUN_REF>    <RUN_REF accession='EGAR00001004160' refname='626M8AAXX__exome_CNAG_CLL-141ND_paired' refcenter='Hospital Clinic Barcelona'>      <IDENTIFIERS>        <PRIMARY_ID>EGAR00001004160</PRIMARY_ID>        <SUBMITTER_ID namespace='Hospital Clinic Barcelona'>626M8AAXX__exome_CNAG_CLL-141ND_paired</SUBMITTER_ID>      </IDENTIFIERS>    </RUN_REF>    <RUN_REF accession='EGAR00001004161' refname='629EMAAXX__exome_CNAG_CLL-172TD_paired' refcenter='Hospital Clinic Barcelona'>      <IDENTIFIERS>        <PRIMARY_ID>EGAR00001004161</PRIMARY_ID>        <SUBMITTER_ID namespace='Hospital Clinic Barcelona'>629EMAAXX__exome_CNAG_CLL-172TD_paired</SUBMITTER_ID>      </IDENTIFIERS>    </RUN_REF>    <RUN_REF accession='EGAR00001004162' refname='629EMAAXX__exome_CNAG_CLL-171TD_paired' refcenter='Hospital Clinic Barcelona'>      <IDENTIFIERS>        <PRIMARY_ID>EGAR00001004162</PRIMARY_ID>        <SUBMITTER_ID namespace='Hospital Clinic Barcelona'>629EMAAXX__exome_CNAG_CLL-171TD_paired</SUBMITTER_ID>      </IDENTIFIERS>    </RUN_REF>    <RUN_REF accession='EGAR00001004163' refname='61UU6AAXX__exome_CNAG_CLL-146ND_paired' refcenter='Hospital Clinic Barcelona'>      <IDENTIFIERS>        <PRIMARY_ID>EGAR00001004163</PRIMARY_ID>        <SUBMITTER_ID namespace='Hospital Clinic Barcelona'>61UU6AAXX__exome_CNAG_CLL-146ND_paired</SUBMITTER_ID>      </IDENTIFIERS>    </RUN_REF>    <RUN_REF accession='EGAR00001004164' refname='62MK7AAXX__exome_CNAG_CLL-280TD_paired' refcenter='Hospital Clinic Barcelona'>      <IDENTIFIERS>        <PRIMARY_ID>EGAR00001004164</PRIMARY_ID>        <SUBMITTER_ID namespace='Hospital Clinic Barcelona'>62MK7AAXX__exome_CNAG_CLL-280TD_paired</SUBMITTER_ID>      </IDENTIFIERS>    </RUN_REF>    <RUN_REF accession='EGAR00001004165' refname='627JGAAXX__exome_CNAG_CLL-195TD_single' refcenter='Hospital Clinic Barcelona'>      <IDENTIFIERS>        <PRIMARY_ID>EGAR00001004165</PRIMARY_ID>        <SUBMITTER_ID namespace='Hospital Clinic Barcelona'>627JGAAXX__exome_CNAG_CLL-195TD_single</SUBMITTER_ID>      </IDENTIFIERS>    </RUN_REF>    <RUN_REF accession='EGAR00001004166' refname='62MK7AAXX__exome_CNAG_CLL-280ND_paired' refcenter='Hospital Clinic Barcelona'>      <IDENTIFIERS>        <PRIMARY_ID>EGAR00001004166</PRIMARY_ID>        <SUBMITTER_ID namespace='Hospital Clinic Barcelona'>62MK7AAXX__exome_CNAG_CLL-280ND_paired</SUBMITTER_ID>      </IDENTIFIERS>    </RUN_REF>    <RUN_REF accession='EGAR00001004167' refname='100615_HWUSI-EAS1684_0006_cbotA_61VA1AAXX__exome_CNAG_CLL-022TD_paired' refcenter='Hospital Clinic Barcelona'>      <IDENTIFIERS>        <PRIMARY_ID>EGAR00001004167</PRIMARY_ID>        <SUBMITTER_ID namespace='Hospital Clinic Barcelona'>100615_HWUSI-EAS1684_0006_cbotA_61VA1AAXX__exome_CNAG_CLL-022TD_paired</SUBMITTER_ID>      </IDENTIFIERS>    </RUN_REF>    <RUN_REF accession='EGAR00001004168' refname='626M8AAXX__exome_CNAG_CLL-082ND_paired' refcenter='Hospital Clinic Barcelona'>      <IDENTIFIERS>        <PRIMARY_ID>EGAR00001004168</PRIMARY_ID>        <SUBMITTER_ID namespace='Hospital Clinic Barcelona'>626M8AAXX__exome_CNAG_CLL-082ND_paired</SUBMITTER_ID>      </IDENTIFIERS>    </RUN_REF>    <RUN_REF accession='EGAR00001004169' refname='621CMAAXX__exome_CNAG_CLL-322TD_paired' refcenter='Hospital Clinic Barcelona'>      <IDENTIFIERS>        <PRIMARY_ID>EGAR00001004169</PRIMARY_ID>        <SUBMITTER_ID namespace='Hospital Clinic Barcelona'>621CMAAXX__exome_CNAG_CLL-322TD_paired</SUBMITTER_ID>      </IDENTIFIERS>    </RUN_REF>    <RUN_REF accession='EGAR00001004170' refname='626MRAAXX__exome_CNAG_CLL-008ND_paired' refcenter='Hospital Clinic Barcelona'>      <IDENTIFIERS>        <PRIMARY_ID>EGAR00001004170</PRIMARY_ID>        <SUBMITTER_ID namespace='Hospital Clinic Barcelona'>626MRAAXX__exome_CNAG_CLL-008ND_paired</SUBMITTER_ID>      </IDENTIFIERS>    </RUN_REF>    <RUN_REF accession='EGAR00001004171' refname='626WEAAXX__exome_CNAG_CLL-274ND_paired' refcenter='Hospital Clinic Barcelona'>      <IDENTIFIERS>        <PRIMARY_ID>EGAR00001004171</PRIMARY_ID>        <SUBMITTER_ID namespace='Hospital Clinic Barcelona'>626WEAAXX__exome_CNAG_CLL-274ND_paired</SUBMITTER_ID>      </IDENTIFIERS>    </RUN_REF>    <RUN_REF accession='EGAR00001004172' refname='100701_HWUSI-EAS1684_0009_botA_62149AAXX__exome_CNAG_CLL-042ND_paired' refcenter='Hospital Clinic Barcelona'>      <IDENTIFIERS>        <PRIMARY_ID>EGAR00001004172</PRIMARY_ID>        <SUBMITTER_ID namespace='Hospital Clinic Barcelona'>100701_HWUSI-EAS1684_0009_botA_62149AAXX__exome_CNAG_CLL-042ND_paired</SUBMITTER_ID>      </IDENTIFIERS>    </RUN_REF>    <RUN_REF accession='EGAR00001004173' refname='62E21AAXX__exome_CNAG_CLL-195TD_paired' refcenter='Hospital Clinic Barcelona'>      <IDENTIFIERS>        <PRIMARY_ID>EGAR00001004173</PRIMARY_ID>        <SUBMITTER_ID namespace='Hospital Clinic Barcelona'>62E21AAXX__exome_CNAG_CLL-195TD_paired</SUBMITTER_ID>      </IDENTIFIERS>    </RUN_REF>    <RUN_REF accession='EGAR00001004174' refname='61UVHAAXX__exome_CNAG_CLL-051ND_paired' refcenter='Hospital Clinic Barcelona'>      <IDENTIFIERS>        <PRIMARY_ID>EGAR00001004174</PRIMARY_ID>        <SUBMITTER_ID namespace='Hospital Clinic Barcelona'>61UVHAAXX__exome_CNAG_CLL-051ND_paired</SUBMITTER_ID>      </IDENTIFIERS>    </RUN_REF>    <RUN_REF accession='EGAR00001004175' refname='100625_HWUSI-EAS1691_0006_cBotA_61UVEAAXX__exome_CNAG_CLL-009TD_paired' refcenter='Hospital Clinic Barcelona'>      <IDENTIFIERS>        <PRIMARY_ID>EGAR00001004175</PRIMARY_ID>        <SUBMITTER_ID namespace='Hospital Clinic Barcelona'>100625_HWUSI-EAS1691_0006_cBotA_61UVEAAXX__exome_CNAG_CLL-009TD_paired</SUBMITTER_ID>      </IDENTIFIERS>    </RUN_REF>    <RUN_REF accession='EGAR00001004176' refname='626MRAAXX__exome_CNAG_CLL-007TD_paired' refcenter='Hospital Clinic Barcelona'>      <IDENTIFIERS>        <PRIMARY_ID>EGAR00001004176</PRIMARY_ID>        <SUBMITTER_ID namespace='Hospital Clinic Barcelona'>626MRAAXX__exome_CNAG_CLL-007TD_paired</SUBMITTER_ID>      </IDENTIFIERS>    </RUN_REF>    <RUN_REF accession='EGAR00001004177' refname='61UVPAAXX__exome_CNAG_CLL-145TD_paired' refcenter='Hospital Clinic Barcelona'>      <IDENTIFIERS>        <PRIMARY_ID>EGAR00001004177</PRIMARY_ID>        <SUBMITTER_ID namespace='Hospital Clinic Barcelona'>61UVPAAXX__exome_CNAG_CLL-145TD_paired</SUBMITTER_ID>      </IDENTIFIERS>    </RUN_REF>    <RUN_REF accession='EGAR00001004178' refname='100609_HWUSI-EAS1556_0005_botB_61JPBAAXX__exome_CNAG_CLL-020ND_paired' refcenter='Hospital Clinic Barcelona'>      <IDENTIFIERS>        <PRIMARY_ID>EGAR00001004178</PRIMARY_ID>        <SUBMITTER_ID namespace='Hospital Clinic Barcelona'>100609_HWUSI-EAS1556_0005_botB_61JPBAAXX__exome_CNAG_CLL-020ND_paired</SUBMITTER_ID>      </IDENTIFIERS>    </RUN_REF>    <RUN_REF accession='EGAR00001004179' refname='627LRAAXX__exome_CNAG_CLL-192TD_paired' refcenter='Hospital Clinic Barcelona'>      <IDENTIFIERS>        <PRIMARY_ID>EGAR00001004179</PRIMARY_ID>        <SUBMITTER_ID namespace='Hospital Clinic Barcelona'>627LRAAXX__exome_CNAG_CLL-192TD_paired</SUBMITTER_ID>      </IDENTIFIERS>    </RUN_REF>    <RUN_REF accession='EGAR00001004180' refname='62MK7AAXX__exome_CNAG_CLL-282TD_paired' refcenter='Hospital Clinic Barcelona'>      <IDENTIFIERS>        <PRIMARY_ID>EGAR00001004180</PRIMARY_ID>        <SUBMITTER_ID namespace='Hospital Clinic Barcelona'>62MK7AAXX__exome_CNAG_CLL-282TD_paired</SUBMITTER_ID>      </IDENTIFIERS>    </RUN_REF>    <RUN_REF accession='EGAR00001004181' refname='100702_HWUSI-EAS1689_0008_cBotA_61UTYAAXX__exome_CNAG_CLL-064TD_paired' refcenter='Hospital Clinic Barcelona'>      <IDENTIFIERS>        <PRIMARY_ID>EGAR00001004181</PRIMARY_ID>        <SUBMITTER_ID namespace='Hospital Clinic Barcelona'>100702_HWUSI-EAS1689_0008_cBotA_61UTYAAXX__exome_CNAG_CLL-064TD_paired</SUBMITTER_ID>      </IDENTIFIERS>    </RUN_REF>    <RUN_REF accession='EGAR00001004182' refname='626WGAAXX__exome_CNAG_CLL-275ND_paired' refcenter='Hospital Clinic Barcelona'>      <IDENTIFIERS>        <PRIMARY_ID>EGAR00001004182</PRIMARY_ID>        <SUBMITTER_ID namespace='Hospital Clinic Barcelona'>626WGAAXX__exome_CNAG_CLL-275ND_paired</SUBMITTER_ID>      </IDENTIFIERS>    </RUN_REF>    <RUN_REF accession='EGAR00001004183' refname='61UU6AAXX__exome_CNAG_CLL-152ND_paired' refcenter='Hospital Clinic Barcelona'>      <IDENTIFIERS>        <PRIMARY_ID>EGAR00001004183</PRIMARY_ID>        <SUBMITTER_ID namespace='Hospital Clinic Barcelona'>61UU6AAXX__exome_CNAG_CLL-152ND_paired</SUBMITTER_ID>      </IDENTIFIERS>    </RUN_REF>    <RUN_REF accession='EGAR00001004184' refname='62BB5AAXX__exome_CNAG_CLL-148ND_paired' refcenter='Hospital Clinic Barcelona'>      <IDENTIFIERS>        <PRIMARY_ID>EGAR00001004184</PRIMARY_ID>        <SUBMITTER_ID namespace='Hospital Clinic Barcelona'>62BB5AAXX__exome_CNAG_CLL-148ND_paired</SUBMITTER_ID>      </IDENTIFIERS>    </RUN_REF>    <RUN_REF accession='EGAR00001004185' refname='61UN3AAXX__exome_CNAG_CLL-761ND_paired' refcenter='Hospital Clinic Barcelona'>      <IDENTIFIERS>        <PRIMARY_ID>EGAR00001004185</PRIMARY_ID>        <SUBMITTER_ID namespace='Hospital Clinic Barcelona'>61UN3AAXX__exome_CNAG_CLL-761ND_paired</SUBMITTER_ID>      </IDENTIFIERS>    </RUN_REF>    <RUN_REF accession='EGAR00001004186' refname='626WEAAXX__exome_CNAG_CLL-375ND_paired' refcenter='Hospital Clinic Barcelona'>      <IDENTIFIERS>        <PRIMARY_ID>EGAR00001004186</PRIMARY_ID>        <SUBMITTER_ID namespace='Hospital Clinic Barcelona'>626WEAAXX__exome_CNAG_CLL-375ND_paired</SUBMITTER_ID>      </IDENTIFIERS>    </RUN_REF>    <RUN_REF accession='EGAR00001004187' refname='61UVPAAXX__exome_CNAG_CLL-145ND_paired' refcenter='Hospital Clinic Barcelona'>      <IDENTIFIERS>        <PRIMARY_ID>EGAR00001004187</PRIMARY_ID>        <SUBMITTER_ID namespace='Hospital Clinic Barcelona'>61UVPAAXX__exome_CNAG_CLL-145ND_paired</SUBMITTER_ID>      </IDENTIFIERS>    </RUN_REF>    <RUN_REF accession='EGAR00001004188' refname='62MJHAAXX__exome_CNAG_CLL-194ND_paired' refcenter='Hospital Clinic Barcelona'>      <IDENTIFIERS>        <PRIMARY_ID>EGAR00001004188</PRIMARY_ID>        <SUBMITTER_ID namespace='Hospital Clinic Barcelona'>62MJHAAXX__exome_CNAG_CLL-194ND_paired</SUBMITTER_ID>      </IDENTIFIERS>    </RUN_REF>    <RUN_REF accession='EGAR00001004189' refname='62MK7AAXX__exome_CNAG_CLL-188ND_paired' refcenter='Hospital Clinic Barcelona'>      <IDENTIFIERS>        <PRIMARY_ID>EGAR00001004189</PRIMARY_ID>        <SUBMITTER_ID namespace='Hospital Clinic Barcelona'>62MK7AAXX__exome_CNAG_CLL-188ND_paired</SUBMITTER_ID>      </IDENTIFIERS>    </RUN_REF>    <RUN_REF accession='EGAR00001004190' refname='626WEAAXX__exome_CNAG_CLL-328TD_paired' refcenter='Hospital Clinic Barcelona'>      <IDENTIFIERS>        <PRIMARY_ID>EGAR00001004190</PRIMARY_ID>        <SUBMITTER_ID namespace='Hospital Clinic Barcelona'>626WEAAXX__exome_CNAG_CLL-328TD_paired</SUBMITTER_ID>      </IDENTIFIERS>    </RUN_REF>    <RUN_REF accession='EGAR00001004191' refname='626W8AAXX__exome_CNAG_CLL-191ND_paired' refcenter='Hospital Clinic Barcelona'>      <IDENTIFIERS>        <PRIMARY_ID>EGAR00001004191</PRIMARY_ID>        <SUBMITTER_ID namespace='Hospital Clinic Barcelona'>626W8AAXX__exome_CNAG_CLL-191ND_paired</SUBMITTER_ID>      </IDENTIFIERS>    </RUN_REF>    <RUN_REF accession='EGAR00001004192' refname='61UU6AAXX__exome_CNAG_CLL-146TD_paired' refcenter='Hospital Clinic Barcelona'>      <IDENTIFIERS>        <PRIMARY_ID>EGAR00001004192</PRIMARY_ID>        <SUBMITTER_ID namespace='Hospital Clinic Barcelona'>61UU6AAXX__exome_CNAG_CLL-146TD_paired</SUBMITTER_ID>      </IDENTIFIERS>    </RUN_REF>    <RUN_REF accession='EGAR00001004193' refname='626MRAAXX__exome_CNAG_CLL-006TD_paired' refcenter='Hospital Clinic Barcelona'>      <IDENTIFIERS>        <PRIMARY_ID>EGAR00001004193</PRIMARY_ID>        <SUBMITTER_ID namespace='Hospital Clinic Barcelona'>626MRAAXX__exome_CNAG_CLL-006TD_paired</SUBMITTER_ID>      </IDENTIFIERS>    </RUN_REF>    <RUN_REF accession='EGAR00001004194' refname='100609_HWUSI-EAS1556_0005_botB_61JPBAAXX__exome_CNAG_CLL-019ND_paired' refcenter='Hospital Clinic Barcelona'>      <IDENTIFIERS>        <PRIMARY_ID>EGAR00001004194</PRIMARY_ID>        <SUBMITTER_ID namespace='Hospital Clinic Barcelona'>100609_HWUSI-EAS1556_0005_botB_61JPBAAXX__exome_CNAG_CLL-019ND_paired</SUBMITTER_ID>      </IDENTIFIERS>    </RUN_REF>    <RUN_REF accession='EGAR00001004195' refname='626M8AAXX__exome_CNAG_CLL-141TD_paired' refcenter='Hospital Clinic Barcelona'>      <IDENTIFIERS>        <PRIMARY_ID>EGAR00001004195</PRIMARY_ID>        <SUBMITTER_ID namespace='Hospital Clinic Barcelona'>626M8AAXX__exome_CNAG_CLL-141TD_paired</SUBMITTER_ID>      </IDENTIFIERS>    </RUN_REF>    <RUN_REF accession='EGAR00001004196' refname='621CVAAXX__exome_CNAG_CLL-166TD_paired' refcenter='Hospital Clinic Barcelona'>      <IDENTIFIERS>        <PRIMARY_ID>EGAR00001004196</PRIMARY_ID>        <SUBMITTER_ID namespace='Hospital Clinic Barcelona'>621CVAAXX__exome_CNAG_CLL-166TD_paired</SUBMITTER_ID>      </IDENTIFIERS>    </RUN_REF>    <RUN_REF accession='EGAR00001004197' refname='626MRAAXX__exome_CNAG_CLL-007ND_paired' refcenter='Hospital Clinic Barcelona'>      <IDENTIFIERS>        <PRIMARY_ID>EGAR00001004197</PRIMARY_ID>        <SUBMITTER_ID namespace='Hospital Clinic Barcelona'>626MRAAXX__exome_CNAG_CLL-007ND_paired</SUBMITTER_ID>      </IDENTIFIERS>    </RUN_REF>    <RUN_REF accession='EGAR00001004198' refname='100611_HWUSI-EAS1692_0006_cBotD_61JR1AAXX__exome_CNAG_CLL-029TD_paired' refcenter='Hospital Clinic Barcelona'>      <IDENTIFIERS>        <PRIMARY_ID>EGAR00001004198</PRIMARY_ID>        <SUBMITTER_ID namespace='Hospital Clinic Barcelona'>100611_HWUSI-EAS1692_0006_cBotD_61JR1AAXX__exome_CNAG_CLL-029TD_paired</SUBMITTER_ID>      </IDENTIFIERS>    </RUN_REF>    <RUN_REF accession='EGAR00001004199' refname='100702_HWUSI-EAS1693_0003_botC_61UVGAAXX__exome_CNAG_CLL-091ND_paired' refcenter='Hospital Clinic Barcelona'>      <IDENTIFIERS>        <PRIMARY_ID>EGAR00001004199</PRIMARY_ID>        <SUBMITTER_ID namespace='Hospital Clinic Barcelona'>100702_HWUSI-EAS1693_0003_botC_61UVGAAXX__exome_CNAG_CLL-091ND_paired</SUBMITTER_ID>      </IDENTIFIERS>    </RUN_REF>    <RUN_REF accession='EGAR00001004200' refname='627JKAAXX__exome_CNAG_CLL-278ND_paired' refcenter='Hospital Clinic Barcelona'>      <IDENTIFIERS>        <PRIMARY_ID>EGAR00001004200</PRIMARY_ID>        <SUBMITTER_ID namespace='Hospital Clinic Barcelona'>627JKAAXX__exome_CNAG_CLL-278ND_paired</SUBMITTER_ID>      </IDENTIFIERS>    </RUN_REF>    <RUN_REF accession='EGAR00001004201' refname='100611_HWUSI-EAS1692_0006_cBotD_61JR1AAXX__exome_CNAG_CLL-040ND_paired' refcenter='Hospital Clinic Barcelona'>      <IDENTIFIERS>        <PRIMARY_ID>EGAR00001004201</PRIMARY_ID>        <SUBMITTER_ID namespace='Hospital Clinic Barcelona'>100611_HWUSI-EAS1692_0006_cBotD_61JR1AAXX__exome_CNAG_CLL-040ND_paired</SUBMITTER_ID>      </IDENTIFIERS>    </RUN_REF>    <RUN_REF accession='EGAR00001004202' refname='100702_HWUSI-EAS1693_0003_botC_61UVGAAXX__exome_CNAG_CLL-091TD_paired' refcenter='Hospital Clinic Barcelona'>      <IDENTIFIERS>        <PRIMARY_ID>EGAR00001004202</PRIMARY_ID>        <SUBMITTER_ID namespace='Hospital Clinic Barcelona'>100702_HWUSI-EAS1693_0003_botC_61UVGAAXX__exome_CNAG_CLL-091TD_paired</SUBMITTER_ID>      </IDENTIFIERS>    </RUN_REF>    <RUN_REF accession='EGAR00001004203' refname='629EMAAXX__exome_CNAG_CLL-174TD_paired' refcenter='Hospital Clinic Barcelona'>      <IDENTIFIERS>        <PRIMARY_ID>EGAR00001004203</PRIMARY_ID>        <SUBMITTER_ID namespace='Hospital Clinic Barcelona'>629EMAAXX__exome_CNAG_CLL-174TD_paired</SUBMITTER_ID>      </IDENTIFIERS>    </RUN_REF>    <RUN_REF accession='EGAR00001004204' refname='61UNFAAXX__exome_CNAG_CLL-642ND_paired' refcenter='Hospital Clinic Barcelona'>      <IDENTIFIERS>        <PRIMARY_ID>EGAR00001004204</PRIMARY_ID>        <SUBMITTER_ID namespace='Hospital Clinic Barcelona'>61UNFAAXX__exome_CNAG_CLL-642ND_paired</SUBMITTER_ID>      </IDENTIFIERS>    </RUN_REF>    <RUN_REF accession='EGAR00001004205' refname='627LRAAXX__exome_CNAG_CLL-195ND_paired' refcenter='Hospital Clinic Barcelona'>      <IDENTIFIERS>        <PRIMARY_ID>EGAR00001004205</PRIMARY_ID>        <SUBMITTER_ID namespace='Hospital Clinic Barcelona'>627LRAAXX__exome_CNAG_CLL-195ND_paired</SUBMITTER_ID>      </IDENTIFIERS>    </RUN_REF>    <RUN_REF accession='EGAR00001004206' refname='61UU6AAXX__exome_CNAG_CLL-155TD_paired' refcenter='Hospital Clinic Barcelona'>      <IDENTIFIERS>        <PRIMARY_ID>EGAR00001004206</PRIMARY_ID>        <SUBMITTER_ID namespace='Hospital Clinic Barcelona'>61UU6AAXX__exome_CNAG_CLL-155TD_paired</SUBMITTER_ID>      </IDENTIFIERS>    </RUN_REF>    <RUN_REF accession='EGAR00001004207' refname='629EMAAXX__exome_CNAG_CLL-171ND_paired' refcenter='Hospital Clinic Barcelona'>      <IDENTIFIERS>        <PRIMARY_ID>EGAR00001004207</PRIMARY_ID>        <SUBMITTER_ID namespace='Hospital Clinic Barcelona'>629EMAAXX__exome_CNAG_CLL-171ND_paired</SUBMITTER_ID>      </IDENTIFIERS>    </RUN_REF>    <RUN_REF accession='EGAR00001004208' refname='61UVHAAXX__exome_CNAG_CLL-053ND_paired' refcenter='Hospital Clinic Barcelona'>      <IDENTIFIERS>        <PRIMARY_ID>EGAR00001004208</PRIMARY_ID>        <SUBMITTER_ID namespace='Hospital Clinic Barcelona'>61UVHAAXX__exome_CNAG_CLL-053ND_paired</SUBMITTER_ID>      </IDENTIFIERS>    </RUN_REF>    <RUN_REF accession='EGAR00001004209' refname='627LRAAXX__exome_CNAG_CLL-266TD_paired' refcenter='Hospital Clinic Barcelona'>      <IDENTIFIERS>        <PRIMARY_ID>EGAR00001004209</PRIMARY_ID>        <SUBMITTER_ID namespace='Hospital Clinic Barcelona'>627LRAAXX__exome_CNAG_CLL-266TD_paired</SUBMITTER_ID>      </IDENTIFIERS>    </RUN_REF>    <RUN_REF accession='EGAR00001004210' refname='62MK7AAXX__exome_CNAG_CLL-188TD_paired' refcenter='Hospital Clinic Barcelona'>      <IDENTIFIERS>        <PRIMARY_ID>EGAR00001004210</PRIMARY_ID>        <SUBMITTER_ID namespace='Hospital Clinic Barcelona'>62MK7AAXX__exome_CNAG_CLL-188TD_paired</SUBMITTER_ID>      </IDENTIFIERS>    </RUN_REF>    <RUN_REF accession='EGAR00001004211' refname='621CVAAXX__exome_CNAG_CLL-165TD_paired' refcenter='Hospital Clinic Barcelona'>      <IDENTIFIERS>        <PRIMARY_ID>EGAR00001004211</PRIMARY_ID>        <SUBMITTER_ID namespace='Hospital Clinic Barcelona'>621CVAAXX__exome_CNAG_CLL-165TD_paired</SUBMITTER_ID>      </IDENTIFIERS>    </RUN_REF>    <RUN_REF accession='EGAR00001004212' refname='62MJHAAXX__exome_CNAG_CLL-193TD_paired' refcenter='Hospital Clinic Barcelona'>      <IDENTIFIERS>        <PRIMARY_ID>EGAR00001004212</PRIMARY_ID>        <SUBMITTER_ID namespace='Hospital Clinic Barcelona'>62MJHAAXX__exome_CNAG_CLL-193TD_paired</SUBMITTER_ID>      </IDENTIFIERS>    </RUN_REF>    <RUN_REF accession='EGAR00001004213' refname='61UU6AAXX__exome_CNAG_CLL-152TD_paired' refcenter='Hospital Clinic Barcelona'>      <IDENTIFIERS>        <PRIMARY_ID>EGAR00001004213</PRIMARY_ID>        <SUBMITTER_ID namespace='Hospital Clinic Barcelona'>61UU6AAXX__exome_CNAG_CLL-152TD_paired</SUBMITTER_ID>      </IDENTIFIERS>    </RUN_REF>    <RUN_REF accession='EGAR00001004000' refname='100615_HWUSI-EAS1684_0006_cbotA_61VA1AAXX__exome_CNAG_CLL-030TD_paired' refcenter='Hospital Clinic Barcelona'>      <IDENTIFIERS>        <PRIMARY_ID>EGAR00001004000</PRIMARY_ID>        <SUBMITTER_ID namespace='Hospital Clinic Barcelona'>100615_HWUSI-EAS1684_0006_cbotA_61VA1AAXX__exome_CNAG_CLL-030TD_paired</SUBMITTER_ID>      </IDENTIFIERS>    </RUN_REF>    <RUN_REF accession='EGAR00001004001' refname='62A8RAAXX__exome_CNAG_CLL-175TD_paired' refcenter='Hospital Clinic Barcelona'>      <IDENTIFIERS>        <PRIMARY_ID>EGAR00001004001</PRIMARY_ID>        <SUBMITTER_ID namespace='Hospital Clinic Barcelona'>62A8RAAXX__exome_CNAG_CLL-175TD_paired</SUBMITTER_ID>      </IDENTIFIERS>    </RUN_REF>    <RUN_REF accession='EGAR00001004002' refname='62BB5AAXX__exome_CNAG_CLL-156TD_paired' refcenter='Hospital Clinic Barcelona'>      <IDENTIFIERS>        <PRIMARY_ID>EGAR00001004002</PRIMARY_ID>        <SUBMITTER_ID namespace='Hospital Clinic Barcelona'>62BB5AAXX__exome_CNAG_CLL-156TD_paired</SUBMITTER_ID>      </IDENTIFIERS>    </RUN_REF>    <RUN_REF accession='EGAR00001004003' refname='100702_HWUSI-EAS1693_0003_botC_61UVGAAXX__exome_CNAG_CLL-110TD_paired' refcenter='Hospital Clinic Barcelona'>      <IDENTIFIERS>        <PRIMARY_ID>EGAR00001004003</PRIMARY_ID>        <SUBMITTER_ID namespace='Hospital Clinic Barcelona'>100702_HWUSI-EAS1693_0003_botC_61UVGAAXX__exome_CNAG_CLL-110TD_paired</SUBMITTER_ID>      </IDENTIFIERS>    </RUN_REF>    <RUN_REF accession='EGAR00001004004' refname='627LPAAXX__exome_CNAG_CLL-185ND_paired' refcenter='Hospital Clinic Barcelona'>      <IDENTIFIERS>        <PRIMARY_ID>EGAR00001004004</PRIMARY_ID>        <SUBMITTER_ID namespace='Hospital Clinic Barcelona'>627LPAAXX__exome_CNAG_CLL-185ND_paired</SUBMITTER_ID>      </IDENTIFIERS>    </RUN_REF>    <RUN_REF accession='EGAR00001004005' refname='100615_HWUSI-EAS1684_0006_cbotA_61VA1AAXX__exome_CNAG_CLL-022ND_paired' refcenter='Hospital Clinic Barcelona'>      <IDENTIFIERS>        <PRIMARY_ID>EGAR00001004005</PRIMARY_ID>        <SUBMITTER_ID namespace='Hospital Clinic Barcelona'>100615_HWUSI-EAS1684_0006_cbotA_61VA1AAXX__exome_CNAG_CLL-022ND_paired</SUBMITTER_ID>      </IDENTIFIERS>    </RUN_REF>    <RUN_REF accession='EGAR00001004006' refname='62JP4AAXX__exome_CNAG_CLL-273TD_paired' refcenter='Hospital Clinic Barcelona'>      <IDENTIFIERS>        <PRIMARY_ID>EGAR00001004006</PRIMARY_ID>        <SUBMITTER_ID namespace='Hospital Clinic Barcelona'>62JP4AAXX__exome_CNAG_CLL-273TD_paired</SUBMITTER_ID>      </IDENTIFIERS>    </RUN_REF>    <RUN_REF accession='EGAR00001004007' refname='626W8AAXX__exome_CNAG_CLL-270ND_paired' refcenter='Hospital Clinic Barcelona'>      <IDENTIFIERS>        <PRIMARY_ID>EGAR00001004007</PRIMARY_ID>        <SUBMITTER_ID namespace='Hospital Clinic Barcelona'>626W8AAXX__exome_CNAG_CLL-270ND_paired</SUBMITTER_ID>      </IDENTIFIERS>    </RUN_REF>    <RUN_REF accession='EGAR00001004008' refname='629EMAAXX__exome_CNAG_CLL-172ND_paired' refcenter='Hospital Clinic Barcelona'>      <IDENTIFIERS>        <PRIMARY_ID>EGAR00001004008</PRIMARY_ID>        <SUBMITTER_ID namespace='Hospital Clinic Barcelona'>629EMAAXX__exome_CNAG_CLL-172ND_paired</SUBMITTER_ID>      </IDENTIFIERS>    </RUN_REF>    <RUN_REF accession='EGAR00001004009' refname='100611_HWUSI-EAS1692_0006_cBotD_61JR1AAXX__exome_CNAG_CLL-040TD_paired' refcenter='Hospital Clinic Barcelona'>      <IDENTIFIERS>        <PRIMARY_ID>EGAR00001004009</PRIMARY_ID>        <SUBMITTER_ID namespace='Hospital Clinic Barcelona'>100611_HWUSI-EAS1692_0006_cBotD_61JR1AAXX__exome_CNAG_CLL-040TD_paired</SUBMITTER_ID>      </IDENTIFIERS>    </RUN_REF>    <RUN_REF accession='EGAR00001004010' refname='626M8AAXX__exome_CNAG_CLL-082TD_paired' refcenter='Hospital Clinic Barcelona'>      <IDENTIFIERS>        <PRIMARY_ID>EGAR00001004010</PRIMARY_ID>        <SUBMITTER_ID namespace='Hospital Clinic Barcelona'>626M8AAXX__exome_CNAG_CLL-082TD_paired</SUBMITTER_ID>      </IDENTIFIERS>    </RUN_REF>    <RUN_REF accession='EGAR00001004011' refname='100701_HWUSI-EAS1684_0009_botA_62149AAXX__exome_CNAG_CLL-043TD_paired' refcenter='Hospital Clinic Barcelona'>      <IDENTIFIERS>        <PRIMARY_ID>EGAR00001004011</PRIMARY_ID>        <SUBMITTER_ID namespace='Hospital Clinic Barcelona'>100701_HWUSI-EAS1684_0009_botA_62149AAXX__exome_CNAG_CLL-043TD_paired</SUBMITTER_ID>      </IDENTIFIERS>    </RUN_REF>    <RUN_REF accession='EGAR00001004012' refname='626W8AAXX__exome_CNAG_CLL-267TD_paired' refcenter='Hospital Clinic Barcelona'>      <IDENTIFIERS>        <PRIMARY_ID>EGAR00001004012</PRIMARY_ID>        <SUBMITTER_ID namespace='Hospital Clinic Barcelona'>626W8AAXX__exome_CNAG_CLL-267TD_paired</SUBMITTER_ID>      </IDENTIFIERS>    </RUN_REF>    <RUN_REF accession='EGAR00001004013' refname='626WFAAXX__exome_CNAG_CLL-272TD_paired' refcenter='Hospital Clinic Barcelona'>      <IDENTIFIERS>        <PRIMARY_ID>EGAR00001004013</PRIMARY_ID>        <SUBMITTER_ID namespace='Hospital Clinic Barcelona'>626WFAAXX__exome_CNAG_CLL-272TD_paired</SUBMITTER_ID>      </IDENTIFIERS>    </RUN_REF>    <RUN_REF accession='EGAR00001004014' refname='626WEAAXX__exome_CNAG_CLL-326ND_paired' refcenter='Hospital Clinic Barcelona'>      <IDENTIFIERS>        <PRIMARY_ID>EGAR00001004014</PRIMARY_ID>        <SUBMITTER_ID namespace='Hospital Clinic Barcelona'>626WEAAXX__exome_CNAG_CLL-326ND_paired</SUBMITTER_ID>      </IDENTIFIERS>    </RUN_REF>    <RUN_REF accession='EGAR00001004015' refname='61UVPAAXX__exome_CNAG_CLL-117TD_paired' refcenter='Hospital Clinic Barcelona'>      <IDENTIFIERS>        <PRIMARY_ID>EGAR00001004015</PRIMARY_ID>        <SUBMITTER_ID namespace='Hospital Clinic Barcelona'>61UVPAAXX__exome_CNAG_CLL-117TD_paired</SUBMITTER_ID>      </IDENTIFIERS>    </RUN_REF>    <RUN_REF accession='EGAR00001004016' refname='100625_HWUSI-EAS1691_0006_cBotA_61UVEAAXX__exome_CNAG_CLL-009ND_paired' refcenter='Hospital Clinic Barcelona'>      <IDENTIFIERS>        <PRIMARY_ID>EGAR00001004016</PRIMARY_ID>        <SUBMITTER_ID namespace='Hospital Clinic Barcelona'>100625_HWUSI-EAS1691_0006_cBotA_61UVEAAXX__exome_CNAG_CLL-009ND_paired</SUBMITTER_ID>      </IDENTIFIERS>    </RUN_REF>    <RUN_REF accession='EGAR00001004017' refname='621CVAAXX__exome_CNAG_CLL-170TD_paired' refcenter='Hospital Clinic Barcelona'>      <IDENTIFIERS>        <PRIMARY_ID>EGAR00001004017</PRIMARY_ID>        <SUBMITTER_ID namespace='Hospital Clinic Barcelona'>621CVAAXX__exome_CNAG_CLL-170TD_paired</SUBMITTER_ID>      </IDENTIFIERS>    </RUN_REF>    <RUN_REF accession='EGAR00001004018' refname='621CVAAXX__exome_CNAG_CLL-165ND_paired' refcenter='Hospital Clinic Barcelona'>      <IDENTIFIERS>        <PRIMARY_ID>EGAR00001004018</PRIMARY_ID>        <SUBMITTER_ID namespace='Hospital Clinic Barcelona'>621CVAAXX__exome_CNAG_CLL-165ND_paired</SUBMITTER_ID>      </IDENTIFIERS>    </RUN_REF>    <RUN_REF accession='EGAR00001004019' refname='626WEAAXX__exome_CNAG_CLL-274TD_paired' refcenter='Hospital Clinic Barcelona'>      <IDENTIFIERS>        <PRIMARY_ID>EGAR00001004019</PRIMARY_ID>        <SUBMITTER_ID namespace='Hospital Clinic Barcelona'>626WEAAXX__exome_CNAG_CLL-274TD_paired</SUBMITTER_ID>      </IDENTIFIERS>    </RUN_REF>    <RUN_REF accession='EGAR00001004020' refname='61UNDAAXX__exome_CNAG_CLL-758TD_paired' refcenter='Hospital Clinic Barcelona'>      <IDENTIFIERS>        <PRIMARY_ID>EGAR00001004020</PRIMARY_ID>        <SUBMITTER_ID namespace='Hospital Clinic Barcelona'>61UNDAAXX__exome_CNAG_CLL-758TD_paired</SUBMITTER_ID>      </IDENTIFIERS>    </RUN_REF>    <RUN_REF accession='EGAR00001004021' refname='100625_HWUSI-EAS1691_0006_cBotA_61UVEAAXX__exome_CNAG_CLL-045TD_paired' refcenter='Hospital Clinic Barcelona'>      <IDENTIFIERS>        <PRIMARY_ID>EGAR00001004021</PRIMARY_ID>        <SUBMITTER_ID namespace='Hospital Clinic Barcelona'>100625_HWUSI-EAS1691_0006_cBotA_61UVEAAXX__exome_CNAG_CLL-045TD_paired</SUBMITTER_ID>      </IDENTIFIERS>    </RUN_REF>    <RUN_REF accession='EGAR00001004022' refname='626WEAAXX__exome_CNAG_CLL-328ND_paired' refcenter='Hospital Clinic Barcelona'>      <IDENTIFIERS>        <PRIMARY_ID>EGAR00001004022</PRIMARY_ID>        <SUBMITTER_ID namespace='Hospital Clinic Barcelona'>626WEAAXX__exome_CNAG_CLL-328ND_paired</SUBMITTER_ID>      </IDENTIFIERS>    </RUN_REF>    <RUN_REF accession='EGAR00001004023' refname='62BB5AAXX__exome_CNAG_CLL-184TD_paired' refcenter='Hospital Clinic Barcelona'>      <IDENTIFIERS>        <PRIMARY_ID>EGAR00001004023</PRIMARY_ID>        <SUBMITTER_ID namespace='Hospital Clinic Barcelona'>62BB5AAXX__exome_CNAG_CLL-184TD_paired</SUBMITTER_ID>      </IDENTIFIERS>    </RUN_REF>    <RUN_REF accession='EGAR00001004024' refname='626W8AAXX__exome_CNAG_CLL-197TD_paired' refcenter='Hospital Clinic Barcelona'>      <IDENTIFIERS>        <PRIMARY_ID>EGAR00001004024</PRIMARY_ID>        <SUBMITTER_ID namespace='Hospital Clinic Barcelona'>626W8AAXX__exome_CNAG_CLL-197TD_paired</SUBMITTER_ID>      </IDENTIFIERS>    </RUN_REF>    <RUN_REF accession='EGAR00001004025' refname='627JKAAXX__exome_CNAG_CLL-276ND_paired' refcenter='Hospital Clinic Barcelona'>      <IDENTIFIERS>        <PRIMARY_ID>EGAR00001004025</PRIMARY_ID>        <SUBMITTER_ID namespace='Hospital Clinic Barcelona'>627JKAAXX__exome_CNAG_CLL-276ND_paired</SUBMITTER_ID>      </IDENTIFIERS>    </RUN_REF>    <RUN_REF accession='EGAR00001004026' refname='100702_HWUSI-EAS1689_0008_cBotA_61UTYAAXX__exome_CNAG_CLL-044ND_paired' refcenter='Hospital Clinic Barcelona'>      <IDENTIFIERS>        <PRIMARY_ID>EGAR00001004026</PRIMARY_ID>        <SUBMITTER_ID namespace='Hospital Clinic Barcelona'>100702_HWUSI-EAS1689_0008_cBotA_61UTYAAXX__exome_CNAG_CLL-044ND_paired</SUBMITTER_ID>      </IDENTIFIERS>    </RUN_REF>    <RUN_REF accession='EGAR00001004027' refname='100625_HWUSI-EAS1691_0006_cBotA_61UVEAAXX__exome_CNAG_CLL-032TD_paired' refcenter='Hospital Clinic Barcelona'>      <IDENTIFIERS>        <PRIMARY_ID>EGAR00001004027</PRIMARY_ID>        <SUBMITTER_ID namespace='Hospital Clinic Barcelona'>100625_HWUSI-EAS1691_0006_cBotA_61UVEAAXX__exome_CNAG_CLL-032TD_paired</SUBMITTER_ID>      </IDENTIFIERS>    </RUN_REF>    <RUN_REF accession='EGAR00001004028' refname='61UVHAAXX__exome_CNAG_CLL-083ND_paired' refcenter='Hospital Clinic Barcelona'>      <IDENTIFIERS>        <PRIMARY_ID>EGAR00001004028</PRIMARY_ID>        <SUBMITTER_ID namespace='Hospital Clinic Barcelona'>61UVHAAXX__exome_CNAG_CLL-083ND_paired</SUBMITTER_ID>      </IDENTIFIERS>    </RUN_REF>    <RUN_REF accession='EGAR00001004029' refname='100702_HWUSI-EAS1689_0008_cBotA_61UTYAAXX__exome_CNAG_CLL-054ND_paired' refcenter='Hospital Clinic Barcelona'>      <IDENTIFIERS>        <PRIMARY_ID>EGAR00001004029</PRIMARY_ID>        <SUBMITTER_ID namespace='Hospital Clinic Barcelona'>100702_HWUSI-EAS1689_0008_cBotA_61UTYAAXX__exome_CNAG_CLL-054ND_paired</SUBMITTER_ID>      </IDENTIFIERS>    </RUN_REF>    <RUN_REF accession='EGAR00001004030' refname='627LPAAXX__exome_CNAG_CLL-185TD_paired' refcenter='Hospital Clinic Barcelona'>      <IDENTIFIERS>        <PRIMARY_ID>EGAR00001004030</PRIMARY_ID>        <SUBMITTER_ID namespace='Hospital Clinic Barcelona'>627LPAAXX__exome_CNAG_CLL-185TD_paired</SUBMITTER_ID>      </IDENTIFIERS>    </RUN_REF>    <RUN_REF accession='EGAR00001004031' refname='626WFAAXX__exome_CNAG_CLL-186TD_paired' refcenter='Hospital Clinic Barcelona'>      <IDENTIFIERS>        <PRIMARY_ID>EGAR00001004031</PRIMARY_ID>        <SUBMITTER_ID namespace='Hospital Clinic Barcelona'>626WFAAXX__exome_CNAG_CLL-186TD_paired</SUBMITTER_ID>      </IDENTIFIERS>    </RUN_REF>    <RUN_REF accession='EGAR00001004032' refname='100609_HWUSI-EAS1556_0005_botB_61JPBAAXX__exome_CNAG_CLL-019TD_paired' refcenter='Hospital Clinic Barcelona'>      <IDENTIFIERS>        <PRIMARY_ID>EGAR00001004032</PRIMARY_ID>        <SUBMITTER_ID namespace='Hospital Clinic Barcelona'>100609_HWUSI-EAS1556_0005_botB_61JPBAAXX__exome_CNAG_CLL-019TD_paired</SUBMITTER_ID>      </IDENTIFIERS>    </RUN_REF>    <RUN_REF accession='EGAR00001004033' refname='100702_HWUSI-EAS1689_0008_cBotA_61UTYAAXX__exome_CNAG_CLL-064ND_paired' refcenter='Hospital Clinic Barcelona'>      <IDENTIFIERS>        <PRIMARY_ID>EGAR00001004033</PRIMARY_ID>        <SUBMITTER_ID namespace='Hospital Clinic Barcelona'>100702_HWUSI-EAS1689_0008_cBotA_61UTYAAXX__exome_CNAG_CLL-064ND_paired</SUBMITTER_ID>      </IDENTIFIERS>    </RUN_REF>    <RUN_REF accession='EGAR00001004034' refname='100625_HWUSI-EAS1691_0006_cBotA_61UVEAAXX__exome_CNAG_CLL-038TD_paired' refcenter='Hospital Clinic Barcelona'>      <IDENTIFIERS>        <PRIMARY_ID>EGAR00001004034</PRIMARY_ID>        <SUBMITTER_ID namespace='Hospital Clinic Barcelona'>100625_HWUSI-EAS1691_0006_cBotA_61UVEAAXX__exome_CNAG_CLL-038TD_paired</SUBMITTER_ID>      </IDENTIFIERS>    </RUN_REF>    <RUN_REF accession='EGAR00001004035' refname='61UNDAAXX__exome_CNAG_CLL-083TD_paired' refcenter='Hospital Clinic Barcelona'>      <IDENTIFIERS>        <PRIMARY_ID>EGAR00001004035</PRIMARY_ID>        <SUBMITTER_ID namespace='Hospital Clinic Barcelona'>61UNDAAXX__exome_CNAG_CLL-083TD_paired</SUBMITTER_ID>      </IDENTIFIERS>    </RUN_REF>    <RUN_REF accession='EGAR00001004036' refname='62MJHAAXX__exome_CNAG_CLL-194TD_paired' refcenter='Hospital Clinic Barcelona'>      <IDENTIFIERS>        <PRIMARY_ID>EGAR00001004036</PRIMARY_ID>        <SUBMITTER_ID namespace='Hospital Clinic Barcelona'>62MJHAAXX__exome_CNAG_CLL-194TD_paired</SUBMITTER_ID>      </IDENTIFIERS>    </RUN_REF>    <RUN_REF accession='EGAR00001004037' refname='100615_HWUSI-EAS1684_0006_cbotA_61VA1AAXX__exome_CNAG_CLL-027ND_paired' refcenter='Hospital Clinic Barcelona'>      <IDENTIFIERS>        <PRIMARY_ID>EGAR00001004037</PRIMARY_ID>        <SUBMITTER_ID namespace='Hospital Clinic Barcelona'>100615_HWUSI-EAS1684_0006_cbotA_61VA1AAXX__exome_CNAG_CLL-027ND_paired</SUBMITTER_ID>      </IDENTIFIERS>    </RUN_REF>    <RUN_REF accession='EGAR00001004038' refname='626WFAAXX__exome_CNAG_CLL-157ND_paired' refcenter='Hospital Clinic Barcelona'>      <IDENTIFIERS>        <PRIMARY_ID>EGAR00001004038</PRIMARY_ID>        <SUBMITTER_ID namespace='Hospital Clinic Barcelona'>626WFAAXX__exome_CNAG_CLL-157ND_paired</SUBMITTER_ID>      </IDENTIFIERS>    </RUN_REF>    <RUN_REF accession='EGAR00001004039' refname='62A8RAAXX__exome_CNAG_CLL-181ND_paired' refcenter='Hospital Clinic Barcelona'>      <IDENTIFIERS>        <PRIMARY_ID>EGAR00001004039</PRIMARY_ID>        <SUBMITTER_ID namespace='Hospital Clinic Barcelona'>62A8RAAXX__exome_CNAG_CLL-181ND_paired</SUBMITTER_ID>      </IDENTIFIERS>    </RUN_REF>    <RUN_REF accession='EGAR00001004040' refname='100702_HWUSI-EAS1693_0003_botC_61UVGAAXX__exome_CNAG_CLL-110ND_paired' refcenter='Hospital Clinic Barcelona'>      <IDENTIFIERS>        <PRIMARY_ID>EGAR00001004040</PRIMARY_ID>        <SUBMITTER_ID namespace='Hospital Clinic Barcelona'>100702_HWUSI-EAS1693_0003_botC_61UVGAAXX__exome_CNAG_CLL-110ND_paired</SUBMITTER_ID>      </IDENTIFIERS>    </RUN_REF>    <RUN_REF accession='EGAR00001004041' refname='62MJHAAXX__exome_CNAG_CLL-136TD_paired' refcenter='Hospital Clinic Barcelona'>      <IDENTIFIERS>        <PRIMARY_ID>EGAR00001004041</PRIMARY_ID>        <SUBMITTER_ID namespace='Hospital Clinic Barcelona'>62MJHAAXX__exome_CNAG_CLL-136TD_paired</SUBMITTER_ID>      </IDENTIFIERS>    </RUN_REF>    <RUN_REF accession='EGAR00001004042' refname='621CVAAXX__exome_CNAG_CLL-159TD_paired' refcenter='Hospital Clinic Barcelona'>      <IDENTIFIERS>        <PRIMARY_ID>EGAR00001004042</PRIMARY_ID>        <SUBMITTER_ID namespace='Hospital Clinic Barcelona'>621CVAAXX__exome_CNAG_CLL-159TD_paired</SUBMITTER_ID>      </IDENTIFIERS>    </RUN_REF>    <RUN_REF accession='EGAR00001004043' refname='100609_HWUSI-EAS1556_0005_botB_61JPBAAXX__exome_CNAG_CLL-017ND_paired' refcenter='Hospital Clinic Barcelona'>      <IDENTIFIERS>        <PRIMARY_ID>EGAR00001004043</PRIMARY_ID>        <SUBMITTER_ID namespace='Hospital Clinic Barcelona'>100609_HWUSI-EAS1556_0005_botB_61JPBAAXX__exome_CNAG_CLL-017ND_paired</SUBMITTER_ID>      </IDENTIFIERS>    </RUN_REF>    <RUN_REF accession='EGAR00001004044' refname='100702_HWUSI-EAS1689_0008_cBotA_61UTYAAXX__exome_CNAG_CLL-044TD_paired' refcenter='Hospital Clinic Barcelona'>      <IDENTIFIERS>        <PRIMARY_ID>EGAR00001004044</PRIMARY_ID>        <SUBMITTER_ID namespace='Hospital Clinic Barcelona'>100702_HWUSI-EAS1689_0008_cBotA_61UTYAAXX__exome_CNAG_CLL-044TD_paired</SUBMITTER_ID>      </IDENTIFIERS>    </RUN_REF>    <RUN_REF accession='EGAR00001004045' refname='100702_HWUSI-EAS1689_0008_cBotA_61UTYAAXX__exome_CNAG_CLL-054TD_paired' refcenter='Hospital Clinic Barcelona'>      <IDENTIFIERS>        <PRIMARY_ID>EGAR00001004045</PRIMARY_ID>        <SUBMITTER_ID namespace='Hospital Clinic Barcelona'>100702_HWUSI-EAS1689_0008_cBotA_61UTYAAXX__exome_CNAG_CLL-054TD_paired</SUBMITTER_ID>      </IDENTIFIERS>    </RUN_REF>    <RUN_REF accession='EGAR00001004046' refname='62MJHAAXX__exome_CNAG_CLL-189TD_paired' refcenter='Hospital Clinic Barcelona'>      <IDENTIFIERS>        <PRIMARY_ID>EGAR00001004046</PRIMARY_ID>        <SUBMITTER_ID namespace='Hospital Clinic Barcelona'>62MJHAAXX__exome_CNAG_CLL-189TD_paired</SUBMITTER_ID>      </IDENTIFIERS>    </RUN_REF>    <RUN_REF accession='EGAR00001004047' refname='627JKAAXX__exome_CNAG_CLL-279ND_paired' refcenter='Hospital Clinic Barcelona'>      <IDENTIFIERS>        <PRIMARY_ID>EGAR00001004047</PRIMARY_ID>        <SUBMITTER_ID namespace='Hospital Clinic Barcelona'>627JKAAXX__exome_CNAG_CLL-279ND_paired</SUBMITTER_ID>      </IDENTIFIERS>    </RUN_REF>    <RUN_REF accession='EGAR00001004048' refname='626M8AAXX__exome_CNAG_CLL-013TD_paired' refcenter='Hospital Clinic Barcelona'>      <IDENTIFIERS>        <PRIMARY_ID>EGAR00001004048</PRIMARY_ID>        <SUBMITTER_ID namespace='Hospital Clinic Barcelona'>626M8AAXX__exome_CNAG_CLL-013TD_paired</SUBMITTER_ID>      </IDENTIFIERS>    </RUN_REF>    <RUN_REF accession='EGAR00001004049' refname='62A8RAAXX__exome_CNAG_CLL-178ND_paired' refcenter='Hospital Clinic Barcelona'>      <IDENTIFIERS>        <PRIMARY_ID>EGAR00001004049</PRIMARY_ID>        <SUBMITTER_ID namespace='Hospital Clinic Barcelona'>62A8RAAXX__exome_CNAG_CLL-178ND_paired</SUBMITTER_ID>      </IDENTIFIERS>    </RUN_REF>    <RUN_REF accession='EGAR00001004050' refname='626WFAAXX__exome_CNAG_CLL-186ND_paired' refcenter='Hospital Clinic Barcelona'>      <IDENTIFIERS>        <PRIMARY_ID>EGAR00001004050</PRIMARY_ID>        <SUBMITTER_ID namespace='Hospital Clinic Barcelona'>626WFAAXX__exome_CNAG_CLL-186ND_paired</SUBMITTER_ID>      </IDENTIFIERS>    </RUN_REF>    <RUN_REF accession='EGAR00001004051' refname='626M8AAXX__exome_CNAG_CLL-013ND_paired' refcenter='Hospital Clinic Barcelona'>      <IDENTIFIERS>        <PRIMARY_ID>EGAR00001004051</PRIMARY_ID>        <SUBMITTER_ID namespace='Hospital Clinic Barcelona'>626M8AAXX__exome_CNAG_CLL-013ND_paired</SUBMITTER_ID>      </IDENTIFIERS>    </RUN_REF>    <RUN_REF accession='EGAR00001004052' refname='627LRAAXX__exome_CNAG_CLL-264TD_paired' refcenter='Hospital Clinic Barcelona'>      <IDENTIFIERS>        <PRIMARY_ID>EGAR00001004052</PRIMARY_ID>        <SUBMITTER_ID namespace='Hospital Clinic Barcelona'>627LRAAXX__exome_CNAG_CLL-264TD_paired</SUBMITTER_ID>      </IDENTIFIERS>    </RUN_REF>    <RUN_REF accession='EGAR00001004053' refname='626MRAAXX__exome_CNAG_CLL-005ND_paired' refcenter='Hospital Clinic Barcelona'>      <IDENTIFIERS>        <PRIMARY_ID>EGAR00001004053</PRIMARY_ID>        <SUBMITTER_ID namespace='Hospital Clinic Barcelona'>626MRAAXX__exome_CNAG_CLL-005ND_paired</SUBMITTER_ID>      </IDENTIFIERS>    </RUN_REF>    <RUN_REF accession='EGAR00001004054' refname='100611_HWUSI-EAS1692_0006_cBotD_61JR1AAXX__exome_CNAG_CLL-029ND_paired' refcenter='Hospital Clinic Barcelona'>      <IDENTIFIERS>        <PRIMARY_ID>EGAR00001004054</PRIMARY_ID>        <SUBMITTER_ID namespace='Hospital Clinic Barcelona'>100611_HWUSI-EAS1692_0006_cBotD_61JR1AAXX__exome_CNAG_CLL-029ND_paired</SUBMITTER_ID>      </IDENTIFIERS>    </RUN_REF>    <RUN_REF accession='EGAR00001004055' refname='61UNDAAXX__exome_CNAG_CLL-642TD_paired' refcenter='Hospital Clinic Barcelona'>      <IDENTIFIERS>        <PRIMARY_ID>EGAR00001004055</PRIMARY_ID>        <SUBMITTER_ID namespace='Hospital Clinic Barcelona'>61UNDAAXX__exome_CNAG_CLL-642TD_paired</SUBMITTER_ID>      </IDENTIFIERS>    </RUN_REF>    <RUN_REF accession='EGAR00001004056' refname='61UNDAAXX__exome_CNAG_CLL-758ND_paired' refcenter='Hospital Clinic Barcelona'>      <IDENTIFIERS>        <PRIMARY_ID>EGAR00001004056</PRIMARY_ID>        <SUBMITTER_ID namespace='Hospital Clinic Barcelona'>61UNDAAXX__exome_CNAG_CLL-758ND_paired</SUBMITTER_ID>      </IDENTIFIERS>    </RUN_REF>    <RUN_REF accession='EGAR00001004057' refname='61UNFAAXX__exome_CNAG_CLL-680TD_paired' refcenter='Hospital Clinic Barcelona'>      <IDENTIFIERS>        <PRIMARY_ID>EGAR00001004057</PRIMARY_ID>        <SUBMITTER_ID namespace='Hospital Clinic Barcelona'>61UNFAAXX__exome_CNAG_CLL-680TD_paired</SUBMITTER_ID>      </IDENTIFIERS>    </RUN_REF>    <RUN_REF accession='EGAR00001004058' refname='61UNFAAXX__exome_CNAG_CLL-785TD_paired' refcenter='Hospital Clinic Barcelona'>      <IDENTIFIERS>        <PRIMARY_ID>EGAR00001004058</PRIMARY_ID>        <SUBMITTER_ID namespace='Hospital Clinic Barcelona'>61UNFAAXX__exome_CNAG_CLL-785TD_paired</SUBMITTER_ID>      </IDENTIFIERS>    </RUN_REF>    <RUN_REF accession='EGAR00001004059' refname='100625_HWUSI-EAS1691_0006_cBotA_61UVEAAXX__exome_CNAG_CLL-032ND_paired' refcenter='Hospital Clinic Barcelona'>      <IDENTIFIERS>        <PRIMARY_ID>EGAR00001004059</PRIMARY_ID>        <SUBMITTER_ID namespace='Hospital Clinic Barcelona'>100625_HWUSI-EAS1691_0006_cBotA_61UVEAAXX__exome_CNAG_CLL-032ND_paired</SUBMITTER_ID>      </IDENTIFIERS>    </RUN_REF>    <RUN_REF accession='EGAR00001004060' refname='626W8AAXX__exome_CNAG_CLL-270TD_paired' refcenter='Hospital Clinic Barcelona'>      <IDENTIFIERS>        <PRIMARY_ID>EGAR00001004060</PRIMARY_ID>        <SUBMITTER_ID namespace='Hospital Clinic Barcelona'>626W8AAXX__exome_CNAG_CLL-270TD_paired</SUBMITTER_ID>      </IDENTIFIERS>    </RUN_REF>    <RUN_REF accession='EGAR00001004061' refname='100702_HWUSI-EAS1689_0008_cBotA_61UTYAAXX__exome_CNAG_CLL-063ND_paired' refcenter='Hospital Clinic Barcelona'>      <IDENTIFIERS>        <PRIMARY_ID>EGAR00001004061</PRIMARY_ID>        <SUBMITTER_ID namespace='Hospital Clinic Barcelona'>100702_HWUSI-EAS1689_0008_cBotA_61UTYAAXX__exome_CNAG_CLL-063ND_paired</SUBMITTER_ID>      </IDENTIFIERS>    </RUN_REF>    <RUN_REF accession='EGAR00001004062' refname='61UNDAAXX__exome_CNAG_CLL-043ND_paired' refcenter='Hospital Clinic Barcelona'>      <IDENTIFIERS>        <PRIMARY_ID>EGAR00001004062</PRIMARY_ID>        <SUBMITTER_ID namespace='Hospital Clinic Barcelona'>61UNDAAXX__exome_CNAG_CLL-043ND_paired</SUBMITTER_ID>      </IDENTIFIERS>    </RUN_REF>    <RUN_REF accession='EGAR00001004063' refname='100702_HWUSI-EAS1689_0008_cBotA_61UTYAAXX__exome_CNAG_CLL-063TD_paired' refcenter='Hospital Clinic Barcelona'>      <IDENTIFIERS>        <PRIMARY_ID>EGAR00001004063</PRIMARY_ID>        <SUBMITTER_ID namespace='Hospital Clinic Barcelona'>100702_HWUSI-EAS1689_0008_cBotA_61UTYAAXX__exome_CNAG_CLL-063TD_paired</SUBMITTER_ID>      </IDENTIFIERS>    </RUN_REF>    <RUN_REF accession='EGAR00001004064' refname='62MJHAAXX__exome_CNAG_CLL-193ND_paired' refcenter='Hospital Clinic Barcelona'>      <IDENTIFIERS>        <PRIMARY_ID>EGAR00001004064</PRIMARY_ID>        <SUBMITTER_ID namespace='Hospital Clinic Barcelona'>62MJHAAXX__exome_CNAG_CLL-193ND_paired</SUBMITTER_ID>      </IDENTIFIERS>    </RUN_REF>    <RUN_REF accession='EGAR00001004065' refname='621CMAAXX__exome_CNAG_CLL-322ND_paired' refcenter='Hospital Clinic Barcelona'>      <IDENTIFIERS>        <PRIMARY_ID>EGAR00001004065</PRIMARY_ID>        <SUBMITTER_ID namespace='Hospital Clinic Barcelona'>621CMAAXX__exome_CNAG_CLL-322ND_paired</SUBMITTER_ID>      </IDENTIFIERS>    </RUN_REF>    <RUN_REF accession='EGAR00001004066' refname='61UU6AAXX__exome_CNAG_CLL-815ND_paired' refcenter='Hospital Clinic Barcelona'>      <IDENTIFIERS>        <PRIMARY_ID>EGAR00001004066</PRIMARY_ID>        <SUBMITTER_ID namespace='Hospital Clinic Barcelona'>61UU6AAXX__exome_CNAG_CLL-815ND_paired</SUBMITTER_ID>      </IDENTIFIERS>    </RUN_REF>    <RUN_REF accession='EGAR00001004067' refname='61UVPAAXX__exome_CNAG_CLL-144ND_paired' refcenter='Hospital Clinic Barcelona'>      <IDENTIFIERS>        <PRIMARY_ID>EGAR00001004067</PRIMARY_ID>        <SUBMITTER_ID namespace='Hospital Clinic Barcelona'>61UVPAAXX__exome_CNAG_CLL-144ND_paired</SUBMITTER_ID>      </IDENTIFIERS>    </RUN_REF>    <RUN_REF accession='EGAR00001004068' refname='100702_HWUSI-EAS1693_0003_botC_61UVGAAXX__exome_CNAG_CLL-090ND_paired' refcenter='Hospital Clinic Barcelona'>      <IDENTIFIERS>        <PRIMARY_ID>EGAR00001004068</PRIMARY_ID>        <SUBMITTER_ID namespace='Hospital Clinic Barcelona'>100702_HWUSI-EAS1693_0003_botC_61UVGAAXX__exome_CNAG_CLL-090ND_paired</SUBMITTER_ID>      </IDENTIFIERS>    </RUN_REF>    <RUN_REF accession='EGAR00001004069' refname='621CVAAXX__exome_CNAG_CLL-166ND_paired' refcenter='Hospital Clinic Barcelona'>      <IDENTIFIERS>        <PRIMARY_ID>EGAR00001004069</PRIMARY_ID>        <SUBMITTER_ID namespace='Hospital Clinic Barcelona'>621CVAAXX__exome_CNAG_CLL-166ND_paired</SUBMITTER_ID>      </IDENTIFIERS>    </RUN_REF>    <RUN_REF accession='EGAR00001004070' refname='62MK7AAXX__exome_CNAG_CLL-041TD_paired' refcenter='Hospital Clinic Barcelona'>      <IDENTIFIERS>        <PRIMARY_ID>EGAR00001004070</PRIMARY_ID>        <SUBMITTER_ID namespace='Hospital Clinic Barcelona'>62MK7AAXX__exome_CNAG_CLL-041TD_paired</SUBMITTER_ID>      </IDENTIFIERS>    </RUN_REF>    <RUN_REF accession='EGAR00001004071' refname='61UN3AAXX__exome_CNAG_CLL-761TD_paired' refcenter='Hospital Clinic Barcelona'>      <IDENTIFIERS>        <PRIMARY_ID>EGAR00001004071</PRIMARY_ID>        <SUBMITTER_ID namespace='Hospital Clinic Barcelona'>61UN3AAXX__exome_CNAG_CLL-761TD_paired</SUBMITTER_ID>      </IDENTIFIERS>    </RUN_REF>    <RUN_REF accession='EGAR00001004072' refname='626MRAAXX__exome_CNAG_CLL-006ND_paired' refcenter='Hospital Clinic Barcelona'>      <IDENTIFIERS>        <PRIMARY_ID>EGAR00001004072</PRIMARY_ID>        <SUBMITTER_ID namespace='Hospital Clinic Barcelona'>626MRAAXX__exome_CNAG_CLL-006ND_paired</SUBMITTER_ID>      </IDENTIFIERS>    </RUN_REF>    <RUN_REF accession='EGAR00001004073' refname='62A8RAAXX__exome_CNAG_CLL-182ND_paired' refcenter='Hospital Clinic Barcelona'>      <IDENTIFIERS>        <PRIMARY_ID>EGAR00001004073</PRIMARY_ID>        <SUBMITTER_ID namespace='Hospital Clinic Barcelona'>62A8RAAXX__exome_CNAG_CLL-182ND_paired</SUBMITTER_ID>      </IDENTIFIERS>    </RUN_REF>    <RUN_REF accession='EGAR00001004074' refname='621CMAAXX__exome_CNAG_CLL-324ND_paired' refcenter='Hospital Clinic Barcelona'>      <IDENTIFIERS>        <PRIMARY_ID>EGAR00001004074</PRIMARY_ID>        <SUBMITTER_ID namespace='Hospital Clinic Barcelona'>621CMAAXX__exome_CNAG_CLL-324ND_paired</SUBMITTER_ID>      </IDENTIFIERS>    </RUN_REF>    <RUN_REF accession='EGAR00001004075' refname='62MK7AAXX__exome_CNAG_CLL-282ND_paired' refcenter='Hospital Clinic Barcelona'>      <IDENTIFIERS>        <PRIMARY_ID>EGAR00001004075</PRIMARY_ID>        <SUBMITTER_ID namespace='Hospital Clinic Barcelona'>62MK7AAXX__exome_CNAG_CLL-282ND_paired</SUBMITTER_ID>      </IDENTIFIERS>    </RUN_REF>    <RUN_REF accession='EGAR00001004076' refname='62A8RAAXX__exome_CNAG_CLL-175ND_paired' refcenter='Hospital Clinic Barcelona'>      <IDENTIFIERS>        <PRIMARY_ID>EGAR00001004076</PRIMARY_ID>        <SUBMITTER_ID namespace='Hospital Clinic Barcelona'>62A8RAAXX__exome_CNAG_CLL-175ND_paired</SUBMITTER_ID>      </IDENTIFIERS>    </RUN_REF>    <RUN_REF accession='EGAR00001004077' refname='627LRAAXX__exome_CNAG_CLL-192ND_paired' refcenter='Hospital Clinic Barcelona'>      <IDENTIFIERS>        <PRIMARY_ID>EGAR00001004077</PRIMARY_ID>        <SUBMITTER_ID namespace='Hospital Clinic Barcelona'>627LRAAXX__exome_CNAG_CLL-192ND_paired</SUBMITTER_ID>      </IDENTIFIERS>    </RUN_REF>    <RUN_REF accession='EGAR00001004078' refname='61UU6AAXX__exome_CNAG_CLL-815TD_paired' refcenter='Hospital Clinic Barcelona'>      <IDENTIFIERS>        <PRIMARY_ID>EGAR00001004078</PRIMARY_ID>        <SUBMITTER_ID namespace='Hospital Clinic Barcelona'>61UU6AAXX__exome_CNAG_CLL-815TD_paired</SUBMITTER_ID>      </IDENTIFIERS>    </RUN_REF>    <RUN_REF accession='EGAR00001004079' refname='621CMAAXX__exome_CNAG_CLL-319TD_paired' refcenter='Hospital Clinic Barcelona'>      <IDENTIFIERS>        <PRIMARY_ID>EGAR00001004079</PRIMARY_ID>        <SUBMITTER_ID namespace='Hospital Clinic Barcelona'>621CMAAXX__exome_CNAG_CLL-319TD_paired</SUBMITTER_ID>      </IDENTIFIERS>    </RUN_REF>    <RUN_REF accession='EGAR00001004080' refname='626WFAAXX__exome_CNAG_CLL-168ND_paired' refcenter='Hospital Clinic Barcelona'>      <IDENTIFIERS>        <PRIMARY_ID>EGAR00001004080</PRIMARY_ID>        <SUBMITTER_ID namespace='Hospital Clinic Barcelona'>626WFAAXX__exome_CNAG_CLL-168ND_paired</SUBMITTER_ID>      </IDENTIFIERS>    </RUN_REF>    <RUN_REF accession='EGAR00001004081' refname='61UNDAAXX__exome_CNAG_CLL-083ND_paired' refcenter='Hospital Clinic Barcelona'>      <IDENTIFIERS>        <PRIMARY_ID>EGAR00001004081</PRIMARY_ID>        <SUBMITTER_ID namespace='Hospital Clinic Barcelona'>61UNDAAXX__exome_CNAG_CLL-083ND_paired</SUBMITTER_ID>      </IDENTIFIERS>    </RUN_REF>    <RUN_REF accession='EGAR00001004082' refname='626WEAAXX__exome_CNAG_CLL-326TD_paired' refcenter='Hospital Clinic Barcelona'>      <IDENTIFIERS>        <PRIMARY_ID>EGAR00001004082</PRIMARY_ID>        <SUBMITTER_ID namespace='Hospital Clinic Barcelona'>626WEAAXX__exome_CNAG_CLL-326TD_paired</SUBMITTER_ID>      </IDENTIFIERS>    </RUN_REF>    <RUN_REF accession='EGAR00001004083' refname='626WGAAXX__exome_CNAG_CLL-275TD_paired' refcenter='Hospital Clinic Barcelona'>      <IDENTIFIERS>        <PRIMARY_ID>EGAR00001004083</PRIMARY_ID>        <SUBMITTER_ID namespace='Hospital Clinic Barcelona'>626WGAAXX__exome_CNAG_CLL-275TD_paired</SUBMITTER_ID>      </IDENTIFIERS>    </RUN_REF>    <RUN_REF accession='EGAR00001004084' refname='100625_HWUSI-EAS1691_0006_cBotA_61UVEAAXX__exome_CNAG_CLL-038ND_paired' refcenter='Hospital Clinic Barcelona'>      <IDENTIFIERS>        <PRIMARY_ID>EGAR00001004084</PRIMARY_ID>        <SUBMITTER_ID namespace='Hospital Clinic Barcelona'>100625_HWUSI-EAS1691_0006_cBotA_61UVEAAXX__exome_CNAG_CLL-038ND_paired</SUBMITTER_ID>      </IDENTIFIERS>    </RUN_REF>    <RUN_REF accession='EGAR00001004085' refname='62BB5AAXX__exome_CNAG_CLL-184ND_paired' refcenter='Hospital Clinic Barcelona'>      <IDENTIFIERS>        <PRIMARY_ID>EGAR00001004085</PRIMARY_ID>        <SUBMITTER_ID namespace='Hospital Clinic Barcelona'>62BB5AAXX__exome_CNAG_CLL-184ND_paired</SUBMITTER_ID>      </IDENTIFIERS>    </RUN_REF>    <RUN_REF accession='EGAR00001004086' refname='100625_HWUSI-EAS1691_0006_cBotA_61UVEAAXX__exome_CNAG_CLL-045ND_paired' refcenter='Hospital Clinic Barcelona'>      <IDENTIFIERS>        <PRIMARY_ID>EGAR00001004086</PRIMARY_ID>        <SUBMITTER_ID namespace='Hospital Clinic Barcelona'>100625_HWUSI-EAS1691_0006_cBotA_61UVEAAXX__exome_CNAG_CLL-045ND_paired</SUBMITTER_ID>      </IDENTIFIERS>    </RUN_REF>    <RUN_REF accession='EGAR00001004087' refname='626MRAAXX__exome_CNAG_CLL-008TD_paired' refcenter='Hospital Clinic Barcelona'>      <IDENTIFIERS>        <PRIMARY_ID>EGAR00001004087</PRIMARY_ID>        <SUBMITTER_ID namespace='Hospital Clinic Barcelona'>626MRAAXX__exome_CNAG_CLL-008TD_paired</SUBMITTER_ID>      </IDENTIFIERS>    </RUN_REF>    <RUN_REF accession='EGAR00001004088' refname='61UNFAAXX__exome_CNAG_CLL-618TD_paired' refcenter='Hospital Clinic Barcelona'>      <IDENTIFIERS>        <PRIMARY_ID>EGAR00001004088</PRIMARY_ID>        <SUBMITTER_ID namespace='Hospital Clinic Barcelona'>61UNFAAXX__exome_CNAG_CLL-618TD_paired</SUBMITTER_ID>      </IDENTIFIERS>    </RUN_REF>    <RUN_REF accession='EGAR00001004089' refname='61UVPAAXX__exome_CNAG_CLL-124ND_paired' refcenter='Hospital Clinic Barcelona'>      <IDENTIFIERS>        <PRIMARY_ID>EGAR00001004089</PRIMARY_ID>        <SUBMITTER_ID namespace='Hospital Clinic Barcelona'>61UVPAAXX__exome_CNAG_CLL-124ND_paired</SUBMITTER_ID>      </IDENTIFIERS>    </RUN_REF>    <RUN_REF accession='EGAR00001004090' refname='62JP4AAXX__exome_CNAG_CLL-273ND_paired' refcenter='Hospital Clinic Barcelona'>      <IDENTIFIERS>        <PRIMARY_ID>EGAR00001004090</PRIMARY_ID>        <SUBMITTER_ID namespace='Hospital Clinic Barcelona'>62JP4AAXX__exome_CNAG_CLL-273ND_paired</SUBMITTER_ID>      </IDENTIFIERS>    </RUN_REF>    <RUN_REF accession='EGAR00001004091' refname='100615_HWUSI-EAS1684_0006_cbotA_61VA1AAXX__exome_CNAG_CLL-023TD_paired' refcenter='Hospital Clinic Barcelona'>      <IDENTIFIERS>        <PRIMARY_ID>EGAR00001004091</PRIMARY_ID>        <SUBMITTER_ID namespace='Hospital Clinic Barcelona'>100615_HWUSI-EAS1684_0006_cbotA_61VA1AAXX__exome_CNAG_CLL-023TD_paired</SUBMITTER_ID>      </IDENTIFIERS>    </RUN_REF>    <RUN_REF accession='EGAR00001004092' refname='621CMAAXX__exome_CNAG_CLL-319ND_paired' refcenter='Hospital Clinic Barcelona'>      <IDENTIFIERS>        <PRIMARY_ID>EGAR00001004092</PRIMARY_ID>        <SUBMITTER_ID namespace='Hospital Clinic Barcelona'>621CMAAXX__exome_CNAG_CLL-319ND_paired</SUBMITTER_ID>      </IDENTIFIERS>    </RUN_REF>    <RUN_REF accession='EGAR00001004093' refname='61UVHAAXX__exome_CNAG_CLL-051TD_paired' refcenter='Hospital Clinic Barcelona'>      <IDENTIFIERS>        <PRIMARY_ID>EGAR00001004093</PRIMARY_ID>        <SUBMITTER_ID namespace='Hospital Clinic Barcelona'>61UVHAAXX__exome_CNAG_CLL-051TD_paired</SUBMITTER_ID>      </IDENTIFIERS>    </RUN_REF>    <RUN_REF accession='EGAR00001004094' refname='62A8RAAXX__exome_CNAG_CLL-181TD_paired' refcenter='Hospital Clinic Barcelona'>      <IDENTIFIERS>        <PRIMARY_ID>EGAR00001004094</PRIMARY_ID>        <SUBMITTER_ID namespace='Hospital Clinic Barcelona'>62A8RAAXX__exome_CNAG_CLL-181TD_paired</SUBMITTER_ID>      </IDENTIFIERS>    </RUN_REF>    <RUN_REF accession='EGAR00001004095' refname='629EMAAXX__exome_CNAG_CLL-174ND_paired' refcenter='Hospital Clinic Barcelona'>      <IDENTIFIERS>        <PRIMARY_ID>EGAR00001004095</PRIMARY_ID>        <SUBMITTER_ID namespace='Hospital Clinic Barcelona'>629EMAAXX__exome_CNAG_CLL-174ND_paired</SUBMITTER_ID>      </IDENTIFIERS>    </RUN_REF>    <RUN_REF accession='EGAR00001004096' refname='61UVHAAXX__exome_CNAG_CLL-049TD_paired' refcenter='Hospital Clinic Barcelona'>      <IDENTIFIERS>        <PRIMARY_ID>EGAR00001004096</PRIMARY_ID>        <SUBMITTER_ID namespace='Hospital Clinic Barcelona'>61UVHAAXX__exome_CNAG_CLL-049TD_paired</SUBMITTER_ID>      </IDENTIFIERS>    </RUN_REF>    <RUN_REF accession='EGAR00001004097' refname='627JKAAXX__exome_CNAG_CLL-276TD_paired' refcenter='Hospital Clinic Barcelona'>      <IDENTIFIERS>        <PRIMARY_ID>EGAR00001004097</PRIMARY_ID>        <SUBMITTER_ID namespace='Hospital Clinic Barcelona'>627JKAAXX__exome_CNAG_CLL-276TD_paired</SUBMITTER_ID>      </IDENTIFIERS>    </RUN_REF>    <RUN_REF accession='EGAR00001004098' refname='61UU6AAXX__exome_CNAG_CLL-155ND_paired' refcenter='Hospital Clinic Barcelona'>      <IDENTIFIERS>        <PRIMARY_ID>EGAR00001004098</PRIMARY_ID>        <SUBMITTER_ID namespace='Hospital Clinic Barcelona'>61UU6AAXX__exome_CNAG_CLL-155ND_paired</SUBMITTER_ID>      </IDENTIFIERS>    </RUN_REF>    <RUN_REF accession='EGAR00001004099' refname='626W8AAXX__exome_CNAG_CLL-197ND_paired' refcenter='Hospital Clinic Barcelona'>      <IDENTIFIERS>        <PRIMARY_ID>EGAR00001004099</PRIMARY_ID>        <SUBMITTER_ID namespace='Hospital Clinic Barcelona'>626W8AAXX__exome_CNAG_CLL-197ND_paired</SUBMITTER_ID>      </IDENTIFIERS>    </RUN_REF>    <RUN_REF accession='EGAR00001004100' refname='62BB5AAXX__exome_CNAG_CLL-323ND_paired' refcenter='Hospital Clinic Barcelona'>      <IDENTIFIERS>        <PRIMARY_ID>EGAR00001004100</PRIMARY_ID>        <SUBMITTER_ID namespace='Hospital Clinic Barcelona'>62BB5AAXX__exome_CNAG_CLL-323ND_paired</SUBMITTER_ID>      </IDENTIFIERS>    </RUN_REF>    <RUN_REF accession='EGAR00001004101' refname='100424_HWUSI-EAS1692_0001_CBOTC_61JJRAAXX__exome_CNAG_CLL-016ND_paired' refcenter='Hospital Clinic Barcelona'>      <IDENTIFIERS>        <PRIMARY_ID>EGAR00001004101</PRIMARY_ID>        <SUBMITTER_ID namespace='Hospital Clinic Barcelona'>100424_HWUSI-EAS1692_0001_CBOTC_61JJRAAXX__exome_CNAG_CLL-016ND_paired</SUBMITTER_ID>      </IDENTIFIERS>    </RUN_REF>    <RUN_REF accession='EGAR00001004102' refname='61UVHAAXX__exome_CNAG_CLL-049ND_paired' refcenter='Hospital Clinic Barcelona'>      <IDENTIFIERS>        <PRIMARY_ID>EGAR00001004102</PRIMARY_ID>        <SUBMITTER_ID namespace='Hospital Clinic Barcelona'>61UVHAAXX__exome_CNAG_CLL-049ND_paired</SUBMITTER_ID>      </IDENTIFIERS>    </RUN_REF>    <RUN_REF accession='EGAR00001004103' refname='62BB5AAXX__exome_CNAG_CLL-156ND_paired' refcenter='Hospital Clinic Barcelona'>      <IDENTIFIERS>        <PRIMARY_ID>EGAR00001004103</PRIMARY_ID>        <SUBMITTER_ID namespace='Hospital Clinic Barcelona'>62BB5AAXX__exome_CNAG_CLL-156ND_paired</SUBMITTER_ID>      </IDENTIFIERS>    </RUN_REF>    <RUN_REF accession='EGAR00001004104' refname='100701_HWUSI-EAS1684_0009_botA_62149AAXX__exome_CNAG_CLL-052ND_paired' refcenter='Hospital Clinic Barcelona'>      <IDENTIFIERS>        <PRIMARY_ID>EGAR00001004104</PRIMARY_ID>        <SUBMITTER_ID namespace='Hospital Clinic Barcelona'>100701_HWUSI-EAS1684_0009_botA_62149AAXX__exome_CNAG_CLL-052ND_paired</SUBMITTER_ID>      </IDENTIFIERS>    </RUN_REF>    <RUN_REF accession='EGAR00001006815' refname='exome_CNAG_CLL-018TD_paired_reverse' refcenter='Hospital Clinic Barcelona'>      <IDENTIFIERS>        <PRIMARY_ID>EGAR00001006815</PRIMARY_ID>        <SUBMITTER_ID namespace='Hospital Clinic Barcelona'>exome_CNAG_CLL-018TD_paired_reverse</SUBMITTER_ID>      </IDENTIFIERS>    </RUN_REF>    <RUN_REF accession='EGAR00001006816' refname='exome_CNAG_CLL-018TD_paired_forward' refcenter='Hospital Clinic Barcelona'>      <IDENTIFIERS>        <PRIMARY_ID>EGAR00001006816</PRIMARY_ID>        <SUBMITTER_ID namespace='Hospital Clinic Barcelona'>exome_CNAG_CLL-018TD_paired_forward</SUBMITTER_ID>      </IDENTIFIERS>    </RUN_REF>    <RUN_REF accession='EGAR00001006817' refname='exome_CNAG_CLL-018ND_paired_reverse' refcenter='Hospital Clinic Barcelona'>      <IDENTIFIERS>        <PRIMARY_ID>EGAR00001006817</PRIMARY_ID>        <SUBMITTER_ID namespace='Hospital Clinic Barcelona'>exome_CNAG_CLL-018ND_paired_reverse</SUBMITTER_ID>      </IDENTIFIERS>    </RUN_REF>    <RUN_REF accession='EGAR00001006818' refname='exome_CNAG_CLL-018ND_paired_forward' refcenter='Hospital Clinic Barcelona'>      <IDENTIFIERS>        <PRIMARY_ID>EGAR00001006818</PRIMARY_ID>        <SUBMITTER_ID namespace='Hospital Clinic Barcelona'>exome_CNAG_CLL-018ND_paired_forward</SUBMITTER_ID>      </IDENTIFIERS>    </RUN_REF>    <POLICY_REF accession='EGAP00001000036' refname='ICGC Data Access Agreements' refcenter='Hospital Clinic Barcelona'>      <IDENTIFIERS>        <PRIMARY_ID>EGAP00001000036</PRIMARY_ID>        <SUBMITTER_ID namespace='Hospital Clinic Barcelona'>ICGC Data Access Agreements</SUBMITTER_ID>      </IDENTIFIERS>    </POLICY_REF>    <DATASET_LINKS>      <DATASET_LINK>        <URL_LINK>          <LABEL>ICGC Data Portal</LABEL>          <URL>http://dcc.icgc.org</URL>        </URL_LINK>      </DATASET_LINK>      <DATASET_LINK>        <URL_LINK>          <LABEL>CLL Data Portal</LABEL>          <URL>http://www.cllgenome.es/</URL>        </URL_LINK>      </DATASET_LINK>    </DATASET_LINKS>  </DATASET></DATASETS>\",\n",
       "    'xmlRootElement': None}],\n",
       "  'resultType': 'eu.crg.ega.microservice.dto.submitter.DatasetData'}}"
      ]
     },
     "execution_count": 61,
     "metadata": {},
     "output_type": "execute_result"
    }
   ],
   "source": [
    "datasets_single = s.get(root_url+'datasets/EGAD00001000044')\n",
    "json.loads(datasets_single.text)"
   ]
  },
  {
   "cell_type": "markdown",
   "metadata": {},
   "source": [
    "### Experiments"
   ]
  },
  {
   "cell_type": "code",
   "execution_count": 4,
   "metadata": {
    "collapsed": true
   },
   "outputs": [
    {
     "ename": "KeyboardInterrupt",
     "evalue": "",
     "output_type": "error",
     "traceback": [
      "\u001b[1;31m---------------------------------------------------------------------------\u001b[0m",
      "\u001b[1;31mTypeError\u001b[0m                                 Traceback (most recent call last)",
      "\u001b[1;32mC:\\Users\\cico\\Anaconda3\\lib\\site-packages\\requests\\packages\\urllib3\\connectionpool.py\u001b[0m in \u001b[0;36m_make_request\u001b[1;34m(self, conn, method, url, timeout, **httplib_request_kw)\u001b[0m\n\u001b[0;32m    375\u001b[0m             \u001b[1;32mtry\u001b[0m\u001b[1;33m:\u001b[0m  \u001b[1;31m# Python 2.7, use buffering of HTTP responses\u001b[0m\u001b[1;33m\u001b[0m\u001b[0m\n\u001b[1;32m--> 376\u001b[1;33m                 \u001b[0mhttplib_response\u001b[0m \u001b[1;33m=\u001b[0m \u001b[0mconn\u001b[0m\u001b[1;33m.\u001b[0m\u001b[0mgetresponse\u001b[0m\u001b[1;33m(\u001b[0m\u001b[0mbuffering\u001b[0m\u001b[1;33m=\u001b[0m\u001b[1;32mTrue\u001b[0m\u001b[1;33m)\u001b[0m\u001b[1;33m\u001b[0m\u001b[0m\n\u001b[0m\u001b[0;32m    377\u001b[0m             \u001b[1;32mexcept\u001b[0m \u001b[0mTypeError\u001b[0m\u001b[1;33m:\u001b[0m  \u001b[1;31m# Python 2.6 and older\u001b[0m\u001b[1;33m\u001b[0m\u001b[0m\n",
      "\u001b[1;31mTypeError\u001b[0m: getresponse() got an unexpected keyword argument 'buffering'",
      "\nDuring handling of the above exception, another exception occurred:\n",
      "\u001b[1;31mKeyboardInterrupt\u001b[0m                         Traceback (most recent call last)",
      "\u001b[1;32m<ipython-input-4-535e6f0683e1>\u001b[0m in \u001b[0;36m<module>\u001b[1;34m()\u001b[0m\n\u001b[1;32m----> 1\u001b[1;33m \u001b[0mexperiments_all\u001b[0m \u001b[1;33m=\u001b[0m \u001b[0ms\u001b[0m\u001b[1;33m.\u001b[0m\u001b[0mget\u001b[0m\u001b[1;33m(\u001b[0m\u001b[0mroot_url\u001b[0m\u001b[1;33m+\u001b[0m\u001b[1;34m'experiments'\u001b[0m\u001b[1;33m)\u001b[0m\u001b[1;33m\u001b[0m\u001b[0m\n\u001b[0m\u001b[0;32m      2\u001b[0m \u001b[0mexperiments_all_json\u001b[0m \u001b[1;33m=\u001b[0m \u001b[0mjson\u001b[0m\u001b[1;33m.\u001b[0m\u001b[0mloads\u001b[0m\u001b[1;33m(\u001b[0m\u001b[0mexperiments_all\u001b[0m\u001b[1;33m.\u001b[0m\u001b[0mtext\u001b[0m\u001b[1;33m)\u001b[0m\u001b[1;33m\u001b[0m\u001b[0m\n",
      "\u001b[1;32mC:\\Users\\cico\\Anaconda3\\lib\\site-packages\\requests\\sessions.py\u001b[0m in \u001b[0;36mget\u001b[1;34m(self, url, **kwargs)\u001b[0m\n\u001b[0;32m    478\u001b[0m \u001b[1;33m\u001b[0m\u001b[0m\n\u001b[0;32m    479\u001b[0m         \u001b[0mkwargs\u001b[0m\u001b[1;33m.\u001b[0m\u001b[0msetdefault\u001b[0m\u001b[1;33m(\u001b[0m\u001b[1;34m'allow_redirects'\u001b[0m\u001b[1;33m,\u001b[0m \u001b[1;32mTrue\u001b[0m\u001b[1;33m)\u001b[0m\u001b[1;33m\u001b[0m\u001b[0m\n\u001b[1;32m--> 480\u001b[1;33m         \u001b[1;32mreturn\u001b[0m \u001b[0mself\u001b[0m\u001b[1;33m.\u001b[0m\u001b[0mrequest\u001b[0m\u001b[1;33m(\u001b[0m\u001b[1;34m'GET'\u001b[0m\u001b[1;33m,\u001b[0m \u001b[0murl\u001b[0m\u001b[1;33m,\u001b[0m \u001b[1;33m**\u001b[0m\u001b[0mkwargs\u001b[0m\u001b[1;33m)\u001b[0m\u001b[1;33m\u001b[0m\u001b[0m\n\u001b[0m\u001b[0;32m    481\u001b[0m \u001b[1;33m\u001b[0m\u001b[0m\n\u001b[0;32m    482\u001b[0m     \u001b[1;32mdef\u001b[0m \u001b[0moptions\u001b[0m\u001b[1;33m(\u001b[0m\u001b[0mself\u001b[0m\u001b[1;33m,\u001b[0m \u001b[0murl\u001b[0m\u001b[1;33m,\u001b[0m \u001b[1;33m**\u001b[0m\u001b[0mkwargs\u001b[0m\u001b[1;33m)\u001b[0m\u001b[1;33m:\u001b[0m\u001b[1;33m\u001b[0m\u001b[0m\n",
      "\u001b[1;32mC:\\Users\\cico\\Anaconda3\\lib\\site-packages\\requests\\sessions.py\u001b[0m in \u001b[0;36mrequest\u001b[1;34m(self, method, url, params, data, headers, cookies, files, auth, timeout, allow_redirects, proxies, hooks, stream, verify, cert, json)\u001b[0m\n\u001b[0;32m    466\u001b[0m         }\n\u001b[0;32m    467\u001b[0m         \u001b[0msend_kwargs\u001b[0m\u001b[1;33m.\u001b[0m\u001b[0mupdate\u001b[0m\u001b[1;33m(\u001b[0m\u001b[0msettings\u001b[0m\u001b[1;33m)\u001b[0m\u001b[1;33m\u001b[0m\u001b[0m\n\u001b[1;32m--> 468\u001b[1;33m         \u001b[0mresp\u001b[0m \u001b[1;33m=\u001b[0m \u001b[0mself\u001b[0m\u001b[1;33m.\u001b[0m\u001b[0msend\u001b[0m\u001b[1;33m(\u001b[0m\u001b[0mprep\u001b[0m\u001b[1;33m,\u001b[0m \u001b[1;33m**\u001b[0m\u001b[0msend_kwargs\u001b[0m\u001b[1;33m)\u001b[0m\u001b[1;33m\u001b[0m\u001b[0m\n\u001b[0m\u001b[0;32m    469\u001b[0m \u001b[1;33m\u001b[0m\u001b[0m\n\u001b[0;32m    470\u001b[0m         \u001b[1;32mreturn\u001b[0m \u001b[0mresp\u001b[0m\u001b[1;33m\u001b[0m\u001b[0m\n",
      "\u001b[1;32mC:\\Users\\cico\\Anaconda3\\lib\\site-packages\\requests\\sessions.py\u001b[0m in \u001b[0;36msend\u001b[1;34m(self, request, **kwargs)\u001b[0m\n\u001b[0;32m    574\u001b[0m \u001b[1;33m\u001b[0m\u001b[0m\n\u001b[0;32m    575\u001b[0m         \u001b[1;31m# Send the request\u001b[0m\u001b[1;33m\u001b[0m\u001b[1;33m\u001b[0m\u001b[0m\n\u001b[1;32m--> 576\u001b[1;33m         \u001b[0mr\u001b[0m \u001b[1;33m=\u001b[0m \u001b[0madapter\u001b[0m\u001b[1;33m.\u001b[0m\u001b[0msend\u001b[0m\u001b[1;33m(\u001b[0m\u001b[0mrequest\u001b[0m\u001b[1;33m,\u001b[0m \u001b[1;33m**\u001b[0m\u001b[0mkwargs\u001b[0m\u001b[1;33m)\u001b[0m\u001b[1;33m\u001b[0m\u001b[0m\n\u001b[0m\u001b[0;32m    577\u001b[0m \u001b[1;33m\u001b[0m\u001b[0m\n\u001b[0;32m    578\u001b[0m         \u001b[1;31m# Total elapsed time of the request (approximately)\u001b[0m\u001b[1;33m\u001b[0m\u001b[1;33m\u001b[0m\u001b[0m\n",
      "\u001b[1;32mC:\\Users\\cico\\Anaconda3\\lib\\site-packages\\requests\\adapters.py\u001b[0m in \u001b[0;36msend\u001b[1;34m(self, request, stream, timeout, verify, cert, proxies)\u001b[0m\n\u001b[0;32m    374\u001b[0m                     \u001b[0mdecode_content\u001b[0m\u001b[1;33m=\u001b[0m\u001b[1;32mFalse\u001b[0m\u001b[1;33m,\u001b[0m\u001b[1;33m\u001b[0m\u001b[0m\n\u001b[0;32m    375\u001b[0m                     \u001b[0mretries\u001b[0m\u001b[1;33m=\u001b[0m\u001b[0mself\u001b[0m\u001b[1;33m.\u001b[0m\u001b[0mmax_retries\u001b[0m\u001b[1;33m,\u001b[0m\u001b[1;33m\u001b[0m\u001b[0m\n\u001b[1;32m--> 376\u001b[1;33m                     \u001b[0mtimeout\u001b[0m\u001b[1;33m=\u001b[0m\u001b[0mtimeout\u001b[0m\u001b[1;33m\u001b[0m\u001b[0m\n\u001b[0m\u001b[0;32m    377\u001b[0m                 )\n\u001b[0;32m    378\u001b[0m \u001b[1;33m\u001b[0m\u001b[0m\n",
      "\u001b[1;32mC:\\Users\\cico\\Anaconda3\\lib\\site-packages\\requests\\packages\\urllib3\\connectionpool.py\u001b[0m in \u001b[0;36murlopen\u001b[1;34m(self, method, url, body, headers, retries, redirect, assert_same_host, timeout, pool_timeout, release_conn, **response_kw)\u001b[0m\n\u001b[0;32m    557\u001b[0m             httplib_response = self._make_request(conn, method, url,\n\u001b[0;32m    558\u001b[0m                                                   \u001b[0mtimeout\u001b[0m\u001b[1;33m=\u001b[0m\u001b[0mtimeout_obj\u001b[0m\u001b[1;33m,\u001b[0m\u001b[1;33m\u001b[0m\u001b[0m\n\u001b[1;32m--> 559\u001b[1;33m                                                   body=body, headers=headers)\n\u001b[0m\u001b[0;32m    560\u001b[0m \u001b[1;33m\u001b[0m\u001b[0m\n\u001b[0;32m    561\u001b[0m             \u001b[1;31m# If we're going to release the connection in ``finally:``, then\u001b[0m\u001b[1;33m\u001b[0m\u001b[1;33m\u001b[0m\u001b[0m\n",
      "\u001b[1;32mC:\\Users\\cico\\Anaconda3\\lib\\site-packages\\requests\\packages\\urllib3\\connectionpool.py\u001b[0m in \u001b[0;36m_make_request\u001b[1;34m(self, conn, method, url, timeout, **httplib_request_kw)\u001b[0m\n\u001b[0;32m    376\u001b[0m                 \u001b[0mhttplib_response\u001b[0m \u001b[1;33m=\u001b[0m \u001b[0mconn\u001b[0m\u001b[1;33m.\u001b[0m\u001b[0mgetresponse\u001b[0m\u001b[1;33m(\u001b[0m\u001b[0mbuffering\u001b[0m\u001b[1;33m=\u001b[0m\u001b[1;32mTrue\u001b[0m\u001b[1;33m)\u001b[0m\u001b[1;33m\u001b[0m\u001b[0m\n\u001b[0;32m    377\u001b[0m             \u001b[1;32mexcept\u001b[0m \u001b[0mTypeError\u001b[0m\u001b[1;33m:\u001b[0m  \u001b[1;31m# Python 2.6 and older\u001b[0m\u001b[1;33m\u001b[0m\u001b[0m\n\u001b[1;32m--> 378\u001b[1;33m                 \u001b[0mhttplib_response\u001b[0m \u001b[1;33m=\u001b[0m \u001b[0mconn\u001b[0m\u001b[1;33m.\u001b[0m\u001b[0mgetresponse\u001b[0m\u001b[1;33m(\u001b[0m\u001b[1;33m)\u001b[0m\u001b[1;33m\u001b[0m\u001b[0m\n\u001b[0m\u001b[0;32m    379\u001b[0m         \u001b[1;32mexcept\u001b[0m \u001b[1;33m(\u001b[0m\u001b[0mSocketTimeout\u001b[0m\u001b[1;33m,\u001b[0m \u001b[0mBaseSSLError\u001b[0m\u001b[1;33m,\u001b[0m \u001b[0mSocketError\u001b[0m\u001b[1;33m)\u001b[0m \u001b[1;32mas\u001b[0m \u001b[0me\u001b[0m\u001b[1;33m:\u001b[0m\u001b[1;33m\u001b[0m\u001b[0m\n\u001b[0;32m    380\u001b[0m             \u001b[0mself\u001b[0m\u001b[1;33m.\u001b[0m\u001b[0m_raise_timeout\u001b[0m\u001b[1;33m(\u001b[0m\u001b[0merr\u001b[0m\u001b[1;33m=\u001b[0m\u001b[0me\u001b[0m\u001b[1;33m,\u001b[0m \u001b[0murl\u001b[0m\u001b[1;33m=\u001b[0m\u001b[0murl\u001b[0m\u001b[1;33m,\u001b[0m \u001b[0mtimeout_value\u001b[0m\u001b[1;33m=\u001b[0m\u001b[0mread_timeout\u001b[0m\u001b[1;33m)\u001b[0m\u001b[1;33m\u001b[0m\u001b[0m\n",
      "\u001b[1;32mC:\\Users\\cico\\Anaconda3\\lib\\http\\client.py\u001b[0m in \u001b[0;36mgetresponse\u001b[1;34m(self)\u001b[0m\n\u001b[0;32m   1172\u001b[0m         \u001b[1;32mtry\u001b[0m\u001b[1;33m:\u001b[0m\u001b[1;33m\u001b[0m\u001b[0m\n\u001b[0;32m   1173\u001b[0m             \u001b[1;32mtry\u001b[0m\u001b[1;33m:\u001b[0m\u001b[1;33m\u001b[0m\u001b[0m\n\u001b[1;32m-> 1174\u001b[1;33m                 \u001b[0mresponse\u001b[0m\u001b[1;33m.\u001b[0m\u001b[0mbegin\u001b[0m\u001b[1;33m(\u001b[0m\u001b[1;33m)\u001b[0m\u001b[1;33m\u001b[0m\u001b[0m\n\u001b[0m\u001b[0;32m   1175\u001b[0m             \u001b[1;32mexcept\u001b[0m \u001b[0mConnectionError\u001b[0m\u001b[1;33m:\u001b[0m\u001b[1;33m\u001b[0m\u001b[0m\n\u001b[0;32m   1176\u001b[0m                 \u001b[0mself\u001b[0m\u001b[1;33m.\u001b[0m\u001b[0mclose\u001b[0m\u001b[1;33m(\u001b[0m\u001b[1;33m)\u001b[0m\u001b[1;33m\u001b[0m\u001b[0m\n",
      "\u001b[1;32mC:\\Users\\cico\\Anaconda3\\lib\\http\\client.py\u001b[0m in \u001b[0;36mbegin\u001b[1;34m(self)\u001b[0m\n\u001b[0;32m    280\u001b[0m         \u001b[1;31m# read until we get a non-100 response\u001b[0m\u001b[1;33m\u001b[0m\u001b[1;33m\u001b[0m\u001b[0m\n\u001b[0;32m    281\u001b[0m         \u001b[1;32mwhile\u001b[0m \u001b[1;32mTrue\u001b[0m\u001b[1;33m:\u001b[0m\u001b[1;33m\u001b[0m\u001b[0m\n\u001b[1;32m--> 282\u001b[1;33m             \u001b[0mversion\u001b[0m\u001b[1;33m,\u001b[0m \u001b[0mstatus\u001b[0m\u001b[1;33m,\u001b[0m \u001b[0mreason\u001b[0m \u001b[1;33m=\u001b[0m \u001b[0mself\u001b[0m\u001b[1;33m.\u001b[0m\u001b[0m_read_status\u001b[0m\u001b[1;33m(\u001b[0m\u001b[1;33m)\u001b[0m\u001b[1;33m\u001b[0m\u001b[0m\n\u001b[0m\u001b[0;32m    283\u001b[0m             \u001b[1;32mif\u001b[0m \u001b[0mstatus\u001b[0m \u001b[1;33m!=\u001b[0m \u001b[0mCONTINUE\u001b[0m\u001b[1;33m:\u001b[0m\u001b[1;33m\u001b[0m\u001b[0m\n\u001b[0;32m    284\u001b[0m                 \u001b[1;32mbreak\u001b[0m\u001b[1;33m\u001b[0m\u001b[0m\n",
      "\u001b[1;32mC:\\Users\\cico\\Anaconda3\\lib\\http\\client.py\u001b[0m in \u001b[0;36m_read_status\u001b[1;34m(self)\u001b[0m\n\u001b[0;32m    241\u001b[0m \u001b[1;33m\u001b[0m\u001b[0m\n\u001b[0;32m    242\u001b[0m     \u001b[1;32mdef\u001b[0m \u001b[0m_read_status\u001b[0m\u001b[1;33m(\u001b[0m\u001b[0mself\u001b[0m\u001b[1;33m)\u001b[0m\u001b[1;33m:\u001b[0m\u001b[1;33m\u001b[0m\u001b[0m\n\u001b[1;32m--> 243\u001b[1;33m         \u001b[0mline\u001b[0m \u001b[1;33m=\u001b[0m \u001b[0mstr\u001b[0m\u001b[1;33m(\u001b[0m\u001b[0mself\u001b[0m\u001b[1;33m.\u001b[0m\u001b[0mfp\u001b[0m\u001b[1;33m.\u001b[0m\u001b[0mreadline\u001b[0m\u001b[1;33m(\u001b[0m\u001b[0m_MAXLINE\u001b[0m \u001b[1;33m+\u001b[0m \u001b[1;36m1\u001b[0m\u001b[1;33m)\u001b[0m\u001b[1;33m,\u001b[0m \u001b[1;34m\"iso-8859-1\"\u001b[0m\u001b[1;33m)\u001b[0m\u001b[1;33m\u001b[0m\u001b[0m\n\u001b[0m\u001b[0;32m    244\u001b[0m         \u001b[1;32mif\u001b[0m \u001b[0mlen\u001b[0m\u001b[1;33m(\u001b[0m\u001b[0mline\u001b[0m\u001b[1;33m)\u001b[0m \u001b[1;33m>\u001b[0m \u001b[0m_MAXLINE\u001b[0m\u001b[1;33m:\u001b[0m\u001b[1;33m\u001b[0m\u001b[0m\n\u001b[0;32m    245\u001b[0m             \u001b[1;32mraise\u001b[0m \u001b[0mLineTooLong\u001b[0m\u001b[1;33m(\u001b[0m\u001b[1;34m\"status line\"\u001b[0m\u001b[1;33m)\u001b[0m\u001b[1;33m\u001b[0m\u001b[0m\n",
      "\u001b[1;32mC:\\Users\\cico\\Anaconda3\\lib\\socket.py\u001b[0m in \u001b[0;36mreadinto\u001b[1;34m(self, b)\u001b[0m\n\u001b[0;32m    573\u001b[0m         \u001b[1;32mwhile\u001b[0m \u001b[1;32mTrue\u001b[0m\u001b[1;33m:\u001b[0m\u001b[1;33m\u001b[0m\u001b[0m\n\u001b[0;32m    574\u001b[0m             \u001b[1;32mtry\u001b[0m\u001b[1;33m:\u001b[0m\u001b[1;33m\u001b[0m\u001b[0m\n\u001b[1;32m--> 575\u001b[1;33m                 \u001b[1;32mreturn\u001b[0m \u001b[0mself\u001b[0m\u001b[1;33m.\u001b[0m\u001b[0m_sock\u001b[0m\u001b[1;33m.\u001b[0m\u001b[0mrecv_into\u001b[0m\u001b[1;33m(\u001b[0m\u001b[0mb\u001b[0m\u001b[1;33m)\u001b[0m\u001b[1;33m\u001b[0m\u001b[0m\n\u001b[0m\u001b[0;32m    576\u001b[0m             \u001b[1;32mexcept\u001b[0m \u001b[0mtimeout\u001b[0m\u001b[1;33m:\u001b[0m\u001b[1;33m\u001b[0m\u001b[0m\n\u001b[0;32m    577\u001b[0m                 \u001b[0mself\u001b[0m\u001b[1;33m.\u001b[0m\u001b[0m_timeout_occurred\u001b[0m \u001b[1;33m=\u001b[0m \u001b[1;32mTrue\u001b[0m\u001b[1;33m\u001b[0m\u001b[0m\n",
      "\u001b[1;32mC:\\Users\\cico\\Anaconda3\\lib\\ssl.py\u001b[0m in \u001b[0;36mrecv_into\u001b[1;34m(self, buffer, nbytes, flags)\u001b[0m\n\u001b[0;32m    922\u001b[0m                   \u001b[1;34m\"non-zero flags not allowed in calls to recv_into() on %s\"\u001b[0m \u001b[1;33m%\u001b[0m\u001b[1;33m\u001b[0m\u001b[0m\n\u001b[0;32m    923\u001b[0m                   self.__class__)\n\u001b[1;32m--> 924\u001b[1;33m             \u001b[1;32mreturn\u001b[0m \u001b[0mself\u001b[0m\u001b[1;33m.\u001b[0m\u001b[0mread\u001b[0m\u001b[1;33m(\u001b[0m\u001b[0mnbytes\u001b[0m\u001b[1;33m,\u001b[0m \u001b[0mbuffer\u001b[0m\u001b[1;33m)\u001b[0m\u001b[1;33m\u001b[0m\u001b[0m\n\u001b[0m\u001b[0;32m    925\u001b[0m         \u001b[1;32melse\u001b[0m\u001b[1;33m:\u001b[0m\u001b[1;33m\u001b[0m\u001b[0m\n\u001b[0;32m    926\u001b[0m             \u001b[1;32mreturn\u001b[0m \u001b[0msocket\u001b[0m\u001b[1;33m.\u001b[0m\u001b[0mrecv_into\u001b[0m\u001b[1;33m(\u001b[0m\u001b[0mself\u001b[0m\u001b[1;33m,\u001b[0m \u001b[0mbuffer\u001b[0m\u001b[1;33m,\u001b[0m \u001b[0mnbytes\u001b[0m\u001b[1;33m,\u001b[0m \u001b[0mflags\u001b[0m\u001b[1;33m)\u001b[0m\u001b[1;33m\u001b[0m\u001b[0m\n",
      "\u001b[1;32mC:\\Users\\cico\\Anaconda3\\lib\\ssl.py\u001b[0m in \u001b[0;36mread\u001b[1;34m(self, len, buffer)\u001b[0m\n\u001b[0;32m    784\u001b[0m             \u001b[1;32mraise\u001b[0m \u001b[0mValueError\u001b[0m\u001b[1;33m(\u001b[0m\u001b[1;34m\"Read on closed or unwrapped SSL socket.\"\u001b[0m\u001b[1;33m)\u001b[0m\u001b[1;33m\u001b[0m\u001b[0m\n\u001b[0;32m    785\u001b[0m         \u001b[1;32mtry\u001b[0m\u001b[1;33m:\u001b[0m\u001b[1;33m\u001b[0m\u001b[0m\n\u001b[1;32m--> 786\u001b[1;33m             \u001b[1;32mreturn\u001b[0m \u001b[0mself\u001b[0m\u001b[1;33m.\u001b[0m\u001b[0m_sslobj\u001b[0m\u001b[1;33m.\u001b[0m\u001b[0mread\u001b[0m\u001b[1;33m(\u001b[0m\u001b[0mlen\u001b[0m\u001b[1;33m,\u001b[0m \u001b[0mbuffer\u001b[0m\u001b[1;33m)\u001b[0m\u001b[1;33m\u001b[0m\u001b[0m\n\u001b[0m\u001b[0;32m    787\u001b[0m         \u001b[1;32mexcept\u001b[0m \u001b[0mSSLError\u001b[0m \u001b[1;32mas\u001b[0m \u001b[0mx\u001b[0m\u001b[1;33m:\u001b[0m\u001b[1;33m\u001b[0m\u001b[0m\n\u001b[0;32m    788\u001b[0m             \u001b[1;32mif\u001b[0m \u001b[0mx\u001b[0m\u001b[1;33m.\u001b[0m\u001b[0margs\u001b[0m\u001b[1;33m[\u001b[0m\u001b[1;36m0\u001b[0m\u001b[1;33m]\u001b[0m \u001b[1;33m==\u001b[0m \u001b[0mSSL_ERROR_EOF\u001b[0m \u001b[1;32mand\u001b[0m \u001b[0mself\u001b[0m\u001b[1;33m.\u001b[0m\u001b[0msuppress_ragged_eofs\u001b[0m\u001b[1;33m:\u001b[0m\u001b[1;33m\u001b[0m\u001b[0m\n",
      "\u001b[1;32mC:\\Users\\cico\\Anaconda3\\lib\\ssl.py\u001b[0m in \u001b[0;36mread\u001b[1;34m(self, len, buffer)\u001b[0m\n\u001b[0;32m    568\u001b[0m         \"\"\"\n\u001b[0;32m    569\u001b[0m         \u001b[1;32mif\u001b[0m \u001b[0mbuffer\u001b[0m \u001b[1;32mis\u001b[0m \u001b[1;32mnot\u001b[0m \u001b[1;32mNone\u001b[0m\u001b[1;33m:\u001b[0m\u001b[1;33m\u001b[0m\u001b[0m\n\u001b[1;32m--> 570\u001b[1;33m             \u001b[0mv\u001b[0m \u001b[1;33m=\u001b[0m \u001b[0mself\u001b[0m\u001b[1;33m.\u001b[0m\u001b[0m_sslobj\u001b[0m\u001b[1;33m.\u001b[0m\u001b[0mread\u001b[0m\u001b[1;33m(\u001b[0m\u001b[0mlen\u001b[0m\u001b[1;33m,\u001b[0m \u001b[0mbuffer\u001b[0m\u001b[1;33m)\u001b[0m\u001b[1;33m\u001b[0m\u001b[0m\n\u001b[0m\u001b[0;32m    571\u001b[0m         \u001b[1;32melse\u001b[0m\u001b[1;33m:\u001b[0m\u001b[1;33m\u001b[0m\u001b[0m\n\u001b[0;32m    572\u001b[0m             \u001b[0mv\u001b[0m \u001b[1;33m=\u001b[0m \u001b[0mself\u001b[0m\u001b[1;33m.\u001b[0m\u001b[0m_sslobj\u001b[0m\u001b[1;33m.\u001b[0m\u001b[0mread\u001b[0m\u001b[1;33m(\u001b[0m\u001b[0mlen\u001b[0m \u001b[1;32mor\u001b[0m \u001b[1;36m1024\u001b[0m\u001b[1;33m)\u001b[0m\u001b[1;33m\u001b[0m\u001b[0m\n",
      "\u001b[1;31mKeyboardInterrupt\u001b[0m: "
     ]
    }
   ],
   "source": [
    "experiments_all = s.get(root_url+'experiments')\n",
    "experiments_all_json = json.loads(experiments_all.text)"
   ]
  },
  {
   "cell_type": "code",
   "execution_count": 5,
   "metadata": {
    "collapsed": true
   },
   "outputs": [
    {
     "ename": "NameError",
     "evalue": "name 'experiments_all_json' is not defined",
     "output_type": "error",
     "traceback": [
      "\u001b[1;31m---------------------------------------------------------------------------\u001b[0m",
      "\u001b[1;31mNameError\u001b[0m                                 Traceback (most recent call last)",
      "\u001b[1;32m<ipython-input-5-9e64753ab996>\u001b[0m in \u001b[0;36m<module>\u001b[1;34m()\u001b[0m\n\u001b[0;32m      1\u001b[0m \u001b[1;31m# List experiments ids\u001b[0m\u001b[1;33m\u001b[0m\u001b[1;33m\u001b[0m\u001b[0m\n\u001b[1;32m----> 2\u001b[1;33m \u001b[1;33m[\u001b[0m\u001b[0mitem\u001b[0m\u001b[1;33m[\u001b[0m\u001b[1;34m'egaAccessionId'\u001b[0m\u001b[1;33m]\u001b[0m \u001b[1;32mfor\u001b[0m \u001b[0mitem\u001b[0m \u001b[1;32min\u001b[0m \u001b[0mexperiments_all_json\u001b[0m\u001b[1;33m[\u001b[0m\u001b[1;34m'response'\u001b[0m\u001b[1;33m]\u001b[0m\u001b[1;33m[\u001b[0m\u001b[1;34m'result'\u001b[0m\u001b[1;33m]\u001b[0m\u001b[1;33m]\u001b[0m\u001b[1;33m\u001b[0m\u001b[0m\n\u001b[0m",
      "\u001b[1;31mNameError\u001b[0m: name 'experiments_all_json' is not defined"
     ]
    }
   ],
   "source": [
    "# List experiments ids\n",
    "[item['egaAccessionId'] for item in experiments_all_json['response']['result']]"
   ]
  },
  {
   "cell_type": "code",
   "execution_count": 6,
   "metadata": {
    "collapsed": true
   },
   "outputs": [
    {
     "data": {
      "text/plain": [
       "{'header': {'apiVersion': 'v1',\n",
       "  'code': '200',\n",
       "  'developerMessage': '',\n",
       "  'docLink': 'https://ega.crg.eu',\n",
       "  'errorCode': '1',\n",
       "  'errorStack': '',\n",
       "  'service': 'catalogservice',\n",
       "  'userMessage': 'OK'},\n",
       " 'response': {'numTotalResults': 1,\n",
       "  'result': [{'alias': 'SC_EXP_4115_6',\n",
       "    'centerName': 'SC',\n",
       "    'creationTime': 1290441165000,\n",
       "    'designDescription': 'Illumina sequencing of sample \"PD2126b\"; library \"Exp2_PD2126b 1\" for the \"Renal Cancer Exome Sequencing\" study.',\n",
       "    'ebiId': 'ERX009001',\n",
       "    'ebiSubmissionDetailsIds': None,\n",
       "    'editionTime': 1377184334000,\n",
       "    'egaAccessionId': 'EGAX00001000001',\n",
       "    'egaAccessionIds': None,\n",
       "    'eraSubmissionId': 'ERA015321',\n",
       "    'firstPublic': 1462898381821,\n",
       "    'generatedExperimentIds': None,\n",
       "    'globalExperimentId': None,\n",
       "    'id': 'ERX009001',\n",
       "    'instrumentModel': 'Illumina Genome Analyzer II',\n",
       "    'instrumentModelId': None,\n",
       "    'instrumentPlatform': 'ILLUMINA',\n",
       "    'json': '\"\"',\n",
       "    'libraryConstructionProtocol': 'qPCR only',\n",
       "    'libraryLayout': 'PAIRED',\n",
       "    'libraryLayoutId': '0',\n",
       "    'libraryName': 'Exp2_PD2126b 1',\n",
       "    'librarySelection': 'RANDOM',\n",
       "    'librarySelectionId': None,\n",
       "    'librarySource': 'GENOMIC',\n",
       "    'librarySourceId': None,\n",
       "    'libraryStrategy': 'WGS',\n",
       "    'libraryStrategyId': None,\n",
       "    'pairedNominalLength': 250,\n",
       "    'pairedNominalSdev': 0.0,\n",
       "    'sampleAlias': None,\n",
       "    'sampleId': 'ERS014986',\n",
       "    'status': 'SUBMITTED',\n",
       "    'studyAlias': None,\n",
       "    'studyId': 'ERP000376',\n",
       "    'submissionCommandIds': None,\n",
       "    'submissionErrorMessages': None,\n",
       "    'submissionId': 'ERA015321',\n",
       "    'submissionInfoMessages': None,\n",
       "    'submitterId': 'ega-box-03',\n",
       "    'title': None,\n",
       "    'userId': None,\n",
       "    'validationErrorMessages': None,\n",
       "    'validationResult': False,\n",
       "    'version': 5,\n",
       "    'xml': \"<EXPERIMENT_SET>  <EXPERIMENT alias='SC_EXP_4115_6' center_name='SC' accession='ERX009001' broker_name='EGA'>    <IDENTIFIERS>      <PRIMARY_ID>ERX009001</PRIMARY_ID>      <SUBMITTER_ID namespace='SC'>SC_EXP_4115_6</SUBMITTER_ID>    </IDENTIFIERS>    <STUDY_REF accession='ERP000376' refname='Renal_Cancer_Exome_Sequencing-sc-2010-10-28' refcenter='SC'>      <IDENTIFIERS>        <PRIMARY_ID>ERP000376</PRIMARY_ID>        <SUBMITTER_ID namespace='SC'>Renal_Cancer_Exome_Sequencing-sc-2010-10-28</SUBMITTER_ID>      </IDENTIFIERS>    </STUDY_REF>    <DESIGN>      <DESIGN_DESCRIPTION>Illumina sequencing of sample &quot;PD2126b&quot;; library &quot;Exp2_PD2126b 1&quot; for the &quot;Renal Cancer Exome Sequencing&quot; study.</DESIGN_DESCRIPTION>      <SAMPLE_DESCRIPTOR accession='ERS014986' refname='PD2126b-sc-2010-09-13-9187' refcenter='SC'>        <IDENTIFIERS>          <PRIMARY_ID>ERS014986</PRIMARY_ID>          <SUBMITTER_ID namespace='SC'>PD2126b-sc-2010-09-13-9187</SUBMITTER_ID>        </IDENTIFIERS>      </SAMPLE_DESCRIPTOR>      <LIBRARY_DESCRIPTOR>        <LIBRARY_NAME>Exp2_PD2126b 1</LIBRARY_NAME>        <LIBRARY_STRATEGY>WGS</LIBRARY_STRATEGY>        <LIBRARY_SOURCE>GENOMIC</LIBRARY_SOURCE>        <LIBRARY_SELECTION>RANDOM</LIBRARY_SELECTION>        <LIBRARY_LAYOUT>          <PAIRED NOMINAL_LENGTH='250'/>        </LIBRARY_LAYOUT>        <LIBRARY_CONSTRUCTION_PROTOCOL>qPCR only</LIBRARY_CONSTRUCTION_PROTOCOL>      </LIBRARY_DESCRIPTOR>      <SPOT_DESCRIPTOR>        <SPOT_DECODE_SPEC>          <SPOT_LENGTH>152</SPOT_LENGTH>          <READ_SPEC>            <READ_INDEX>0</READ_INDEX>            <READ_CLASS>Application Read</READ_CLASS>            <READ_TYPE>Forward</READ_TYPE>            <BASE_COORD>1</BASE_COORD>          </READ_SPEC>          <READ_SPEC>            <READ_INDEX>1</READ_INDEX>            <READ_CLASS>Application Read</READ_CLASS>            <READ_TYPE>Reverse</READ_TYPE>            <BASE_COORD>77</BASE_COORD>          </READ_SPEC>        </SPOT_DECODE_SPEC>      </SPOT_DESCRIPTOR>    </DESIGN>    <PLATFORM>      <ILLUMINA>        <INSTRUMENT_MODEL>Illumina Genome Analyzer II</INSTRUMENT_MODEL>      </ILLUMINA>    </PLATFORM>    <PROCESSING/>  </EXPERIMENT></EXPERIMENT_SET>\",\n",
       "    'xmlRootElement': None}],\n",
       "  'resultType': 'eu.crg.ega.microservice.dto.submitter.ExperimentData'}}"
      ]
     },
     "execution_count": 6,
     "metadata": {},
     "output_type": "execute_result"
    }
   ],
   "source": [
    "experiments_single = s.get(root_url+'experiments/EGAX00001000001')\n",
    "json.loads(experiments_single.text)"
   ]
  },
  {
   "cell_type": "markdown",
   "metadata": {},
   "source": [
    "### Policies"
   ]
  },
  {
   "cell_type": "code",
   "execution_count": 7,
   "metadata": {
    "collapsed": true
   },
   "outputs": [],
   "source": [
    "policies_all = s.get(root_url+'policies')\n",
    "policies_all_json = json.loads(policies_all.text)"
   ]
  },
  {
   "cell_type": "code",
   "execution_count": 8,
   "metadata": {
    "collapsed": false,
    "scrolled": false
   },
   "outputs": [
    {
     "data": {
      "text/plain": [
       "['EGAP00001000398',\n",
       " 'EGAP00001000159',\n",
       " 'EGAP00001000285',\n",
       " 'EGAP00001000386',\n",
       " 'EGAP00001000366',\n",
       " 'EGAP00001000261',\n",
       " 'EGAP00001000301',\n",
       " 'EGAP00001000434',\n",
       " 'EGAP00001000418',\n",
       " 'EGAP00001000227']"
      ]
     },
     "execution_count": 8,
     "metadata": {},
     "output_type": "execute_result"
    }
   ],
   "source": [
    "# List policies ids\n",
    "[item['egaAccessionId'] for item in policies_all_json['response']['result']]"
   ]
  },
  {
   "cell_type": "code",
   "execution_count": 9,
   "metadata": {
    "collapsed": true
   },
   "outputs": [
    {
     "data": {
      "text/plain": [
       "{'header': {'apiVersion': 'v1',\n",
       "  'code': '200',\n",
       "  'developerMessage': '',\n",
       "  'docLink': 'https://ega.crg.eu',\n",
       "  'errorCode': '1',\n",
       "  'errorStack': '',\n",
       "  'service': 'catalogservice',\n",
       "  'userMessage': 'OK'},\n",
       " 'response': {'numTotalResults': 1,\n",
       "  'result': [{'alias': 'ena-POLICY-BGI-11-08-2014-10:30:54:643-153',\n",
       "    'centerName': 'BGI',\n",
       "    'creationTime': 1407746417000,\n",
       "    'dacId': None,\n",
       "    'ebiId': 'EGAP00001000227',\n",
       "    'ebiSubmissionDetailsIds': None,\n",
       "    'editionTime': 1407746417000,\n",
       "    'egaAccessionId': 'EGAP00001000227',\n",
       "    'eraSubmissionId': 'ERA345974',\n",
       "    'firstPublic': 1462898442449,\n",
       "    'id': 'EGAP00001000227',\n",
       "    'json': '\"\"',\n",
       "    'policyText': 'BGI is willing to share the data to related researcher, we invested a lot of resources in acquiring these data, and we request that you follow these guidelines when using data provided by us.1.conducting appropriate research2.protecting the confidentiality of managed access data sets3.carefully communicating research results4.respecting rights to first publication and to acknowledgementIf you have any questions regarding the data or their use in publications, please contact lilin@genomics.cnDisclaimerBGI provides these data in good faith, but makes no warranty, express or implied, nor assumes any legal liability or responsibility for any purpose for which the data are used.',\n",
       "    'status': 'SUBMITTED',\n",
       "    'submissionCommandIds': None,\n",
       "    'submissionErrorMessages': None,\n",
       "    'submissionId': 'ERA345974',\n",
       "    'submissionInfoMessages': None,\n",
       "    'submitterId': 'ega-box-02',\n",
       "    'title': 'BGI data share policy',\n",
       "    'url': '',\n",
       "    'userId': None,\n",
       "    'validationErrorMessages': None,\n",
       "    'validationResult': False,\n",
       "    'version': 1,\n",
       "    'xml': \"<POLICY_SET>  <POLICY alias='ena-POLICY-BGI-11-08-2014-10:30:54:643-153' center_name='BGI' accession='EGAP00001000227' broker_name='EGA'>    <IDENTIFIERS>      <PRIMARY_ID>EGAP00001000227</PRIMARY_ID>      <SUBMITTER_ID namespace='BGI'>ena-POLICY-BGI-11-08-2014-10:30:54:643-153</SUBMITTER_ID>    </IDENTIFIERS>    <TITLE>BGI data share policy</TITLE>    <DAC_REF accession='EGAC00001000227' refname='ena-DAC-BGI-11-08-2014-10:25:03:569-151' refcenter='BGI'>      <IDENTIFIERS>        <PRIMARY_ID>EGAC00001000227</PRIMARY_ID>        <SUBMITTER_ID namespace='BGI'>ena-DAC-BGI-11-08-2014-10:25:03:569-151</SUBMITTER_ID>      </IDENTIFIERS>    </DAC_REF>    <POLICY_TEXT>BGI is willing to share the data to related researcher, we invested a lot of resources in acquiring these data, and we request that you follow these guidelines when using data provided by us.1.conducting appropriate research2.protecting the confidentiality of managed access data sets3.carefully communicating research results4.respecting rights to first publication and to acknowledgementIf you have any questions regarding the data or their use in publications, please contact lilin@genomics.cnDisclaimerBGI provides these data in good faith, but makes no warranty, express or implied, nor assumes any legal liability or responsibility for any purpose for which the data are used.</POLICY_TEXT>  </POLICY></POLICY_SET>\",\n",
       "    'xmlRootElement': None}],\n",
       "  'resultType': 'eu.crg.ega.microservice.dto.submitter.PolicyData'}}"
      ]
     },
     "execution_count": 9,
     "metadata": {},
     "output_type": "execute_result"
    }
   ],
   "source": [
    "policies_single = s.get(root_url+'policies/EGAP00001000227')\n",
    "json.loads(policies_single.text)"
   ]
  },
  {
   "cell_type": "code",
   "execution_count": 10,
   "metadata": {
    "collapsed": true
   },
   "outputs": [
    {
     "data": {
      "text/plain": [
       "{'header': {'apiVersion': 'v1',\n",
       "  'code': '200',\n",
       "  'developerMessage': '',\n",
       "  'docLink': 'https://ega.crg.eu',\n",
       "  'errorCode': '1',\n",
       "  'errorStack': '',\n",
       "  'service': 'catalogservice',\n",
       "  'userMessage': 'OK'},\n",
       " 'response': {'numTotalResults': 1,\n",
       "  'result': [{'alias': 'ena-POLICY-LundGoth-Stroke-11-08-2014-12:32:29:800-212',\n",
       "    'centerName': 'LundGoth-Stroke',\n",
       "    'creationTime': 1407753165000,\n",
       "    'dacId': None,\n",
       "    'ebiId': 'EGAP00001000228',\n",
       "    'ebiSubmissionDetailsIds': None,\n",
       "    'editionTime': 1407753165000,\n",
       "    'egaAccessionId': 'EGAP00001000228',\n",
       "    'eraSubmissionId': 'ERA346369',\n",
       "    'firstPublic': 1462898455376,\n",
       "    'id': 'EGAP00001000228',\n",
       "    'json': '\"\"',\n",
       "    'policyText': '•Use the data only for the approved research; •Protect data confidentiality; •Follow appropriate data security protections; •Follow all applicable laws, regulations and local institutional policies and procedures for handling genetic data; •Not attempt to identify individual participants from whom data within a dataset were obtained; •Not sell any of the data elements from datasets obtained from the EBI EGA data repository;•Not share with individuals other than those listed in the request any of the data elements from datasets obtained from the EBI EGA data repository; •Agree to the listing of a summary of approved research uses within the NIH GWAS data repository along with his or her name and organizational affiliation; •Agree to report, in real time, violations of the EBI EGA policy to the appropriate DAC;•Acknowledge the EBI EGA policy with regard to publication and intellectual property.',\n",
       "    'status': 'SUBMITTED',\n",
       "    'submissionCommandIds': None,\n",
       "    'submissionErrorMessages': None,\n",
       "    'submissionId': 'ERA346369',\n",
       "    'submissionInfoMessages': None,\n",
       "    'submitterId': 'ega-box-181',\n",
       "    'title': 'Data access policy for the MDC-LSR-SAHLSIS ischemic stroke study',\n",
       "    'url': '',\n",
       "    'userId': None,\n",
       "    'validationErrorMessages': None,\n",
       "    'validationResult': False,\n",
       "    'version': 1,\n",
       "    'xml': \"<POLICY_SET>  <POLICY alias='ena-POLICY-LundGoth-Stroke-11-08-2014-12:32:29:800-212' center_name='LundGoth-Stroke' accession='EGAP00001000228' broker_name='EGA'>    <IDENTIFIERS>      <PRIMARY_ID>EGAP00001000228</PRIMARY_ID>      <SUBMITTER_ID namespace='LundGoth-Stroke'>ena-POLICY-LundGoth-Stroke-11-08-2014-12:32:29:800-212</SUBMITTER_ID>    </IDENTIFIERS>    <TITLE>Data access policy for the MDC-LSR-SAHLSIS ischemic stroke study</TITLE>    <DAC_REF accession='EGAC00001000226' refname='ena-DAC-LundGoth-Stroke-10-08-2014-06:57:51:828-78' refcenter='LundGoth-Stroke'>      <IDENTIFIERS>        <PRIMARY_ID>EGAC00001000226</PRIMARY_ID>        <SUBMITTER_ID namespace='LundGoth-Stroke'>ena-DAC-LundGoth-Stroke-10-08-2014-06:57:51:828-78</SUBMITTER_ID>      </IDENTIFIERS>    </DAC_REF>    <POLICY_TEXT>•Use the data only for the approved research; •Protect data confidentiality; •Follow appropriate data security protections; •Follow all applicable laws, regulations and local institutional policies and procedures for handling genetic data; •Not attempt to identify individual participants from whom data within a dataset were obtained; •Not sell any of the data elements from datasets obtained from the EBI EGA data repository;•Not share with individuals other than those listed in the request any of the data elements from datasets obtained from the EBI EGA data repository; •Agree to the listing of a summary of approved research uses within the NIH GWAS data repository along with his or her name and organizational affiliation; •Agree to report, in real time, violations of the EBI EGA policy to the appropriate DAC;•Acknowledge the EBI EGA policy with regard to publication and intellectual property.</POLICY_TEXT>  </POLICY></POLICY_SET>\",\n",
       "    'xmlRootElement': None}],\n",
       "  'resultType': 'eu.crg.ega.microservice.dto.submitter.PolicyData'}}"
      ]
     },
     "execution_count": 10,
     "metadata": {},
     "output_type": "execute_result"
    }
   ],
   "source": [
    "policies_single = s.get(root_url+'policies/EGAP00001000228')\n",
    "json.loads(policies_single.text)"
   ]
  },
  {
   "cell_type": "markdown",
   "metadata": {},
   "source": [
    "### Runs"
   ]
  },
  {
   "cell_type": "code",
   "execution_count": 11,
   "metadata": {
    "collapsed": true
   },
   "outputs": [],
   "source": [
    "runs_all = s.get(root_url+'runs')\n",
    "runs_all_json = json.loads(runs_all.text)"
   ]
  },
  {
   "cell_type": "code",
   "execution_count": 12,
   "metadata": {
    "collapsed": false,
    "scrolled": false
   },
   "outputs": [
    {
     "data": {
      "text/plain": [
       "['EGAR00001133823',\n",
       " 'EGAR00001305188',\n",
       " 'EGAR00001129538',\n",
       " 'EGAR00001347438',\n",
       " 'EGAR00001340990',\n",
       " 'EGAR00001205664',\n",
       " 'EGAR00001242797',\n",
       " 'EGAR00001291988',\n",
       " 'EGAR00001067703',\n",
       " 'EGAR00001024702']"
      ]
     },
     "execution_count": 12,
     "metadata": {},
     "output_type": "execute_result"
    }
   ],
   "source": [
    "# List runs ids\n",
    "[item['egaAccessionId'] for item in runs_all_json['response']['result']]"
   ]
  },
  {
   "cell_type": "code",
   "execution_count": 13,
   "metadata": {
    "collapsed": false
   },
   "outputs": [
    {
     "data": {
      "text/plain": [
       "{'header': {'apiVersion': 'v1',\n",
       "  'code': '200',\n",
       "  'developerMessage': '',\n",
       "  'docLink': 'https://ega.crg.eu',\n",
       "  'errorCode': '1',\n",
       "  'errorStack': '',\n",
       "  'service': 'catalogservice',\n",
       "  'userMessage': 'OK'},\n",
       " 'response': {'numTotalResults': 1,\n",
       "  'result': [{'alias': 'SC_RUN_9916_6#53',\n",
       "    'centerName': 'SC',\n",
       "    'creationTime': 1378192116000,\n",
       "    'ebiId': 'ERR337184',\n",
       "    'ebiSubmissionDetailsIds': None,\n",
       "    'editionTime': 1378192116000,\n",
       "    'egaAccessionId': 'EGAR00001133823',\n",
       "    'eraSubmissionId': 'ERA248725',\n",
       "    'experimentId': 'ERX310089',\n",
       "    'files': [{'checksum': None,\n",
       "      'checksumMethod': None,\n",
       "      'fileId': None,\n",
       "      'fileName': '9916_6#53.bam.gpg',\n",
       "      'source': None,\n",
       "      'unencryptedChecksum': None}],\n",
       "    'firstPublic': 1462898912762,\n",
       "    'generatedExperimentId': None,\n",
       "    'id': 'ERR337184',\n",
       "    'json': '\"\"',\n",
       "    'runFileType': 'bam',\n",
       "    'runFileTypeId': None,\n",
       "    'sampleAlias': None,\n",
       "    'sampleId': None,\n",
       "    'status': 'SUBMITTED',\n",
       "    'submissionCommandIds': None,\n",
       "    'submissionErrorMessages': None,\n",
       "    'submissionId': 'ERA248725',\n",
       "    'submissionInfoMessages': None,\n",
       "    'submitterId': 'ega-box-03',\n",
       "    'userId': None,\n",
       "    'validationErrorMessages': None,\n",
       "    'validationResult': False,\n",
       "    'version': 1,\n",
       "    'xml': \"<RUN_SET>  <RUN alias='SC_RUN_9916_6#53' center_name='SC' accession='ERR337184' broker_name='EGA' xmlns:xsi='http://www.w3.org/2001/XMLSchema-instance'>    <IDENTIFIERS>      <PRIMARY_ID>ERR337184</PRIMARY_ID>      <SUBMITTER_ID namespace='SC'>SC_RUN_9916_6#53</SUBMITTER_ID>    </IDENTIFIERS>    <EXPERIMENT_REF refname='SC_EXP_9916_6#53' refcenter='SC' accession='ERX310089'>      <IDENTIFIERS>        <PRIMARY_ID>ERX310089</PRIMARY_ID>        <SUBMITTER_ID namespace='SC'>SC_EXP_9916_6#53</SUBMITTER_ID>      </IDENTIFIERS>    </EXPERIMENT_REF>    <DATA_BLOCK>      <FILES>        <FILE filename='9916_6#53.bam.gpg' filetype='bam' checksum_method='MD5' checksum='191ca9c3797e6f2d47c1f5fa06a3fd3b' unencrypted_checksum='7a757a1f9190b2eef51054fb4cc9d9af'/>      </FILES>    </DATA_BLOCK>  </RUN></RUN_SET>\",\n",
       "    'xmlRootElement': None}],\n",
       "  'resultType': 'eu.crg.ega.microservice.dto.submitter.RunData'}}"
      ]
     },
     "execution_count": 13,
     "metadata": {},
     "output_type": "execute_result"
    }
   ],
   "source": [
    "runs_single = s.get(root_url+'runs/EGAR00001133823')\n",
    "json.loads(runs_single.text)"
   ]
  },
  {
   "cell_type": "code",
   "execution_count": null,
   "metadata": {
    "collapsed": true
   },
   "outputs": [],
   "source": [
    "runs_single = s.get(root_url+'runs/EGAR00001133824')\n",
    "json.loads(runs_single.text)"
   ]
  },
  {
   "cell_type": "markdown",
   "metadata": {},
   "source": [
    "### Samples"
   ]
  },
  {
   "cell_type": "code",
   "execution_count": 14,
   "metadata": {
    "collapsed": true
   },
   "outputs": [],
   "source": [
    "samples_all = s.get(root_url+'samples')\n",
    "samples_all_json = json.loads(samples_all.text)"
   ]
  },
  {
   "cell_type": "code",
   "execution_count": 15,
   "metadata": {
    "collapsed": true
   },
   "outputs": [
    {
     "data": {
      "text/plain": [
       "['EGAN00001150966',\n",
       " 'EGAN00001126446',\n",
       " 'EGAN00001138199',\n",
       " 'EGAN00001133869',\n",
       " 'EGAN00001154692',\n",
       " 'EGAN00001111905',\n",
       " 'EGAN00001158099',\n",
       " 'EGAN00001158436',\n",
       " 'EGAN00001150517',\n",
       " 'EGAN00001159764']"
      ]
     },
     "execution_count": 15,
     "metadata": {},
     "output_type": "execute_result"
    }
   ],
   "source": [
    "# List samples ids\n",
    "[item['egaAccessionId'] for item in samples_all_json['response']['result']]"
   ]
  },
  {
   "cell_type": "code",
   "execution_count": 16,
   "metadata": {
    "collapsed": false
   },
   "outputs": [
    {
     "data": {
      "text/plain": [
       "{'header': {'apiVersion': 'v1',\n",
       "  'code': '200',\n",
       "  'developerMessage': '',\n",
       "  'docLink': 'https://ega.crg.eu',\n",
       "  'errorCode': '1',\n",
       "  'errorStack': '',\n",
       "  'service': 'catalogservice',\n",
       "  'userMessage': 'OK'},\n",
       " 'response': {'numTotalResults': 1,\n",
       "  'result': [{'alias': 'sample20645',\n",
       "    'anonymizedName': None,\n",
       "    'attributes': None,\n",
       "    'bioSampleId': 'SAMEA2119535',\n",
       "    'caseOrControl': None,\n",
       "    'caseOrControlId': None,\n",
       "    'cellLine': None,\n",
       "    'centerName': 'SMD',\n",
       "    'creationTime': 1371500468000,\n",
       "    'description': None,\n",
       "    'ebiId': 'ERS287903',\n",
       "    'ebiSubmissionDetailsIds': None,\n",
       "    'editionTime': 1371500468000,\n",
       "    'egaAccessionId': 'EGAN00001138199',\n",
       "    'eraSubmissionId': 'ERA227653',\n",
       "    'firstPublic': 1462899126703,\n",
       "    'gender': None,\n",
       "    'genderId': None,\n",
       "    'id': 'ERS287903',\n",
       "    'json': '\"\"',\n",
       "    'organismPart': None,\n",
       "    'phenotype': None,\n",
       "    'region': None,\n",
       "    'sampleAge': None,\n",
       "    'sampleDetail': None,\n",
       "    'status': 'SUBMITTED',\n",
       "    'subjectId': None,\n",
       "    'submissionCommandIds': None,\n",
       "    'submissionErrorMessages': None,\n",
       "    'submissionId': 'ERA227653',\n",
       "    'submissionInfoMessages': None,\n",
       "    'submitterId': 'ega-box-29',\n",
       "    'title': None,\n",
       "    'userId': None,\n",
       "    'validationErrorMessages': None,\n",
       "    'validationResult': False,\n",
       "    'version': 1,\n",
       "    'xml': \"<SAMPLE_SET>  <SAMPLE alias='sample20645' center_name='SMD' broker_name='EGA' accession='ERS287903'>    <IDENTIFIERS>      <PRIMARY_ID>ERS287903</PRIMARY_ID>      <SUBMITTER_ID namespace='SMD'>sample20645</SUBMITTER_ID>    </IDENTIFIERS>    <SAMPLE_NAME>      <TAXON_ID>9606</TAXON_ID>      <SCIENTIFIC_NAME>Homo sapiens</SCIENTIFIC_NAME>      <COMMON_NAME>human</COMMON_NAME>    </SAMPLE_NAME>  </SAMPLE></SAMPLE_SET>\",\n",
       "    'xmlRootElement': None}],\n",
       "  'resultType': 'eu.crg.ega.microservice.dto.submitter.SampleData'}}"
      ]
     },
     "execution_count": 16,
     "metadata": {},
     "output_type": "execute_result"
    }
   ],
   "source": [
    "samples_single = s.get(root_url+'samples/EGAN00001138199')\n",
    "json.loads(samples_single.text)"
   ]
  },
  {
   "cell_type": "markdown",
   "metadata": {},
   "source": [
    "### Studies"
   ]
  },
  {
   "cell_type": "code",
   "execution_count": 17,
   "metadata": {
    "collapsed": true
   },
   "outputs": [],
   "source": [
    "studies_all = s.get(root_url+'studies')\n",
    "studies_all_json = json.loads(studies_all.text)"
   ]
  },
  {
   "cell_type": "code",
   "execution_count": 18,
   "metadata": {
    "collapsed": false
   },
   "outputs": [
    {
     "data": {
      "text/plain": [
       "['EGAS00001001225',\n",
       " 'EGAS00001001472',\n",
       " 'EGAS00001001177',\n",
       " 'EGAS00001000762',\n",
       " 'EGAS00001000544',\n",
       " 'EGAS00001000421',\n",
       " 'EGAS00001000835',\n",
       " 'EGAS00001000345',\n",
       " 'EGAS00001000012',\n",
       " 'EGAS00001001052']"
      ]
     },
     "execution_count": 18,
     "metadata": {},
     "output_type": "execute_result"
    }
   ],
   "source": [
    "# List samples ids\n",
    "[item['egaAccessionId'] for item in studies_all_json['response']['result']]"
   ]
  },
  {
   "cell_type": "code",
   "execution_count": 19,
   "metadata": {
    "collapsed": false
   },
   "outputs": [
    {
     "data": {
      "text/plain": [
       "{'header': {'apiVersion': 'v1',\n",
       "  'code': '200',\n",
       "  'developerMessage': '',\n",
       "  'docLink': 'https://ega.crg.eu',\n",
       "  'errorCode': '1',\n",
       "  'errorStack': '',\n",
       "  'service': 'catalogservice',\n",
       "  'userMessage': 'OK'},\n",
       " 'response': {'numTotalResults': 1,\n",
       "  'result': [{'alias': 'Paroxysmal_Neurological_Disorders___rare_epilepsies-sc-2013-01-30T13:52:40Z-2514',\n",
       "    'centerName': 'SC',\n",
       "    'creationTime': 1359550361000,\n",
       "    'customTags': None,\n",
       "    'ebiId': 'ERP002182',\n",
       "    'ebiSubmissionDetailsIds': None,\n",
       "    'editionTime': 1359550361000,\n",
       "    'egaAccessionId': 'EGAS00001000421',\n",
       "    'eraSubmissionId': 'ERA192047',\n",
       "    'firstPublic': 1462899422293,\n",
       "    'id': 'ERP002182',\n",
       "    'json': '\"\"',\n",
       "    'ownTerm': 'Exome Sequencing',\n",
       "    'pubMedIds': None,\n",
       "    'shortName': '',\n",
       "    'status': 'SUBMITTED',\n",
       "    'studyAbstract': 'We are sequencing the exomes of patients with paroxysmal neurological disorders mainly focusing on migraine and epilepsy. Cases are collected from performance sites of members of  EuroEPINOMICS. Most cases have a strong family history. The study sample will include both cases and controls.',\n",
       "    'studyType': 'Other',\n",
       "    'studyTypeId': None,\n",
       "    'submissionCommandIds': None,\n",
       "    'submissionErrorMessages': None,\n",
       "    'submissionId': 'ERA192047',\n",
       "    'submissionInfoMessages': None,\n",
       "    'submitterId': 'ega-box-03',\n",
       "    'title': 'Paroxysmal_Neurological_Disorders___rare_epilepsies',\n",
       "    'userId': None,\n",
       "    'validationErrorMessages': None,\n",
       "    'validationResult': False,\n",
       "    'version': 1,\n",
       "    'xml': \"<STUDY_SET>  <STUDY alias='Paroxysmal_Neurological_Disorders___rare_epilepsies-sc-2013-01-30T13:52:40Z-2514' accession='ERP002182' center_name='SC' broker_name='EGA' xmlns:xsi='http://www.w3.org/2001/XMLSchema-instance'>    <IDENTIFIERS>      <PRIMARY_ID>ERP002182</PRIMARY_ID>      <SUBMITTER_ID namespace='SC'>Paroxysmal_Neurological_Disorders___rare_epilepsies-sc-2013-01-30T13:52:40Z-2514</SUBMITTER_ID>    </IDENTIFIERS>    <DESCRIPTOR>      <STUDY_TITLE>Paroxysmal_Neurological_Disorders___rare_epilepsies</STUDY_TITLE>      <STUDY_DESCRIPTION>We are sequencing the exomes of patients with paroxysmal neurological disorders mainly focusing on migraine and epilepsy. Cases are collected from performance sites of members of  EuroEPINOMICS. Most cases have a strong family history. The study sample will include both cases and controls.</STUDY_DESCRIPTION>      <CENTER_PROJECT_NAME>Paroxysmal_Neurological_Disorders___rare_epilepsies</CENTER_PROJECT_NAME>      <STUDY_ABSTRACT>We are sequencing the exomes of patients with paroxysmal neurological disorders mainly focusing on migraine and epilepsy. Cases are collected from performance sites of members of  EuroEPINOMICS. Most cases have a strong family history. The study sample will include both cases and controls.</STUDY_ABSTRACT>      <STUDY_TYPE existing_study_type='Other' new_study_type='Exome Sequencing'/>      <RELATED_STUDIES>        <RELATED_STUDY>          <RELATED_LINK>            <DB>PROJECT</DB>            <ID>2514</ID>          </RELATED_LINK>          <IS_PRIMARY>false</IS_PRIMARY>        </RELATED_STUDY>      </RELATED_STUDIES>    </DESCRIPTOR>  </STUDY></STUDY_SET>\",\n",
       "    'xmlRootElement': None}],\n",
       "  'resultType': 'eu.crg.ega.microservice.dto.submitter.StudyData'}}"
      ]
     },
     "execution_count": 19,
     "metadata": {},
     "output_type": "execute_result"
    }
   ],
   "source": [
    "studies_single = s.get(root_url+'studies/EGAS00001000421')\n",
    "json.loads(studies_single.text)"
   ]
  },
  {
   "cell_type": "code",
   "execution_count": 20,
   "metadata": {
    "collapsed": false
   },
   "outputs": [
    {
     "data": {
      "text/plain": [
       "{'header': {'apiVersion': 'v1',\n",
       "  'code': '200',\n",
       "  'developerMessage': '',\n",
       "  'docLink': 'https://ega.crg.eu',\n",
       "  'errorCode': '1',\n",
       "  'errorStack': '',\n",
       "  'service': 'catalogservice',\n",
       "  'userMessage': 'OK'},\n",
       " 'response': {'numTotalResults': 1,\n",
       "  'result': [{'alias': 'ChIP_Seq_of_different_histone_modifications_in_human_primary_megakaryocytes_and_erythroblasts_and_in_a_human_megakaryocytic_cell_line__CHRF__-sc-2013-01-31T10:15:55Z-1694',\n",
       "    'centerName': 'SC',\n",
       "    'creationTime': 1359623756000,\n",
       "    'customTags': None,\n",
       "    'ebiId': 'ERP002186',\n",
       "    'ebiSubmissionDetailsIds': None,\n",
       "    'editionTime': 1359623756000,\n",
       "    'egaAccessionId': 'EGAS00001000422',\n",
       "    'eraSubmissionId': 'ERA192170',\n",
       "    'firstPublic': 1462899482219,\n",
       "    'id': 'ERP002186',\n",
       "    'json': '\"\"',\n",
       "    'ownTerm': '',\n",
       "    'pubMedIds': None,\n",
       "    'shortName': '',\n",
       "    'status': 'SUBMITTED',\n",
       "    'studyAbstract': 'Study of the transcription factor NF-E2 important for hematopoiesis in human megakaryocytes and erythroblasts as well as study of histone marks in human megakaryocytic and erythroblastic cells and cell lines.',\n",
       "    'studyType': 'Epigenetics',\n",
       "    'studyTypeId': None,\n",
       "    'submissionCommandIds': None,\n",
       "    'submissionErrorMessages': None,\n",
       "    'submissionId': 'ERA192170',\n",
       "    'submissionInfoMessages': None,\n",
       "    'submitterId': 'ega-box-03',\n",
       "    'title': 'ChIP_Seq_of_different_histone_modifications_in_human_primary_megakaryocytes_and_erythroblasts_and_in_a_human_megakaryocytic_cell_line__CHRF__',\n",
       "    'userId': None,\n",
       "    'validationErrorMessages': None,\n",
       "    'validationResult': False,\n",
       "    'version': 1,\n",
       "    'xml': \"<STUDY_SET>  <STUDY alias='ChIP_Seq_of_different_histone_modifications_in_human_primary_megakaryocytes_and_erythroblasts_and_in_a_human_megakaryocytic_cell_line__CHRF__-sc-2013-01-31T10:15:55Z-1694' accession='ERP002186' center_name='SC' broker_name='EGA' xmlns:xsi='http://www.w3.org/2001/XMLSchema-instance'>    <IDENTIFIERS>      <PRIMARY_ID>ERP002186</PRIMARY_ID>      <SUBMITTER_ID namespace='SC'>ChIP_Seq_of_different_histone_modifications_in_human_primary_megakaryocytes_and_erythroblasts_and_in_a_human_megakaryocytic_cell_line__CHRF__-sc-2013-01-31T10:15:55Z-1694</SUBMITTER_ID>    </IDENTIFIERS>    <DESCRIPTOR>      <STUDY_TITLE>ChIP_Seq_of_different_histone_modifications_in_human_primary_megakaryocytes_and_erythroblasts_and_in_a_human_megakaryocytic_cell_line__CHRF__</STUDY_TITLE>      <STUDY_DESCRIPTION>Study of the transcription factor NF-E2 important for hematopoiesis in human megakaryocytes and erythroblasts as well as study of histone marks in human megakaryocytic and erythroblastic cells and cell lines.</STUDY_DESCRIPTION>      <CENTER_PROJECT_NAME>ChIP_Seq_of_different_histone_modifications_in_human_primary_megakaryocytes_and_erythroblasts_and_in_a_human_megakaryocytic_cell_line__CHRF__</CENTER_PROJECT_NAME>      <STUDY_ABSTRACT>Study of the transcription factor NF-E2 important for hematopoiesis in human megakaryocytes and erythroblasts as well as study of histone marks in human megakaryocytic and erythroblastic cells and cell lines.</STUDY_ABSTRACT>      <STUDY_TYPE existing_study_type='Epigenetics'/>      <RELATED_STUDIES>        <RELATED_STUDY>          <RELATED_LINK>            <DB>PROJECT</DB>            <ID>1694</ID>          </RELATED_LINK>          <IS_PRIMARY>false</IS_PRIMARY>        </RELATED_STUDY>      </RELATED_STUDIES>    </DESCRIPTOR>  </STUDY></STUDY_SET>\",\n",
       "    'xmlRootElement': None}],\n",
       "  'resultType': 'eu.crg.ega.microservice.dto.submitter.StudyData'}}"
      ]
     },
     "execution_count": 20,
     "metadata": {},
     "output_type": "execute_result"
    }
   ],
   "source": [
    "studies_single = s.get(root_url+'studies/EGAS00001000422')\n",
    "json.loads(studies_single.text)"
   ]
  }
 ],
 "metadata": {
  "kernelspec": {
   "display_name": "Python 3",
   "language": "python",
   "name": "python3"
  },
  "language_info": {
   "codemirror_mode": {
    "name": "ipython",
    "version": 3
   },
   "file_extension": ".py",
   "mimetype": "text/x-python",
   "name": "python",
   "nbconvert_exporter": "python",
   "pygments_lexer": "ipython3",
   "version": "3.5.1"
  }
 },
 "nbformat": 4,
 "nbformat_minor": 0
}
